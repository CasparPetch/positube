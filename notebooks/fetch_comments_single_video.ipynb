{
 "cells": [
  {
   "cell_type": "markdown",
   "id": "2a34c7d7",
   "metadata": {},
   "source": [
    "# Fetching data from a single video"
   ]
  },
  {
   "cell_type": "markdown",
   "id": "189697f9",
   "metadata": {},
   "source": [
    "### Importing Packages"
   ]
  },
  {
   "cell_type": "code",
   "execution_count": 1,
   "id": "b138de59",
   "metadata": {},
   "outputs": [],
   "source": [
    "import pandas as pd\n",
    "import numpy as np\n",
    "import requests"
   ]
  },
  {
   "cell_type": "code",
   "execution_count": 2,
   "id": "5a7965b7",
   "metadata": {},
   "outputs": [
    {
     "data": {
      "text/plain": [
       "'SGqg_ZzThDU'"
      ]
     },
     "execution_count": 2,
     "metadata": {},
     "output_type": "execute_result"
    }
   ],
   "source": [
    "video_id = 'SGqg_ZzThDU'\n",
    "video_id"
   ]
  },
  {
   "cell_type": "markdown",
   "id": "f23e997b",
   "metadata": {},
   "source": [
    "### Defining .env and API Key"
   ]
  },
  {
   "cell_type": "code",
   "execution_count": 3,
   "id": "ff66b1c4",
   "metadata": {},
   "outputs": [],
   "source": [
    "import os\n",
    "API_KEY = os.environ.get('API_KEY')"
   ]
  },
  {
   "cell_type": "markdown",
   "id": "7302e7f8",
   "metadata": {},
   "source": [
    "### Cleaning Dataset"
   ]
  },
  {
   "cell_type": "code",
   "execution_count": 4,
   "id": "9015fcb5",
   "metadata": {},
   "outputs": [
    {
     "name": "stderr",
     "output_type": "stream",
     "text": [
      "[nltk_data] Downloading package words to\n",
      "[nltk_data]     /Users/willemduyck/nltk_data...\n",
      "[nltk_data]   Package words is already up-to-date!\n"
     ]
    }
   ],
   "source": [
    "import re\n",
    "import string\n",
    "from nltk.corpus import words\n",
    "from nltk.tokenize import word_tokenize\n",
    "from nltk import download\n",
    "download('words')\n",
    "\n",
    "def clean_and_filter(df):\n",
    "    def remove_newline(text):\n",
    "        text = text.replace('\\n', '') \n",
    "        return text\n",
    "\n",
    "    def remove_punctuation(text):\n",
    "        for punctuation in string.punctuation: \n",
    "            text = text.replace(punctuation, '') \n",
    "        return text\n",
    "\n",
    "    def lowercase (text): \n",
    "        lowercased = text.lower() \n",
    "        return lowercased\n",
    "\n",
    "    df['comment_clean'] = df.comment.apply(remove_newline)\n",
    "    df['comment_clean'] = df.comment_clean.apply(remove_punctuation)\n",
    "    df['comment_clean'] = df.comment_clean.apply(lowercase)\n",
    "    \n",
    "    english_words = set(words.words())\n",
    "    def is_english(text):\n",
    "        words_in_comment = word_tokenize(text)\n",
    "        num_words_in_comment = len(words_in_comment)\n",
    "        num_english_words_in_comment = 0\n",
    "        for word in words_in_comment:\n",
    "            if word in english_words:\n",
    "                num_english_words_in_comment += 1\n",
    "        english = False\n",
    "        if num_words_in_comment > 0:\n",
    "            if num_english_words_in_comment/num_words_in_comment >= 0.3:\n",
    "                english = True\n",
    "            return english\n",
    "        else:\n",
    "            return False\n",
    "    \n",
    "    def english_only(df):\n",
    "        df['english'] = df['comment_clean'].apply(is_english)\n",
    "        return df\n",
    "\n",
    "    df = english_only(df)\n",
    "    \n",
    "    def remove_non_english_symbols(text):\n",
    "        english_pattern = re.compile(r'[^a-zA-Z0-9\\s\\U0001F600-\\U0001F64F\\U0001F300-\\U0001F5FF\\U0001F680-\\U0001F6FF\\U0001F1E0-\\U0001F1FF\\U00002702-\\U000027B0\\U000024C2-\\U0001F251]')\n",
    "        cleaned_text = re.sub(english_pattern, '', text)\n",
    "        return cleaned_text\n",
    "    \n",
    "    \n",
    "    df['comment_clean'] = df.comment_clean.apply(remove_non_english_symbols)\n",
    "    \n",
    "    return df[df[\"english\"] == True]"
   ]
  },
  {
   "cell_type": "markdown",
   "id": "f5ad4103",
   "metadata": {},
   "source": [
    "### Genre Dictionary"
   ]
  },
  {
   "cell_type": "code",
   "execution_count": 5,
   "id": "9cf6f6d6",
   "metadata": {},
   "outputs": [],
   "source": [
    "genre_dict = {\n",
    "    \"1\":\"Film & Animation\",\n",
    "    \"2\":\"Autos & Vehicles\",\n",
    "    \"10\":\"Music\",\n",
    "    \"15\":\"Pets & Animals\",\n",
    "    \"17\":\"Sports\",\n",
    "    \"18\":\"Short Movies\",\n",
    "    \"19\":\"Travel & Events\",\n",
    "    \"20\":\"Gaming\",\n",
    "    \"21\":\"Videoblogging\",\n",
    "    \"22\":\"People & Blogs\",\n",
    "    \"23\":\"Comedy\",\n",
    "    \"24\":\"Entertainment\",\n",
    "    \"25\":\"News & Politics\",\n",
    "    \"26\":\"Howto & Style\",\n",
    "    \"27\":\"Education\",\n",
    "    \"28\":\"Science & Technology\",\n",
    "    \"29\":\"Nonprofits & Activism\",\n",
    "    \"30\":\"Movies\",\n",
    "    \"31\":\"Anime/Animation\",\n",
    "    \"32\":\"Action/Adventure\",\n",
    "    \"33\":\"Classics\",\n",
    "    \"34\":\"Comedy\",\n",
    "    \"35\":\"Documentary\",\n",
    "    \"36\":\"Drama\",\n",
    "    \"37\":\"Family\",\n",
    "    \"38\":\"Foreign\",\n",
    "    \"39\":\"Horror\",\n",
    "    \"40\":\"Sci-Fi/Fantasy\",\n",
    "    \"41\":\"Thriller\",\n",
    "    \"42\":\"Shorts\",\n",
    "    \"43\":\"Shows\",\n",
    "    \"44\":\"Trailers\"\n",
    "}"
   ]
  },
  {
   "cell_type": "markdown",
   "id": "fbed7b70",
   "metadata": {},
   "source": [
    "### Fetching Relevant Comments Function"
   ]
  },
  {
   "cell_type": "code",
   "execution_count": 6,
   "id": "7c30c4b2",
   "metadata": {},
   "outputs": [],
   "source": [
    "def fetch_comments_relevance(video_id, api_key):\n",
    "    url = f\"https://www.googleapis.com/youtube/v3/commentThreads?part=snippet&videoId={video_id}&key={api_key}&maxResults=100&order=relevance\"\n",
    "    comments = []\n",
    "    nextPageToken = None\n",
    "    iter_number = 0\n",
    "    token_count = 0\n",
    "    while len(comments) < 5000:\n",
    "        print(f\"Tokens used: {token_count}\")\n",
    "        \n",
    "        if nextPageToken:\n",
    "            url = f\"https://www.googleapis.com/youtube/v3/commentThreads?part=snippet&videoId={video_id}&key={api_key}&maxResults=100&order=relevance\"\n",
    "            url += f\"&pageToken={nextPageToken}\"\n",
    "        \n",
    "        response = requests.get(url)\n",
    "        token_count += 1\n",
    "        try:\n",
    "            data = response.json()\n",
    "        except ValueError:\n",
    "            print(f\"{url} failed!\")\n",
    "\n",
    "\n",
    "        error = data.get(\"error\", False)\n",
    "        if error:\n",
    "            return [\"\"]\n",
    "\n",
    "        for item in data.get(\"items\", []):\n",
    "            if item:\n",
    "                comment = item[\"snippet\"][\"topLevelComment\"][\"snippet\"][\"textOriginal\"]\n",
    "                author = item[\"snippet\"][\"topLevelComment\"][\"snippet\"][\"authorDisplayName\"]\n",
    "                likecount = item[\"snippet\"][\"topLevelComment\"][\"snippet\"][\"likeCount\"]\n",
    "                date = item[\"snippet\"][\"topLevelComment\"][\"snippet\"][\"publishedAt\"]\n",
    "                replies = item[\"snippet\"][\"totalReplyCount\"]\n",
    "                dict_ = {\"comment\": comment, \"author\": author, \"likecount\": likecount, \"date\": date, \"replies\": replies}\n",
    "\n",
    "                if comment is not None and pd.to_datetime(date).year <= 2021:\n",
    "                    cleaned_comment = clean_and_filter(pd.DataFrame([comment],columns=[\"comment\"]))\n",
    "                    if not cleaned_comment.empty:\n",
    "                        if cleaned_comment[\"english\"][0] == True:\n",
    "                            dict_[\"comment_clean\"] = cleaned_comment[\"comment_clean\"]\n",
    "                            comments.append(dict_)\n",
    "        nextPageToken = data.get(\"nextPageToken\", None)\n",
    "        if not nextPageToken or iter_number >= 100:\n",
    "            break\n",
    "        if iter_number == 0:\n",
    "            if len(comments) < 5:\n",
    "                break\n",
    "        iter_number += 1\n",
    "    \n",
    "    return comments"
   ]
  },
  {
   "cell_type": "markdown",
   "id": "7611c0df",
   "metadata": {},
   "source": [
    "### Fetching Stats Function"
   ]
  },
  {
   "cell_type": "code",
   "execution_count": 7,
   "id": "fa654f9e",
   "metadata": {},
   "outputs": [],
   "source": [
    "def fetch_stats(video_id, api_key):\n",
    "    url = f\"https://www.googleapis.com/youtube/v3/videos?part=statistics&id={video_id}&key={api_key}\"\n",
    "    \n",
    "    response = requests.get(url)\n",
    "#     print(response.status_code)\n",
    "    try:\n",
    "        data = response.json()\n",
    "    except ValueError:\n",
    "        print(f\"{url} failed!\")\n",
    "    error = data.get(\"error\",False)\n",
    "    if not error:\n",
    "        data = data.get(\"items\",False)\n",
    "        if data:\n",
    "            views = data[0][\"statistics\"][\"viewCount\"]\n",
    "            likes = data[0][\"statistics\"][\"likeCount\"]\n",
    "            comments = data[0][\"statistics\"].get(\"commentCount\",0)\n",
    "            dict_ = {\"views\":[views], \"likes\":[likes], \"comments\":[comments]}\n",
    "            return dict_\n",
    "        return {}\n",
    "    else:\n",
    "        return {}"
   ]
  },
  {
   "cell_type": "markdown",
   "id": "25f06c29",
   "metadata": {},
   "source": [
    "### Fetching Details Function"
   ]
  },
  {
   "cell_type": "code",
   "execution_count": 8,
   "id": "909ce6d9",
   "metadata": {},
   "outputs": [],
   "source": [
    "def fetch_details(video_id, api_key):\n",
    "    url = f\"https://www.googleapis.com/youtube/v3/videos?part=snippet&id={video_id}&key={api_key}\"\n",
    "    \n",
    "    response = requests.get(url)\n",
    "#     print(response.status_code)\n",
    "    try:\n",
    "        data = response.json()\n",
    "    except ValueError:\n",
    "        print(f\"{url} failed!\")\n",
    "    error = data.get(\"error\",False)\n",
    "    if not error:\n",
    "        data = data.get(\"items\",False)\n",
    "        if data:\n",
    "            date = data[0][\"snippet\"][\"publishedAt\"]\n",
    "            channel_id = data[0][\"snippet\"][\"channelId\"]\n",
    "            title = data[0][\"snippet\"][\"title\"]\n",
    "            description = data[0][\"snippet\"][\"description\"]\n",
    "            thumbnail = data[0][\"snippet\"][\"thumbnails\"][\"maxres\"][\"url\"]\n",
    "            channel_title = data[0][\"snippet\"][\"channelTitle\"]\n",
    "            tags = data[0][\"snippet\"].get(\"tags\",[\"\"])\n",
    "            genre = genre_dict[data[0][\"snippet\"][\"categoryId\"]]\n",
    "            language = data[0][\"snippet\"].get(\"defaultAudioLanguage\",\"\")\n",
    "            dict_ = {\"date\":date, \"channel_id\":channel_id, \"title\":title, \"description\":description, \"thumbnail\":thumbnail,\"channel_title\":channel_title, \"tags\":[tags], \"genre\":genre, \"language\":language}\n",
    "            return dict_\n",
    "        return {}\n",
    "    else:\n",
    "        return {}"
   ]
  },
  {
   "cell_type": "markdown",
   "id": "d70fe057",
   "metadata": {},
   "source": [
    "### Fetch Channel Details"
   ]
  },
  {
   "cell_type": "code",
   "execution_count": 9,
   "id": "6027e0ff",
   "metadata": {},
   "outputs": [],
   "source": [
    "def fetch_channel(channel_id, api_key):\n",
    "    url = f\"https://www.googleapis.com/youtube/v3/channels?part=statistics&id={channel_id}&key={api_key}\"\n",
    "    \n",
    "    response = requests.get(url)\n",
    "#     print(response.status_code)\n",
    "    try:\n",
    "        data = response.json()\n",
    "    except ValueError:\n",
    "        print(f\"{url} failed!\")\n",
    "    error = data.get(\"error\",False)\n",
    "    if not error:\n",
    "        data = data.get(\"items\",False)\n",
    "        if data:\n",
    "            view_count = data[0]['statistics']['viewCount']\n",
    "            subscriber_count = data[0]['statistics']['subscriberCount']\n",
    "            video_count = data[0]['statistics']['videoCount']\n",
    "            dict_ = {\"viewCount\":view_count, \"subscriberCount\":subscriber_count, \"videoCount\":video_count}\n",
    "            return dict_\n",
    "        return {}\n",
    "    else:\n",
    "        return {}"
   ]
  },
  {
   "cell_type": "markdown",
   "id": "18712c0c",
   "metadata": {},
   "source": [
    "### Fetching and Storing in CSV"
   ]
  },
  {
   "cell_type": "code",
   "execution_count": 10,
   "id": "745e55a1",
   "metadata": {},
   "outputs": [],
   "source": [
    "def fetch_all_info(video_id, api_key):\n",
    "    details = pd.DataFrame(fetch_details(video_id, api_key))\n",
    "    comments_relevance = pd.DataFrame(fetch_comments_relevance(video_id, api_key))\n",
    "    stats = pd.DataFrame(fetch_stats(video_id, api_key))\n",
    "    channel = pd.DataFrame([fetch_channel(details['channel_id'][0], api_key)])\n",
    "    info_all = pd.concat([stats,details],axis=1)\n",
    "    comments_relevance[\"video_id\"] = video_id\n",
    "    info_all[\"video_id\"] = video_id\n",
    "    return comments_relevance, info_all, channel"
   ]
  },
  {
   "cell_type": "code",
   "execution_count": 11,
   "id": "bcd6e06f",
   "metadata": {
    "scrolled": true
   },
   "outputs": [
    {
     "name": "stdout",
     "output_type": "stream",
     "text": [
      "SGqg_ZzThDU\n",
      "Tokens used: 0\n",
      "Tokens used: 1\n",
      "Tokens used: 2\n",
      "Tokens used: 3\n",
      "Tokens used: 4\n",
      "Tokens used: 5\n",
      "Tokens used: 6\n",
      "Tokens used: 7\n",
      "Tokens used: 8\n",
      "Tokens used: 9\n",
      "Tokens used: 10\n",
      "Tokens used: 11\n",
      "Tokens used: 12\n",
      "Tokens used: 13\n"
     ]
    }
   ],
   "source": [
    "print(video_id)\n",
    "result = fetch_all_info(video_id, API_KEY)\n",
    "if result:\n",
    "    comment, info, channel = result"
   ]
  },
  {
   "cell_type": "code",
   "execution_count": 12,
   "id": "0e372273",
   "metadata": {},
   "outputs": [
    {
     "data": {
      "text/html": [
       "<div>\n",
       "<style scoped>\n",
       "    .dataframe tbody tr th:only-of-type {\n",
       "        vertical-align: middle;\n",
       "    }\n",
       "\n",
       "    .dataframe tbody tr th {\n",
       "        vertical-align: top;\n",
       "    }\n",
       "\n",
       "    .dataframe thead th {\n",
       "        text-align: right;\n",
       "    }\n",
       "</style>\n",
       "<table border=\"1\" class=\"dataframe\">\n",
       "  <thead>\n",
       "    <tr style=\"text-align: right;\">\n",
       "      <th></th>\n",
       "      <th>comment</th>\n",
       "      <th>author</th>\n",
       "      <th>likecount</th>\n",
       "      <th>date</th>\n",
       "      <th>replies</th>\n",
       "      <th>comment_clean</th>\n",
       "      <th>video_id</th>\n",
       "    </tr>\n",
       "  </thead>\n",
       "  <tbody>\n",
       "    <tr>\n",
       "      <th>0</th>\n",
       "      <td>Tracklist:\\n00:00   Pablo Fierro - Kalaa (Orig...</td>\n",
       "      <td>Take It Easy</td>\n",
       "      <td>4053</td>\n",
       "      <td>2018-08-26T14:04:43Z</td>\n",
       "      <td>196</td>\n",
       "      <td>0    tracklist0000   pablo fierro  kalaa origi...</td>\n",
       "      <td>SGqg_ZzThDU</td>\n",
       "    </tr>\n",
       "    <tr>\n",
       "      <th>1</th>\n",
       "      <td>I've probably overplayed this set way too many...</td>\n",
       "      <td>Henri Toukkari</td>\n",
       "      <td>350</td>\n",
       "      <td>2021-11-21T22:36:55Z</td>\n",
       "      <td>5</td>\n",
       "      <td>0    ive probably overplayed this set way too ...</td>\n",
       "      <td>SGqg_ZzThDU</td>\n",
       "    </tr>\n",
       "    <tr>\n",
       "      <th>2</th>\n",
       "      <td>If this man would play at my funeral I'd  wake up</td>\n",
       "      <td>Energy Sheriff</td>\n",
       "      <td>921</td>\n",
       "      <td>2020-07-01T11:04:09Z</td>\n",
       "      <td>30</td>\n",
       "      <td>0    if this man would play at my funeral id  ...</td>\n",
       "      <td>SGqg_ZzThDU</td>\n",
       "    </tr>\n",
       "    <tr>\n",
       "      <th>3</th>\n",
       "      <td>Sunday morning in Greece, raining heavily and ...</td>\n",
       "      <td>Sophia Lotsari</td>\n",
       "      <td>180</td>\n",
       "      <td>2021-12-12T11:42:00Z</td>\n",
       "      <td>5</td>\n",
       "      <td>0    sunday morning in greece raining heavily ...</td>\n",
       "      <td>SGqg_ZzThDU</td>\n",
       "    </tr>\n",
       "    <tr>\n",
       "      <th>4</th>\n",
       "      <td>Black coffees transitions are truly an art tha...</td>\n",
       "      <td>Keanan Trethewey</td>\n",
       "      <td>391</td>\n",
       "      <td>2020-11-08T18:06:41Z</td>\n",
       "      <td>16</td>\n",
       "      <td>0    black coffees transitions are truly an ar...</td>\n",
       "      <td>SGqg_ZzThDU</td>\n",
       "    </tr>\n",
       "    <tr>\n",
       "      <th>...</th>\n",
       "      <td>...</td>\n",
       "      <td>...</td>\n",
       "      <td>...</td>\n",
       "      <td>...</td>\n",
       "      <td>...</td>\n",
       "      <td>...</td>\n",
       "      <td>...</td>\n",
       "    </tr>\n",
       "    <tr>\n",
       "      <th>296</th>\n",
       "      <td>Who else is back here because of that Kabza De...</td>\n",
       "      <td>Mahlatse</td>\n",
       "      <td>76</td>\n",
       "      <td>2020-12-18T16:01:24Z</td>\n",
       "      <td>8</td>\n",
       "      <td>0    who else is back here because of that kab...</td>\n",
       "      <td>SGqg_ZzThDU</td>\n",
       "    </tr>\n",
       "    <tr>\n",
       "      <th>297</th>\n",
       "      <td>28:34 Call the police, he's killing everyone.....</td>\n",
       "      <td>Thebe Phele</td>\n",
       "      <td>31</td>\n",
       "      <td>2019-11-25T19:02:27Z</td>\n",
       "      <td>1</td>\n",
       "      <td>0    2834 call the police hes killing everyone...</td>\n",
       "      <td>SGqg_ZzThDU</td>\n",
       "    </tr>\n",
       "    <tr>\n",
       "      <th>298</th>\n",
       "      <td>38:18 4 times in a row my cat froze and looked...</td>\n",
       "      <td>o Ðjeezus</td>\n",
       "      <td>38</td>\n",
       "      <td>2019-07-03T23:20:36Z</td>\n",
       "      <td>0</td>\n",
       "      <td>0    3818 4 times in a row my cat froze and lo...</td>\n",
       "      <td>SGqg_ZzThDU</td>\n",
       "    </tr>\n",
       "    <tr>\n",
       "      <th>299</th>\n",
       "      <td>load shedding i ain't afraid of you anymore , ...</td>\n",
       "      <td>Wandile Luthuli</td>\n",
       "      <td>22</td>\n",
       "      <td>2019-07-13T09:57:51Z</td>\n",
       "      <td>1</td>\n",
       "      <td>0    load shedding i aint afraid of you anymor...</td>\n",
       "      <td>SGqg_ZzThDU</td>\n",
       "    </tr>\n",
       "    <tr>\n",
       "      <th>300</th>\n",
       "      <td>Who's here in 2020!!!!???💋💋💋💋</td>\n",
       "      <td>Tracy Awuni-Salifu</td>\n",
       "      <td>215</td>\n",
       "      <td>2020-01-23T00:22:41Z</td>\n",
       "      <td>7</td>\n",
       "      <td>0    whos here in 2020💋💋💋💋\n",
       "Name: comment_clean...</td>\n",
       "      <td>SGqg_ZzThDU</td>\n",
       "    </tr>\n",
       "  </tbody>\n",
       "</table>\n",
       "<p>301 rows × 7 columns</p>\n",
       "</div>"
      ],
      "text/plain": [
       "                                               comment              author  \\\n",
       "0    Tracklist:\\n00:00   Pablo Fierro - Kalaa (Orig...        Take It Easy   \n",
       "1    I've probably overplayed this set way too many...      Henri Toukkari   \n",
       "2    If this man would play at my funeral I'd  wake up      Energy Sheriff   \n",
       "3    Sunday morning in Greece, raining heavily and ...      Sophia Lotsari   \n",
       "4    Black coffees transitions are truly an art tha...    Keanan Trethewey   \n",
       "..                                                 ...                 ...   \n",
       "296  Who else is back here because of that Kabza De...            Mahlatse   \n",
       "297  28:34 Call the police, he's killing everyone.....         Thebe Phele   \n",
       "298  38:18 4 times in a row my cat froze and looked...           o Ðjeezus   \n",
       "299  load shedding i ain't afraid of you anymore , ...     Wandile Luthuli   \n",
       "300                      Who's here in 2020!!!!???💋💋💋💋  Tracy Awuni-Salifu   \n",
       "\n",
       "     likecount                  date  replies  \\\n",
       "0         4053  2018-08-26T14:04:43Z      196   \n",
       "1          350  2021-11-21T22:36:55Z        5   \n",
       "2          921  2020-07-01T11:04:09Z       30   \n",
       "3          180  2021-12-12T11:42:00Z        5   \n",
       "4          391  2020-11-08T18:06:41Z       16   \n",
       "..         ...                   ...      ...   \n",
       "296         76  2020-12-18T16:01:24Z        8   \n",
       "297         31  2019-11-25T19:02:27Z        1   \n",
       "298         38  2019-07-03T23:20:36Z        0   \n",
       "299         22  2019-07-13T09:57:51Z        1   \n",
       "300        215  2020-01-23T00:22:41Z        7   \n",
       "\n",
       "                                         comment_clean     video_id  \n",
       "0    0    tracklist0000   pablo fierro  kalaa origi...  SGqg_ZzThDU  \n",
       "1    0    ive probably overplayed this set way too ...  SGqg_ZzThDU  \n",
       "2    0    if this man would play at my funeral id  ...  SGqg_ZzThDU  \n",
       "3    0    sunday morning in greece raining heavily ...  SGqg_ZzThDU  \n",
       "4    0    black coffees transitions are truly an ar...  SGqg_ZzThDU  \n",
       "..                                                 ...          ...  \n",
       "296  0    who else is back here because of that kab...  SGqg_ZzThDU  \n",
       "297  0    2834 call the police hes killing everyone...  SGqg_ZzThDU  \n",
       "298  0    3818 4 times in a row my cat froze and lo...  SGqg_ZzThDU  \n",
       "299  0    load shedding i aint afraid of you anymor...  SGqg_ZzThDU  \n",
       "300  0    whos here in 2020💋💋💋💋\n",
       "Name: comment_clean...  SGqg_ZzThDU  \n",
       "\n",
       "[301 rows x 7 columns]"
      ]
     },
     "execution_count": 12,
     "metadata": {},
     "output_type": "execute_result"
    }
   ],
   "source": [
    "comment"
   ]
  },
  {
   "cell_type": "code",
   "execution_count": 13,
   "id": "0d3c2052",
   "metadata": {},
   "outputs": [
    {
     "data": {
      "text/html": [
       "<div>\n",
       "<style scoped>\n",
       "    .dataframe tbody tr th:only-of-type {\n",
       "        vertical-align: middle;\n",
       "    }\n",
       "\n",
       "    .dataframe tbody tr th {\n",
       "        vertical-align: top;\n",
       "    }\n",
       "\n",
       "    .dataframe thead th {\n",
       "        text-align: right;\n",
       "    }\n",
       "</style>\n",
       "<table border=\"1\" class=\"dataframe\">\n",
       "  <thead>\n",
       "    <tr style=\"text-align: right;\">\n",
       "      <th></th>\n",
       "      <th>views</th>\n",
       "      <th>likes</th>\n",
       "      <th>comments</th>\n",
       "      <th>date</th>\n",
       "      <th>channel_id</th>\n",
       "      <th>title</th>\n",
       "      <th>description</th>\n",
       "      <th>thumbnail</th>\n",
       "      <th>channel_title</th>\n",
       "      <th>tags</th>\n",
       "      <th>genre</th>\n",
       "      <th>language</th>\n",
       "      <th>video_id</th>\n",
       "    </tr>\n",
       "  </thead>\n",
       "  <tbody>\n",
       "    <tr>\n",
       "      <th>0</th>\n",
       "      <td>40995615</td>\n",
       "      <td>322330</td>\n",
       "      <td>11669</td>\n",
       "      <td>2018-02-01T14:50:34Z</td>\n",
       "      <td>UCPKT_csvP72boVX0XrMtagQ</td>\n",
       "      <td>Black Coffee @ Salle Wagram in Paris, France f...</td>\n",
       "      <td>Black Coffee playing a DJ set in Paris' oldest...</td>\n",
       "      <td>https://i.ytimg.com/vi/SGqg_ZzThDU/maxresdefau...</td>\n",
       "      <td>Cercle</td>\n",
       "      <td>[cercle, black coffee, live]</td>\n",
       "      <td>Music</td>\n",
       "      <td></td>\n",
       "      <td>SGqg_ZzThDU</td>\n",
       "    </tr>\n",
       "  </tbody>\n",
       "</table>\n",
       "</div>"
      ],
      "text/plain": [
       "      views   likes comments                  date                channel_id  \\\n",
       "0  40995615  322330    11669  2018-02-01T14:50:34Z  UCPKT_csvP72boVX0XrMtagQ   \n",
       "\n",
       "                                               title  \\\n",
       "0  Black Coffee @ Salle Wagram in Paris, France f...   \n",
       "\n",
       "                                         description  \\\n",
       "0  Black Coffee playing a DJ set in Paris' oldest...   \n",
       "\n",
       "                                           thumbnail channel_title  \\\n",
       "0  https://i.ytimg.com/vi/SGqg_ZzThDU/maxresdefau...        Cercle   \n",
       "\n",
       "                           tags  genre language     video_id  \n",
       "0  [cercle, black coffee, live]  Music           SGqg_ZzThDU  "
      ]
     },
     "execution_count": 13,
     "metadata": {},
     "output_type": "execute_result"
    }
   ],
   "source": [
    "info"
   ]
  },
  {
   "cell_type": "code",
   "execution_count": 14,
   "id": "ee25e3cd",
   "metadata": {
    "scrolled": true
   },
   "outputs": [
    {
     "data": {
      "text/html": [
       "<div>\n",
       "<style scoped>\n",
       "    .dataframe tbody tr th:only-of-type {\n",
       "        vertical-align: middle;\n",
       "    }\n",
       "\n",
       "    .dataframe tbody tr th {\n",
       "        vertical-align: top;\n",
       "    }\n",
       "\n",
       "    .dataframe thead th {\n",
       "        text-align: right;\n",
       "    }\n",
       "</style>\n",
       "<table border=\"1\" class=\"dataframe\">\n",
       "  <thead>\n",
       "    <tr style=\"text-align: right;\">\n",
       "      <th></th>\n",
       "      <th>viewCount</th>\n",
       "      <th>subscriberCount</th>\n",
       "      <th>videoCount</th>\n",
       "    </tr>\n",
       "  </thead>\n",
       "  <tbody>\n",
       "    <tr>\n",
       "      <th>0</th>\n",
       "      <td>722916324</td>\n",
       "      <td>2900000</td>\n",
       "      <td>174</td>\n",
       "    </tr>\n",
       "  </tbody>\n",
       "</table>\n",
       "</div>"
      ],
      "text/plain": [
       "   viewCount subscriberCount videoCount\n",
       "0  722916324         2900000        174"
      ]
     },
     "execution_count": 14,
     "metadata": {},
     "output_type": "execute_result"
    }
   ],
   "source": [
    "channel"
   ]
  },
  {
   "cell_type": "markdown",
   "id": "c7926543",
   "metadata": {},
   "source": [
    "### Adding Channel details to Info DataFrame"
   ]
  },
  {
   "cell_type": "code",
   "execution_count": 15,
   "id": "7df7802a",
   "metadata": {},
   "outputs": [],
   "source": [
    "info['Total_Views'] = channel['viewCount']"
   ]
  },
  {
   "cell_type": "code",
   "execution_count": 16,
   "id": "e352d47e",
   "metadata": {},
   "outputs": [],
   "source": [
    "info['Sub_Count'] = channel['subscriberCount']"
   ]
  },
  {
   "cell_type": "code",
   "execution_count": 17,
   "id": "cc932d84",
   "metadata": {},
   "outputs": [],
   "source": [
    "info['Video_Count'] = channel['videoCount']"
   ]
  },
  {
   "cell_type": "markdown",
   "id": "d88216cc",
   "metadata": {},
   "source": [
    "### The big info DataFrame"
   ]
  },
  {
   "cell_type": "code",
   "execution_count": 18,
   "id": "4d3c9e75",
   "metadata": {},
   "outputs": [
    {
     "data": {
      "text/html": [
       "<div>\n",
       "<style scoped>\n",
       "    .dataframe tbody tr th:only-of-type {\n",
       "        vertical-align: middle;\n",
       "    }\n",
       "\n",
       "    .dataframe tbody tr th {\n",
       "        vertical-align: top;\n",
       "    }\n",
       "\n",
       "    .dataframe thead th {\n",
       "        text-align: right;\n",
       "    }\n",
       "</style>\n",
       "<table border=\"1\" class=\"dataframe\">\n",
       "  <thead>\n",
       "    <tr style=\"text-align: right;\">\n",
       "      <th></th>\n",
       "      <th>views</th>\n",
       "      <th>likes</th>\n",
       "      <th>comments</th>\n",
       "      <th>date</th>\n",
       "      <th>channel_id</th>\n",
       "      <th>title</th>\n",
       "      <th>description</th>\n",
       "      <th>thumbnail</th>\n",
       "      <th>channel_title</th>\n",
       "      <th>tags</th>\n",
       "      <th>genre</th>\n",
       "      <th>language</th>\n",
       "      <th>video_id</th>\n",
       "      <th>Total_Views</th>\n",
       "      <th>Sub_Count</th>\n",
       "      <th>Video_Count</th>\n",
       "    </tr>\n",
       "  </thead>\n",
       "  <tbody>\n",
       "    <tr>\n",
       "      <th>0</th>\n",
       "      <td>40995615</td>\n",
       "      <td>322330</td>\n",
       "      <td>11669</td>\n",
       "      <td>2018-02-01T14:50:34Z</td>\n",
       "      <td>UCPKT_csvP72boVX0XrMtagQ</td>\n",
       "      <td>Black Coffee @ Salle Wagram in Paris, France f...</td>\n",
       "      <td>Black Coffee playing a DJ set in Paris' oldest...</td>\n",
       "      <td>https://i.ytimg.com/vi/SGqg_ZzThDU/maxresdefau...</td>\n",
       "      <td>Cercle</td>\n",
       "      <td>[cercle, black coffee, live]</td>\n",
       "      <td>Music</td>\n",
       "      <td></td>\n",
       "      <td>SGqg_ZzThDU</td>\n",
       "      <td>722916324</td>\n",
       "      <td>2900000</td>\n",
       "      <td>174</td>\n",
       "    </tr>\n",
       "  </tbody>\n",
       "</table>\n",
       "</div>"
      ],
      "text/plain": [
       "      views   likes comments                  date                channel_id  \\\n",
       "0  40995615  322330    11669  2018-02-01T14:50:34Z  UCPKT_csvP72boVX0XrMtagQ   \n",
       "\n",
       "                                               title  \\\n",
       "0  Black Coffee @ Salle Wagram in Paris, France f...   \n",
       "\n",
       "                                         description  \\\n",
       "0  Black Coffee playing a DJ set in Paris' oldest...   \n",
       "\n",
       "                                           thumbnail channel_title  \\\n",
       "0  https://i.ytimg.com/vi/SGqg_ZzThDU/maxresdefau...        Cercle   \n",
       "\n",
       "                           tags  genre language     video_id Total_Views  \\\n",
       "0  [cercle, black coffee, live]  Music           SGqg_ZzThDU   722916324   \n",
       "\n",
       "  Sub_Count Video_Count  \n",
       "0   2900000         174  "
      ]
     },
     "execution_count": 18,
     "metadata": {},
     "output_type": "execute_result"
    }
   ],
   "source": [
    "info"
   ]
  },
  {
   "cell_type": "markdown",
   "id": "7601057c",
   "metadata": {},
   "source": [
    "### Save to CSV if you want to, but not very useful"
   ]
  },
  {
   "cell_type": "code",
   "execution_count": null,
   "id": "82114fd3",
   "metadata": {},
   "outputs": [],
   "source": [
    "comment.to_csv(\"single_vid_comments.csv\")"
   ]
  },
  {
   "cell_type": "code",
   "execution_count": null,
   "id": "5ac7e5c1",
   "metadata": {},
   "outputs": [],
   "source": [
    "info.to_csv(\"single_vid_infos.csv\")"
   ]
  }
 ],
 "metadata": {
  "kernelspec": {
   "display_name": "Python 3 (ipykernel)",
   "language": "python",
   "name": "python3"
  },
  "language_info": {
   "codemirror_mode": {
    "name": "ipython",
    "version": 3
   },
   "file_extension": ".py",
   "mimetype": "text/x-python",
   "name": "python",
   "nbconvert_exporter": "python",
   "pygments_lexer": "ipython3",
   "version": "3.10.6"
  },
  "toc": {
   "base_numbering": 1,
   "nav_menu": {},
   "number_sections": true,
   "sideBar": true,
   "skip_h1_title": false,
   "title_cell": "Table of Contents",
   "title_sidebar": "Contents",
   "toc_cell": false,
   "toc_position": {},
   "toc_section_display": true,
   "toc_window_display": false
  }
 },
 "nbformat": 4,
 "nbformat_minor": 5
}
