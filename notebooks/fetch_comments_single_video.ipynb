{
 "cells": [
  {
   "cell_type": "markdown",
   "id": "2a34c7d7",
   "metadata": {},
   "source": [
    "# Fetching data from a single video"
   ]
  },
  {
   "cell_type": "markdown",
   "id": "189697f9",
   "metadata": {},
   "source": [
    "### Importing Packages"
   ]
  },
  {
   "cell_type": "code",
   "execution_count": 1,
   "id": "b138de59",
   "metadata": {},
   "outputs": [],
   "source": [
    "import pandas as pd\n",
    "import numpy as np\n",
    "import requests"
   ]
  },
  {
   "cell_type": "code",
   "execution_count": 2,
   "id": "5a7965b7",
   "metadata": {},
   "outputs": [
    {
     "data": {
      "text/plain": [
       "'dQw4w9WgXcQ'"
      ]
     },
     "execution_count": 2,
     "metadata": {},
     "output_type": "execute_result"
    }
   ],
   "source": [
    "video_id = 'dQw4w9WgXcQ'\n",
    "video_id"
   ]
  },
  {
   "cell_type": "markdown",
   "id": "f23e997b",
   "metadata": {},
   "source": [
    "### Defining .env and API Key"
   ]
  },
  {
   "cell_type": "code",
   "execution_count": 3,
   "id": "ff66b1c4",
   "metadata": {},
   "outputs": [],
   "source": [
    "import os\n",
    "API_KEY = os.environ.get('API_KEY')"
   ]
  },
  {
   "cell_type": "markdown",
   "id": "7302e7f8",
   "metadata": {},
   "source": [
    "### Cleaning Dataset"
   ]
  },
  {
   "cell_type": "code",
   "execution_count": 27,
   "id": "9015fcb5",
   "metadata": {},
   "outputs": [
    {
     "name": "stderr",
     "output_type": "stream",
     "text": [
      "[nltk_data] Downloading package words to\n",
      "[nltk_data]     /Users/willemduyck/nltk_data...\n",
      "[nltk_data]   Package words is already up-to-date!\n"
     ]
    }
   ],
   "source": [
    "import re\n",
    "import string\n",
    "from nltk.corpus import words\n",
    "from nltk.tokenize import word_tokenize\n",
    "from nltk import download\n",
    "download('words')\n",
    "\n",
    "def clean_and_filter(df):\n",
    "    def remove_newline(text):\n",
    "        text = text.replace('\\n', '') \n",
    "        return text\n",
    "\n",
    "    def remove_punctuation(text):\n",
    "        for punctuation in string.punctuation: \n",
    "            text = text.replace(punctuation, '') \n",
    "        return text\n",
    "\n",
    "    def lowercase (text): \n",
    "        lowercased = text.lower() \n",
    "        return lowercased\n",
    "\n",
    "    df['comment_clean'] = df.comment.apply(remove_newline)\n",
    "    df['comment_clean'] = df.comment_clean.apply(remove_punctuation)\n",
    "    df['comment_clean'] = df.comment_clean.apply(lowercase)\n",
    "    \n",
    "    english_words = set(words.words())\n",
    "    def is_english(text):\n",
    "        words_in_comment = word_tokenize(text)\n",
    "        num_words_in_comment = len(words_in_comment)\n",
    "        num_english_words_in_comment = 0\n",
    "        for word in words_in_comment:\n",
    "            if word in english_words:\n",
    "                num_english_words_in_comment += 1\n",
    "        english = False\n",
    "        if num_words_in_comment > 0:\n",
    "            if num_english_words_in_comment/num_words_in_comment >= 0.3:\n",
    "                english = True\n",
    "            return english\n",
    "        else:\n",
    "            return False\n",
    "    \n",
    "    def english_only(df):\n",
    "        df['english'] = df['comment_clean'].apply(is_english)\n",
    "        return df\n",
    "\n",
    "    df = english_only(df)\n",
    "    \n",
    "    def remove_non_english_symbols(text):\n",
    "        english_pattern = re.compile(r'[^a-zA-Z0-9\\s\\U0001F600-\\U0001F64F\\U0001F300-\\U0001F5FF\\U0001F680-\\U0001F6FF\\U0001F1E0-\\U0001F1FF\\U00002702-\\U000027B0\\U000024C2-\\U0001F251]')\n",
    "        cleaned_text = re.sub(english_pattern, '', text)\n",
    "        return cleaned_text\n",
    "    \n",
    "    \n",
    "    df['comment_clean'] = df.comment_clean.apply(remove_non_english_symbols)\n",
    "    \n",
    "    return df[df[\"english\"] == True]"
   ]
  },
  {
   "cell_type": "markdown",
   "id": "f5ad4103",
   "metadata": {},
   "source": [
    "### Genre Dictionary"
   ]
  },
  {
   "cell_type": "code",
   "execution_count": 28,
   "id": "9cf6f6d6",
   "metadata": {},
   "outputs": [],
   "source": [
    "genre_dict = {\n",
    "    \"1\":\"Film & Animation\",\n",
    "    \"2\":\"Autos & Vehicles\",\n",
    "    \"10\":\"Music\",\n",
    "    \"15\":\"Pets & Animals\",\n",
    "    \"17\":\"Sports\",\n",
    "    \"18\":\"Short Movies\",\n",
    "    \"19\":\"Travel & Events\",\n",
    "    \"20\":\"Gaming\",\n",
    "    \"21\":\"Videoblogging\",\n",
    "    \"22\":\"People & Blogs\",\n",
    "    \"23\":\"Comedy\",\n",
    "    \"24\":\"Entertainment\",\n",
    "    \"25\":\"News & Politics\",\n",
    "    \"26\":\"Howto & Style\",\n",
    "    \"27\":\"Education\",\n",
    "    \"28\":\"Science & Technology\",\n",
    "    \"29\":\"Nonprofits & Activism\",\n",
    "    \"30\":\"Movies\",\n",
    "    \"31\":\"Anime/Animation\",\n",
    "    \"32\":\"Action/Adventure\",\n",
    "    \"33\":\"Classics\",\n",
    "    \"34\":\"Comedy\",\n",
    "    \"35\":\"Documentary\",\n",
    "    \"36\":\"Drama\",\n",
    "    \"37\":\"Family\",\n",
    "    \"38\":\"Foreign\",\n",
    "    \"39\":\"Horror\",\n",
    "    \"40\":\"Sci-Fi/Fantasy\",\n",
    "    \"41\":\"Thriller\",\n",
    "    \"42\":\"Shorts\",\n",
    "    \"43\":\"Shows\",\n",
    "    \"44\":\"Trailers\"\n",
    "}"
   ]
  },
  {
   "cell_type": "markdown",
   "id": "fbed7b70",
   "metadata": {},
   "source": [
    "### Fetching Relevant Comments Function"
   ]
  },
  {
   "cell_type": "code",
   "execution_count": 29,
   "id": "7c30c4b2",
   "metadata": {},
   "outputs": [],
   "source": [
    "def fetch_comments_relevance(video_id, api_key):\n",
    "    url = f\"https://www.googleapis.com/youtube/v3/commentThreads?part=snippet&videoId={video_id}&key={api_key}&maxResults=100&order=relevance\"\n",
    "    comments = []\n",
    "    nextPageToken = None\n",
    "#     iter_number = 0\n",
    "#     token_count = 0\n",
    "#     while len(comments) < 100:\n",
    "#         print(f\"Tokens used: {token_count}\")\n",
    "        \n",
    "#         if nextPageToken:\n",
    "#             url = f\"https://www.googleapis.com/youtube/v3/commentThreads?part=snippet&videoId={video_id}&key={api_key}&maxResults=100&order=relevance\"\n",
    "#             url += f\"&pageToken={nextPageToken}\"\n",
    "        \n",
    "    response = requests.get(url)\n",
    "#         print(response.status_code)\n",
    "#     token_count += 1\n",
    "    try:\n",
    "        data = response.json()\n",
    "    except ValueError:\n",
    "        print(f\"{url} failed!\")\n",
    "\n",
    "\n",
    "    error = data.get(\"error\", False)\n",
    "    if error:\n",
    "        return [\"\"]\n",
    "\n",
    "    for item in data.get(\"items\", []):\n",
    "        if item:\n",
    "            comment = item[\"snippet\"][\"topLevelComment\"][\"snippet\"][\"textOriginal\"]\n",
    "            author = item[\"snippet\"][\"topLevelComment\"][\"snippet\"][\"authorDisplayName\"]\n",
    "            likecount = item[\"snippet\"][\"topLevelComment\"][\"snippet\"][\"likeCount\"]\n",
    "            date = item[\"snippet\"][\"topLevelComment\"][\"snippet\"][\"publishedAt\"]\n",
    "            replies = item[\"snippet\"][\"totalReplyCount\"]\n",
    "            dict_ = {\"comment\": comment, \"author\": author, \"likecount\": likecount, \"date\": date, \"replies\": replies}\n",
    "\n",
    "            if comment is not None and pd.to_datetime(date).year <= 2021:\n",
    "                cleaned_comment = clean_and_filter(pd.DataFrame([comment],columns=[\"comment\"]))\n",
    "                if not cleaned_comment.empty:\n",
    "                    if cleaned_comment[\"english\"][0] == True:\n",
    "                        dict_[\"comment_clean\"] = cleaned_comment[\"comment_clean\"]\n",
    "                        comments.append(dict_)\n",
    "#     nextPageToken = data.get(\"nextPageToken\", None)\n",
    "#     if not nextPageToken or iter_number >= 20:\n",
    "#         break\n",
    "#     if iter_number == 0:\n",
    "#         if len(comments) < 5:\n",
    "#             break\n",
    "#     iter_number += 1\n",
    "    \n",
    "    return comments"
   ]
  },
  {
   "cell_type": "markdown",
   "id": "7611c0df",
   "metadata": {},
   "source": [
    "### Fetching Stats Function"
   ]
  },
  {
   "cell_type": "code",
   "execution_count": 30,
   "id": "fa654f9e",
   "metadata": {},
   "outputs": [],
   "source": [
    "def fetch_stats(video_id, api_key):\n",
    "    url = f\"https://www.googleapis.com/youtube/v3/videos?part=statistics&id={video_id}&key={api_key}\"\n",
    "    \n",
    "    response = requests.get(url)\n",
    "#     print(response.status_code)\n",
    "    try:\n",
    "        data = response.json()\n",
    "    except ValueError:\n",
    "        print(f\"{url} failed!\")\n",
    "    error = data.get(\"error\",False)\n",
    "    if not error:\n",
    "        data = data.get(\"items\",False)\n",
    "        if data:\n",
    "            views = data[0][\"statistics\"][\"viewCount\"]\n",
    "            likes = data[0][\"statistics\"][\"likeCount\"]\n",
    "            comments = data[0][\"statistics\"].get(\"commentCount\",0)\n",
    "            dict_ = {\"views\":[views], \"likes\":[likes], \"comments\":[comments]}\n",
    "            return dict_\n",
    "        return {}\n",
    "    else:\n",
    "        return {}"
   ]
  },
  {
   "cell_type": "markdown",
   "id": "25f06c29",
   "metadata": {},
   "source": [
    "### Fetching Details Function"
   ]
  },
  {
   "cell_type": "code",
   "execution_count": 31,
   "id": "909ce6d9",
   "metadata": {},
   "outputs": [],
   "source": [
    "def fetch_details(video_id, api_key):\n",
    "    url = f\"https://www.googleapis.com/youtube/v3/videos?part=snippet&id={video_id}&key={api_key}\"\n",
    "    \n",
    "    response = requests.get(url)\n",
    "#     print(response.status_code)\n",
    "    try:\n",
    "        data = response.json()\n",
    "    except ValueError:\n",
    "        print(f\"{url} failed!\")\n",
    "    error = data.get(\"error\",False)\n",
    "    if not error:\n",
    "        data = data.get(\"items\",False)\n",
    "        if data:\n",
    "            date = data[0][\"snippet\"][\"publishedAt\"]\n",
    "            channel_id = data[0][\"snippet\"][\"channelId\"]\n",
    "            title = data[0][\"snippet\"][\"title\"]\n",
    "            description = data[0][\"snippet\"][\"description\"]\n",
    "            thumbnail = data[0][\"snippet\"][\"thumbnails\"][\"maxres\"][\"url\"]\n",
    "            channel_title = data[0][\"snippet\"][\"channelTitle\"]\n",
    "            tags = data[0][\"snippet\"].get(\"tags\",[\"\"])\n",
    "            genre = genre_dict[data[0][\"snippet\"][\"categoryId\"]]\n",
    "            language = data[0][\"snippet\"].get(\"defaultAudioLanguage\",\"\")\n",
    "            dict_ = {\"date\":date, \"channel_id\":channel_id, \"title\":title, \"description\":description, \"thumbnail\":thumbnail,\"channel_title\":channel_title, \"tags\":[tags], \"genre\":genre, \"language\":language}\n",
    "            return dict_\n",
    "        return {}\n",
    "    else:\n",
    "        return {}"
   ]
  },
  {
   "cell_type": "markdown",
   "id": "d70fe057",
   "metadata": {},
   "source": [
    "### Fetch Channel Details"
   ]
  },
  {
   "cell_type": "code",
   "execution_count": 56,
   "id": "6027e0ff",
   "metadata": {},
   "outputs": [],
   "source": [
    "def fetch_channel(channel_id, api_key):\n",
    "    url = f\"https://www.googleapis.com/youtube/v3/channels?part=statistics&id={channel_id}&key={api_key}\"\n",
    "    \n",
    "    response = requests.get(url)\n",
    "#     print(response.status_code)\n",
    "    try:\n",
    "        data = response.json()\n",
    "    except ValueError:\n",
    "        print(f\"{url} failed!\")\n",
    "    error = data.get(\"error\",False)\n",
    "    if not error:\n",
    "        data = data.get(\"items\",False)\n",
    "        if data:   \n",
    "            view_count = data['items'][0]['statistics']['viewCount']\n",
    "            subscriber_count = data['items'][0]['statistics']['subscriberCount']\n",
    "            video_count = data['items'][0]['statistics']['videoCount']\n",
    "            dict_ = {\"viewCount\":view_count, \"subscriberCount\":subscriber_count, \"videoCount\":video_count}\n",
    "            return dict_\n",
    "        return {}\n",
    "    else:\n",
    "        return {}"
   ]
  },
  {
   "cell_type": "markdown",
   "id": "18712c0c",
   "metadata": {},
   "source": [
    "### Fetching and Storing in CSV"
   ]
  },
  {
   "cell_type": "code",
   "execution_count": 58,
   "id": "745e55a1",
   "metadata": {},
   "outputs": [],
   "source": [
    "def fetch_all_info(video_id, api_key):\n",
    "    details = pd.DataFrame(fetch_details(video_id, api_key))\n",
    "    comments_relevance = pd.DataFrame(fetch_comments_relevance(video_id, api_key))\n",
    "    stats = pd.DataFrame(fetch_stats(video_id, api_key))\n",
    "    channel = pd.DataFrame(fetch_channel(details.iloc['channel_id'], api_key))\n",
    "    info_all = pd.concat([stats,details],axis=1)\n",
    "    comments_relevance[\"video_id\"] = video_id\n",
    "    info_all[\"video_id\"] = video_id\n",
    "    return comments_relevance, info_all, channel"
   ]
  },
  {
   "cell_type": "code",
   "execution_count": 59,
   "id": "bcd6e06f",
   "metadata": {
    "scrolled": true
   },
   "outputs": [
    {
     "name": "stdout",
     "output_type": "stream",
     "text": [
      "dQw4w9WgXcQ\n"
     ]
    },
    {
     "ename": "TypeError",
     "evalue": "Cannot index by location index with a non-integer key",
     "output_type": "error",
     "traceback": [
      "\u001b[0;31m---------------------------------------------------------------------------\u001b[0m",
      "\u001b[0;31mTypeError\u001b[0m                                 Traceback (most recent call last)",
      "Cell \u001b[0;32mIn[59], line 2\u001b[0m\n\u001b[1;32m      1\u001b[0m \u001b[38;5;28mprint\u001b[39m(video_id)\n\u001b[0;32m----> 2\u001b[0m result \u001b[38;5;241m=\u001b[39m \u001b[43mfetch_all_info\u001b[49m\u001b[43m(\u001b[49m\u001b[43mvideo_id\u001b[49m\u001b[43m,\u001b[49m\u001b[43m \u001b[49m\u001b[43mAPI_KEY\u001b[49m\u001b[43m)\u001b[49m\n\u001b[1;32m      3\u001b[0m \u001b[38;5;28;01mif\u001b[39;00m result:\n\u001b[1;32m      4\u001b[0m     comment, info \u001b[38;5;241m=\u001b[39m result\n",
      "Cell \u001b[0;32mIn[58], line 5\u001b[0m, in \u001b[0;36mfetch_all_info\u001b[0;34m(video_id, api_key)\u001b[0m\n\u001b[1;32m      3\u001b[0m comments_relevance \u001b[38;5;241m=\u001b[39m pd\u001b[38;5;241m.\u001b[39mDataFrame(fetch_comments_relevance(video_id, api_key))\n\u001b[1;32m      4\u001b[0m stats \u001b[38;5;241m=\u001b[39m pd\u001b[38;5;241m.\u001b[39mDataFrame(fetch_stats(video_id, api_key))\n\u001b[0;32m----> 5\u001b[0m channel \u001b[38;5;241m=\u001b[39m pd\u001b[38;5;241m.\u001b[39mDataFrame(fetch_channel(\u001b[43mdetails\u001b[49m\u001b[38;5;241;43m.\u001b[39;49m\u001b[43miloc\u001b[49m\u001b[43m[\u001b[49m\u001b[38;5;124;43m'\u001b[39;49m\u001b[38;5;124;43mchannel_id\u001b[39;49m\u001b[38;5;124;43m'\u001b[39;49m\u001b[43m]\u001b[49m, api_key))\n\u001b[1;32m      6\u001b[0m info_all \u001b[38;5;241m=\u001b[39m pd\u001b[38;5;241m.\u001b[39mconcat([stats,details],axis\u001b[38;5;241m=\u001b[39m\u001b[38;5;241m1\u001b[39m)\n\u001b[1;32m      7\u001b[0m comments_relevance[\u001b[38;5;124m\"\u001b[39m\u001b[38;5;124mvideo_id\u001b[39m\u001b[38;5;124m\"\u001b[39m] \u001b[38;5;241m=\u001b[39m video_id\n",
      "File \u001b[0;32m~/.pyenv/versions/3.10.6/envs/positube/lib/python3.10/site-packages/pandas/core/indexing.py:1103\u001b[0m, in \u001b[0;36m_LocationIndexer.__getitem__\u001b[0;34m(self, key)\u001b[0m\n\u001b[1;32m   1100\u001b[0m axis \u001b[38;5;241m=\u001b[39m \u001b[38;5;28mself\u001b[39m\u001b[38;5;241m.\u001b[39maxis \u001b[38;5;129;01mor\u001b[39;00m \u001b[38;5;241m0\u001b[39m\n\u001b[1;32m   1102\u001b[0m maybe_callable \u001b[38;5;241m=\u001b[39m com\u001b[38;5;241m.\u001b[39mapply_if_callable(key, \u001b[38;5;28mself\u001b[39m\u001b[38;5;241m.\u001b[39mobj)\n\u001b[0;32m-> 1103\u001b[0m \u001b[38;5;28;01mreturn\u001b[39;00m \u001b[38;5;28;43mself\u001b[39;49m\u001b[38;5;241;43m.\u001b[39;49m\u001b[43m_getitem_axis\u001b[49m\u001b[43m(\u001b[49m\u001b[43mmaybe_callable\u001b[49m\u001b[43m,\u001b[49m\u001b[43m \u001b[49m\u001b[43maxis\u001b[49m\u001b[38;5;241;43m=\u001b[39;49m\u001b[43maxis\u001b[49m\u001b[43m)\u001b[49m\n",
      "File \u001b[0;32m~/.pyenv/versions/3.10.6/envs/positube/lib/python3.10/site-packages/pandas/core/indexing.py:1653\u001b[0m, in \u001b[0;36m_iLocIndexer._getitem_axis\u001b[0;34m(self, key, axis)\u001b[0m\n\u001b[1;32m   1651\u001b[0m key \u001b[38;5;241m=\u001b[39m item_from_zerodim(key)\n\u001b[1;32m   1652\u001b[0m \u001b[38;5;28;01mif\u001b[39;00m \u001b[38;5;129;01mnot\u001b[39;00m is_integer(key):\n\u001b[0;32m-> 1653\u001b[0m     \u001b[38;5;28;01mraise\u001b[39;00m \u001b[38;5;167;01mTypeError\u001b[39;00m(\u001b[38;5;124m\"\u001b[39m\u001b[38;5;124mCannot index by location index with a non-integer key\u001b[39m\u001b[38;5;124m\"\u001b[39m)\n\u001b[1;32m   1655\u001b[0m \u001b[38;5;66;03m# validate the location\u001b[39;00m\n\u001b[1;32m   1656\u001b[0m \u001b[38;5;28mself\u001b[39m\u001b[38;5;241m.\u001b[39m_validate_integer(key, axis)\n",
      "\u001b[0;31mTypeError\u001b[0m: Cannot index by location index with a non-integer key"
     ]
    }
   ],
   "source": [
    "print(video_id)\n",
    "result = fetch_all_info(video_id, API_KEY)\n",
    "if result:\n",
    "    comment, info = result"
   ]
  },
  {
   "cell_type": "code",
   "execution_count": null,
   "id": "0e372273",
   "metadata": {},
   "outputs": [],
   "source": [
    "comment"
   ]
  },
  {
   "cell_type": "code",
   "execution_count": 50,
   "id": "0d3c2052",
   "metadata": {},
   "outputs": [
    {
     "data": {
      "text/html": [
       "<div>\n",
       "<style scoped>\n",
       "    .dataframe tbody tr th:only-of-type {\n",
       "        vertical-align: middle;\n",
       "    }\n",
       "\n",
       "    .dataframe tbody tr th {\n",
       "        vertical-align: top;\n",
       "    }\n",
       "\n",
       "    .dataframe thead th {\n",
       "        text-align: right;\n",
       "    }\n",
       "</style>\n",
       "<table border=\"1\" class=\"dataframe\">\n",
       "  <thead>\n",
       "    <tr style=\"text-align: right;\">\n",
       "      <th></th>\n",
       "      <th>views</th>\n",
       "      <th>likes</th>\n",
       "      <th>comments</th>\n",
       "      <th>date</th>\n",
       "      <th>channel_id</th>\n",
       "      <th>title</th>\n",
       "      <th>description</th>\n",
       "      <th>thumbnail</th>\n",
       "      <th>channel_title</th>\n",
       "      <th>tags</th>\n",
       "      <th>genre</th>\n",
       "      <th>language</th>\n",
       "      <th>video_id</th>\n",
       "    </tr>\n",
       "  </thead>\n",
       "  <tbody>\n",
       "    <tr>\n",
       "      <th>0</th>\n",
       "      <td>1403964131</td>\n",
       "      <td>16463466</td>\n",
       "      <td>2260513</td>\n",
       "      <td>2009-10-25T06:57:33Z</td>\n",
       "      <td>UCuAXFkgsw1L7xaCfnd5JJOw</td>\n",
       "      <td>Rick Astley - Never Gonna Give You Up (Officia...</td>\n",
       "      <td>The official video for “Never Gonna Give You U...</td>\n",
       "      <td>https://i.ytimg.com/vi/dQw4w9WgXcQ/maxresdefau...</td>\n",
       "      <td>Rick Astley</td>\n",
       "      <td>[rick astley, Never Gonna Give You Up, nggyu, ...</td>\n",
       "      <td>Music</td>\n",
       "      <td>en</td>\n",
       "      <td>dQw4w9WgXcQ</td>\n",
       "    </tr>\n",
       "  </tbody>\n",
       "</table>\n",
       "</div>"
      ],
      "text/plain": [
       "        views     likes comments                  date  \\\n",
       "0  1403964131  16463466  2260513  2009-10-25T06:57:33Z   \n",
       "\n",
       "                 channel_id  \\\n",
       "0  UCuAXFkgsw1L7xaCfnd5JJOw   \n",
       "\n",
       "                                               title  \\\n",
       "0  Rick Astley - Never Gonna Give You Up (Officia...   \n",
       "\n",
       "                                         description  \\\n",
       "0  The official video for “Never Gonna Give You U...   \n",
       "\n",
       "                                           thumbnail channel_title  \\\n",
       "0  https://i.ytimg.com/vi/dQw4w9WgXcQ/maxresdefau...   Rick Astley   \n",
       "\n",
       "                                                tags  genre language  \\\n",
       "0  [rick astley, Never Gonna Give You Up, nggyu, ...  Music       en   \n",
       "\n",
       "      video_id  \n",
       "0  dQw4w9WgXcQ  "
      ]
     },
     "execution_count": 50,
     "metadata": {},
     "output_type": "execute_result"
    }
   ],
   "source": [
    "info"
   ]
  },
  {
   "cell_type": "code",
   "execution_count": 53,
   "id": "82114fd3",
   "metadata": {},
   "outputs": [],
   "source": [
    "comment.to_csv(\"single_vid_comments.csv\")"
   ]
  },
  {
   "cell_type": "code",
   "execution_count": 54,
   "id": "5ac7e5c1",
   "metadata": {},
   "outputs": [],
   "source": [
    "info.to_csv(\"single_vid_infos.csv\")"
   ]
  },
  {
   "cell_type": "code",
   "execution_count": 41,
   "id": "fb07448d",
   "metadata": {},
   "outputs": [],
   "source": []
  },
  {
   "cell_type": "code",
   "execution_count": null,
   "id": "c434edcb",
   "metadata": {},
   "outputs": [],
   "source": []
  }
 ],
 "metadata": {
  "kernelspec": {
   "display_name": "Python 3 (ipykernel)",
   "language": "python",
   "name": "python3"
  },
  "language_info": {
   "codemirror_mode": {
    "name": "ipython",
    "version": 3
   },
   "file_extension": ".py",
   "mimetype": "text/x-python",
   "name": "python",
   "nbconvert_exporter": "python",
   "pygments_lexer": "ipython3",
   "version": "3.10.6"
  },
  "toc": {
   "base_numbering": 1,
   "nav_menu": {},
   "number_sections": true,
   "sideBar": true,
   "skip_h1_title": false,
   "title_cell": "Table of Contents",
   "title_sidebar": "Contents",
   "toc_cell": false,
   "toc_position": {},
   "toc_section_display": true,
   "toc_window_display": false
  }
 },
 "nbformat": 4,
 "nbformat_minor": 5
}
