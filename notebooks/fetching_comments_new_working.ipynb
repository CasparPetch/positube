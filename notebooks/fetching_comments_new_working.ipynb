{
 "cells": [
  {
   "cell_type": "markdown",
   "id": "bc7ffbcf",
   "metadata": {},
   "source": [
    "# Grabbing comments"
   ]
  },
  {
   "cell_type": "code",
   "execution_count": null,
   "id": "5f1d6fd5",
   "metadata": {},
   "outputs": [],
   "source": [
    "token_count = 0"
   ]
  },
  {
   "cell_type": "code",
   "execution_count": null,
   "id": "1f01dd84",
   "metadata": {},
   "outputs": [],
   "source": [
    "import pandas as pd\n",
    "import numpy as np\n",
    "import requests"
   ]
  },
  {
   "cell_type": "code",
   "execution_count": null,
   "id": "ee3cf006",
   "metadata": {},
   "outputs": [],
   "source": [
    "df = pd.read_csv(\"IDs.csv\")[\"video_id\"][95:110]\n",
    "df"
   ]
  },
  {
   "cell_type": "code",
   "execution_count": null,
   "id": "5d64b7c1",
   "metadata": {},
   "outputs": [],
   "source": [
    "comments_df = pd.DataFrame(df)\n",
    "comments_df"
   ]
  },
  {
   "cell_type": "code",
   "execution_count": null,
   "id": "e3e5b471",
   "metadata": {},
   "outputs": [],
   "source": [
    "import re\n",
    "import string\n",
    "from nltk.corpus import words\n",
    "from nltk.tokenize import word_tokenize\n",
    "from nltk import download\n",
    "download('words')\n",
    "\n",
    "def clean_and_filter(df):\n",
    "    def remove_newline(text):\n",
    "        text = text.replace('\\n', '') \n",
    "        return text\n",
    "\n",
    "    def remove_punctuation(text):\n",
    "        for punctuation in string.punctuation: \n",
    "            text = text.replace(punctuation, '') \n",
    "        return text\n",
    "\n",
    "    def lowercase (text): \n",
    "        lowercased = text.lower() \n",
    "        return lowercased\n",
    "\n",
    "    df['comment_clean'] = df.comment.apply(remove_newline)\n",
    "    df['comment_clean'] = df.comment_clean.apply(remove_punctuation)\n",
    "    df['comment_clean'] = df.comment_clean.apply(lowercase)\n",
    "    \n",
    "    english_words = set(words.words())\n",
    "    def is_english(text):\n",
    "        words_in_comment = word_tokenize(text)\n",
    "        num_words_in_comment = len(words_in_comment)\n",
    "        num_english_words_in_comment = 0\n",
    "        for word in words_in_comment:\n",
    "            if word in english_words:\n",
    "                num_english_words_in_comment += 1\n",
    "        english = False\n",
    "        if num_words_in_comment > 0:\n",
    "            if num_english_words_in_comment/num_words_in_comment >= 0.3:\n",
    "                english = True\n",
    "            return english\n",
    "        else:\n",
    "            return False\n",
    "    \n",
    "    def english_only(df):\n",
    "        df['english'] = df['comment_clean'].apply(is_english)\n",
    "        return df\n",
    "\n",
    "    df = english_only(df)\n",
    "    \n",
    "    def remove_non_english_symbols(text):\n",
    "        english_pattern = re.compile(r'[^a-zA-Z0-9\\s\\U0001F600-\\U0001F64F\\U0001F300-\\U0001F5FF\\U0001F680-\\U0001F6FF\\U0001F1E0-\\U0001F1FF\\U00002702-\\U000027B0\\U000024C2-\\U0001F251]')\n",
    "        cleaned_text = re.sub(english_pattern, '', text)\n",
    "        return cleaned_text\n",
    "    \n",
    "    \n",
    "    df['comment_clean'] = df.comment_clean.apply(remove_non_english_symbols)\n",
    "    \n",
    "    return df[df[\"english\"] == True]"
   ]
  },
  {
   "cell_type": "code",
   "execution_count": null,
   "id": "6f6d717e",
   "metadata": {},
   "outputs": [],
   "source": [
    "genre_dict = {\n",
    "    \"1\":\"Film & Animation\",\n",
    "    \"2\":\"Autos & Vehicles\",\n",
    "    \"10\":\"Music\",\n",
    "    \"15\":\"Pets & Animals\",\n",
    "    \"17\":\"Sports\",\n",
    "    \"18\":\"Short Movies\",\n",
    "    \"19\":\"Travel & Events\",\n",
    "    \"20\":\"Gaming\",\n",
    "    \"21\":\"Videoblogging\",\n",
    "    \"22\":\"People & Blogs\",\n",
    "    \"23\":\"Comedy\",\n",
    "    \"24\":\"Entertainment\",\n",
    "    \"25\":\"News & Politics\",\n",
    "    \"26\":\"Howto & Style\",\n",
    "    \"27\":\"Education\",\n",
    "    \"28\":\"Science & Technology\",\n",
    "    \"29\":\"Nonprofits & Activism\",\n",
    "    \"30\":\"Movies\",\n",
    "    \"31\":\"Anime/Animation\",\n",
    "    \"32\":\"Action/Adventure\",\n",
    "    \"33\":\"Classics\",\n",
    "    \"34\":\"Comedy\",\n",
    "    \"35\":\"Documentary\",\n",
    "    \"36\":\"Drama\",\n",
    "    \"37\":\"Family\",\n",
    "    \"38\":\"Foreign\",\n",
    "    \"39\":\"Horror\",\n",
    "    \"40\":\"Sci-Fi/Fantasy\",\n",
    "    \"41\":\"Thriller\",\n",
    "    \"42\":\"Shorts\",\n",
    "    \"43\":\"Shows\",\n",
    "    \"44\":\"Trailers\"\n",
    "}"
   ]
  },
  {
   "cell_type": "code",
   "execution_count": null,
   "id": "348e4986",
   "metadata": {},
   "outputs": [],
   "source": [
    "def fetch_comments_relevance(video_id, api_key):\n",
    "    url = f\"https://www.googleapis.com/youtube/v3/commentThreads?part=snippet&videoId={video_id}&key={api_key}&maxResults=100&order=relevance\"\n",
    "    comments = []\n",
    "    nextPageToken = None\n",
    "    iter_number = 0\n",
    "    token_count = 0\n",
    "    while len(comments) < 100:\n",
    "        print(f\"Tokens used: {token_count}\")\n",
    "        \n",
    "        if nextPageToken:\n",
    "            url = f\"https://www.googleapis.com/youtube/v3/commentThreads?part=snippet&videoId={video_id}&key={api_key}&maxResults=100&order=relevance\"\n",
    "            url += f\"&pageToken={nextPageToken}\"\n",
    "        \n",
    "        response = requests.get(url)\n",
    "#         print(response.status_code)\n",
    "        token_count += 1\n",
    "        try:\n",
    "            data = response.json()\n",
    "        except ValueError:\n",
    "            print(f\"{url} failed!\")\n",
    "            \n",
    "        \n",
    "        error = data.get(\"error\", False)\n",
    "        if error:\n",
    "            return [\"\"]\n",
    "        \n",
    "        for item in data.get(\"items\", []):\n",
    "            if item:\n",
    "                comment = item[\"snippet\"][\"topLevelComment\"][\"snippet\"][\"textOriginal\"]\n",
    "                author = item[\"snippet\"][\"topLevelComment\"][\"snippet\"][\"authorDisplayName\"]\n",
    "                likecount = item[\"snippet\"][\"topLevelComment\"][\"snippet\"][\"likeCount\"]\n",
    "                date = item[\"snippet\"][\"topLevelComment\"][\"snippet\"][\"publishedAt\"]\n",
    "                replies = item[\"snippet\"][\"totalReplyCount\"]\n",
    "                dict_ = {\"comment\": comment, \"author\": author, \"likecount\": likecount, \"date\": date, \"replies\": replies}\n",
    "\n",
    "                if comment is not None and pd.to_datetime(date).year <= 2021:\n",
    "                    cleaned_comment = clean_and_filter(pd.DataFrame([comment],columns=[\"comment\"]))\n",
    "                    if not cleaned_comment.empty:\n",
    "                        if cleaned_comment[\"english\"][0] == True:\n",
    "                            dict_[\"comment_clean\"] = cleaned_comment[\"comment_clean\"]\n",
    "                            comments.append(dict_)\n",
    "        nextPageToken = data.get(\"nextPageToken\", None)\n",
    "        if not nextPageToken or iter_number >= 20:\n",
    "            break\n",
    "        if iter_number == 0:\n",
    "            if len(comments) < 5:\n",
    "                break\n",
    "        iter_number += 1\n",
    "    \n",
    "    return comments"
   ]
  },
  {
   "cell_type": "code",
   "execution_count": null,
   "id": "8f5c7ca8",
   "metadata": {},
   "outputs": [],
   "source": [
    "def fetch_stats(video_id, api_key):\n",
    "    url = f\"https://www.googleapis.com/youtube/v3/videos?part=statistics&id={video_id}&key={api_key}\"\n",
    "    \n",
    "    response = requests.get(url)\n",
    "#     print(response.status_code)\n",
    "    try:\n",
    "        data = response.json()\n",
    "    except ValueError:\n",
    "        print(f\"{url} failed!\")\n",
    "    error = data.get(\"error\",False)\n",
    "    if not error:\n",
    "        data = data.get(\"items\",False)\n",
    "        if data:\n",
    "            views = data[0][\"statistics\"][\"viewCount\"]\n",
    "            likes = data[0][\"statistics\"][\"likeCount\"]\n",
    "            comments = data[0][\"statistics\"][\"commentCount\"]\n",
    "            dict_ = {\"views\":[views], \"likes\":[likes], \"comments\":[comments]}\n",
    "            return dict_\n",
    "        return {}\n",
    "    else:\n",
    "        return {}"
   ]
  },
  {
   "cell_type": "code",
   "execution_count": null,
   "id": "6ffa8666",
   "metadata": {},
   "outputs": [],
   "source": [
    "def fetch_details(video_id, api_key):\n",
    "    url = f\"https://www.googleapis.com/youtube/v3/videos?part=snippet&id={video_id}&key={api_key}\"\n",
    "    \n",
    "    response = requests.get(url)\n",
    "#     print(response.status_code)\n",
    "    try:\n",
    "        data = response.json()\n",
    "    except ValueError:\n",
    "        print(f\"{url} failed!\")\n",
    "    error = data.get(\"error\",False)\n",
    "    if not error:\n",
    "        data = data.get(\"items\",False)\n",
    "        if data:\n",
    "            date = data[0][\"snippet\"][\"publishedAt\"]\n",
    "            channel_id = data[0][\"snippet\"][\"channelId\"]\n",
    "            title = data[0][\"snippet\"][\"title\"]\n",
    "            description = data[0][\"snippet\"][\"description\"]\n",
    "            channel_title = data[0][\"snippet\"][\"channelTitle\"]\n",
    "            tags = data[0][\"snippet\"].get(\"tags\",[\"\"])\n",
    "            genre = genre_dict[data[0][\"snippet\"][\"categoryId\"]]\n",
    "            language = data[0][\"snippet\"].get(\"defaultAudioLanguage\",\"\")\n",
    "            dict_ = {\"date\":date, \"channel_id\":channel_id, \"title\":title, \"description\":description, \"channel_title\":channel_title, \"tags\":[tags], \"genre\":genre, \"language\":language}\n",
    "            return dict_\n",
    "        return {}\n",
    "    else:\n",
    "        return {}"
   ]
  },
  {
   "cell_type": "code",
   "execution_count": null,
   "id": "c85c4f69",
   "metadata": {},
   "outputs": [],
   "source": [
    "import os\n",
    "\n",
    "API_KEY = os.environ.get('API_KEY')"
   ]
  },
  {
   "cell_type": "code",
   "execution_count": null,
   "id": "65465fe2",
   "metadata": {},
   "outputs": [],
   "source": [
    "def fetch_all_info(video_id, api_key):\n",
    "    details = pd.DataFrame(fetch_details(video_id, api_key))\n",
    "#     print(details)\n",
    "#     print(details[\"language\"][0])\n",
    "    if details.get(\"language\",[\"\"])[0] in (\"en\", \"en-GB\", \"en-US\"):\n",
    "        comments_relevance = pd.DataFrame(fetch_comments_relevance(video_id, api_key))\n",
    "        stats = pd.DataFrame(fetch_stats(video_id, api_key))\n",
    "        info_all = pd.concat([stats,details],axis=1)\n",
    "        comments_relevance[\"video_id\"] = video_id\n",
    "        info_all[\"video_id\"] = video_id\n",
    "        return comments_relevance, info_all"
   ]
  },
  {
   "cell_type": "code",
   "execution_count": null,
   "id": "0272ef33",
   "metadata": {},
   "outputs": [],
   "source": [
    "dict_ = fetch_stats(\"--0bCF-iK2E\", API_KEY)\n",
    "dict_"
   ]
  },
  {
   "cell_type": "code",
   "execution_count": null,
   "id": "3a2d2087",
   "metadata": {},
   "outputs": [],
   "source": [
    "dict_"
   ]
  },
  {
   "cell_type": "code",
   "execution_count": null,
   "id": "a6f3e92e",
   "metadata": {},
   "outputs": [],
   "source": [
    "pd.DataFrame(dict_)"
   ]
  },
  {
   "cell_type": "code",
   "execution_count": null,
   "id": "c9624274",
   "metadata": {},
   "outputs": [],
   "source": [
    "print(f\"tokens: {token_count}\")"
   ]
  },
  {
   "cell_type": "code",
   "execution_count": null,
   "id": "382ffce5",
   "metadata": {
    "scrolled": true
   },
   "outputs": [],
   "source": [
    "infos = []\n",
    "comments = []\n",
    "for id in comments_df[\"video_id\"]:\n",
    "    print(id)\n",
    "    print(len(comments))\n",
    "    result = fetch_all_info(id, API_KEY)\n",
    "    if result:\n",
    "        comment, info = result\n",
    "        infos.append(info)\n",
    "        comments.append(comment)\n",
    "infos = pd.concat(infos)\n",
    "comments[0]"
   ]
  },
  {
   "cell_type": "code",
   "execution_count": null,
   "id": "99d7620c",
   "metadata": {
    "scrolled": false
   },
   "outputs": [],
   "source": [
    "infos"
   ]
  },
  {
   "cell_type": "code",
   "execution_count": null,
   "id": "8d89db20",
   "metadata": {},
   "outputs": [],
   "source": [
    "frame = pd.DataFrame()\n",
    "for video in comments:\n",
    "    if video.shape[0] >= 50:\n",
    "        frame = pd.concat([frame,video])"
   ]
  },
  {
   "cell_type": "code",
   "execution_count": null,
   "id": "8ef237ee",
   "metadata": {},
   "outputs": [],
   "source": [
    "frame2 = pd.DataFrame()\n",
    "if type(infos) == type([]):\n",
    "    for video in infos:\n",
    "        frame2 = pd.concat([frame2,video])\n",
    "else:\n",
    "    frame2 = infos"
   ]
  },
  {
   "cell_type": "code",
   "execution_count": null,
   "id": "06360ee3",
   "metadata": {
    "scrolled": true
   },
   "outputs": [],
   "source": [
    "frame2"
   ]
  },
  {
   "cell_type": "code",
   "execution_count": null,
   "id": "f0a190c8",
   "metadata": {},
   "outputs": [],
   "source": [
    "frame"
   ]
  },
  {
   "cell_type": "code",
   "execution_count": null,
   "id": "4e2a3c63",
   "metadata": {},
   "outputs": [],
   "source": [
    "frame.value_counts(\"video_id\")"
   ]
  },
  {
   "cell_type": "code",
   "execution_count": null,
   "id": "846f8905",
   "metadata": {},
   "outputs": [],
   "source": [
    "frame.to_csv(\"comments.csv\")"
   ]
  },
  {
   "cell_type": "code",
   "execution_count": null,
   "id": "ca45a40a",
   "metadata": {},
   "outputs": [],
   "source": [
    "frame2.to_csv(\"infos.csv\")"
   ]
  }
 ],
 "metadata": {
  "kernelspec": {
   "display_name": "Python 3 (ipykernel)",
   "language": "python",
   "name": "python3"
  },
  "language_info": {
   "codemirror_mode": {
    "name": "ipython",
    "version": 3
   },
   "file_extension": ".py",
   "mimetype": "text/x-python",
   "name": "python",
   "nbconvert_exporter": "python",
   "pygments_lexer": "ipython3",
   "version": "3.10.6"
  },
  "toc": {
   "base_numbering": 1,
   "nav_menu": {},
   "number_sections": true,
   "sideBar": true,
   "skip_h1_title": false,
   "title_cell": "Table of Contents",
   "title_sidebar": "Contents",
   "toc_cell": false,
   "toc_position": {},
   "toc_section_display": true,
   "toc_window_display": false
  }
 },
 "nbformat": 4,
 "nbformat_minor": 5
}
