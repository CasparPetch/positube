{
 "cells": [
  {
   "cell_type": "code",
   "execution_count": 5,
   "id": "07f89c82",
   "metadata": {},
   "outputs": [],
   "source": [
    "import plotly.express as px\n",
    "import pandas as pd\n",
    "import numpy as np"
   ]
  },
  {
   "cell_type": "code",
   "execution_count": 15,
   "id": "3b0ba2b5",
   "metadata": {},
   "outputs": [],
   "source": [
    "\n",
    "IDs_df = pd.read_csv(\"data/BenShapiro_IDs_df.csv\",index_col=0)\n",
    "channel_info = pd.read_csv(\"data/BenShapiro_channel_info.csv\",index_col=0)\n",
    "results = pd.read_csv(\"data/BenShapiro_results.csv\",index_col=0)\n",
    "channel_df = pd.read_csv(\"data/BenShapiro_channel_df.csv\",index_col=0)\n",
    "channel_stats = pd.read_csv(\"data/BenShapiro_channel_stats.csv\",index_col=0)\n",
    "\n",
    "# df.loc[df['pop'] < 2.e6, 'country'] = 'Other countries' # Represent only large countries\n",
    "# fig = px.pie(df, values='pop', names='country', title='Population of European continent')\n",
    "# fig.show()"
   ]
  },
  {
   "cell_type": "code",
   "execution_count": 27,
   "id": "4286dcdc",
   "metadata": {
    "scrolled": true
   },
   "outputs": [
    {
     "data": {
      "text/html": [
       "<div>\n",
       "<style scoped>\n",
       "    .dataframe tbody tr th:only-of-type {\n",
       "        vertical-align: middle;\n",
       "    }\n",
       "\n",
       "    .dataframe tbody tr th {\n",
       "        vertical-align: top;\n",
       "    }\n",
       "\n",
       "    .dataframe thead th {\n",
       "        text-align: right;\n",
       "    }\n",
       "</style>\n",
       "<table border=\"1\" class=\"dataframe\">\n",
       "  <thead>\n",
       "    <tr style=\"text-align: right;\">\n",
       "      <th></th>\n",
       "      <th>video_id</th>\n",
       "      <th>positivity_score</th>\n",
       "      <th>views</th>\n",
       "      <th>likes</th>\n",
       "      <th>comments</th>\n",
       "      <th>date</th>\n",
       "      <th>channel_id</th>\n",
       "      <th>title</th>\n",
       "      <th>description</th>\n",
       "      <th>thumbnail</th>\n",
       "      <th>channel_title</th>\n",
       "      <th>tags</th>\n",
       "      <th>genre</th>\n",
       "      <th>language</th>\n",
       "      <th>Total_Views</th>\n",
       "      <th>Sub_Count</th>\n",
       "      <th>Video_Count</th>\n",
       "    </tr>\n",
       "  </thead>\n",
       "  <tbody>\n",
       "    <tr>\n",
       "      <th>9</th>\n",
       "      <td>L65YD1QNc80</td>\n",
       "      <td>-0.853021</td>\n",
       "      <td>36058</td>\n",
       "      <td>1648</td>\n",
       "      <td>297</td>\n",
       "      <td>2023-06-13T21:35:03Z</td>\n",
       "      <td>UCnQC_G5Xsjhp9fEJKuIcrSw</td>\n",
       "      <td>Is China Spying On Us? AGAIN?</td>\n",
       "      <td>Last week it was reported that the Chinese wer...</td>\n",
       "      <td>https://i.ytimg.com/vi/L65YD1QNc80/maxresdefau...</td>\n",
       "      <td>Ben Shapiro</td>\n",
       "      <td>['china', 'cuba', 'china cuba', 'cuba china', ...</td>\n",
       "      <td>Entertainment</td>\n",
       "      <td>en</td>\n",
       "      <td>1957862099</td>\n",
       "      <td>5890000</td>\n",
       "      <td>4320</td>\n",
       "    </tr>\n",
       "    <tr>\n",
       "      <th>5</th>\n",
       "      <td>9VCLm3DiGZI</td>\n",
       "      <td>-1.727071</td>\n",
       "      <td>182544</td>\n",
       "      <td>6458</td>\n",
       "      <td>1001</td>\n",
       "      <td>2023-06-13T23:00:04Z</td>\n",
       "      <td>UCnQC_G5Xsjhp9fEJKuIcrSw</td>\n",
       "      <td>Is Megan Fox FORCING Her Son to Wear Dresses?</td>\n",
       "      <td>Megan Fox is a legit crazy person. Robby Starb...</td>\n",
       "      <td>https://i.ytimg.com/vi/9VCLm3DiGZI/maxresdefau...</td>\n",
       "      <td>Ben Shapiro</td>\n",
       "      <td>['mark cuban', 'mark cuban interview', 'mark c...</td>\n",
       "      <td>Entertainment</td>\n",
       "      <td>en</td>\n",
       "      <td>1957862099</td>\n",
       "      <td>5890000</td>\n",
       "      <td>4320</td>\n",
       "    </tr>\n",
       "    <tr>\n",
       "      <th>1</th>\n",
       "      <td>LrUv17ON_Do</td>\n",
       "      <td>1.679700</td>\n",
       "      <td>460132</td>\n",
       "      <td>54687</td>\n",
       "      <td>1044</td>\n",
       "      <td>2023-06-13T23:00:13Z</td>\n",
       "      <td>UCnQC_G5Xsjhp9fEJKuIcrSw</td>\n",
       "      <td>Ben Reacts to Russell Brand</td>\n",
       "      <td>1️⃣ Click here to join the member exclusive po...</td>\n",
       "      <td>https://i.ytimg.com/vi/LrUv17ON_Do/maxresdefau...</td>\n",
       "      <td>Ben Shapiro</td>\n",
       "      <td>['russell brand', 'brand russell', 'russell br...</td>\n",
       "      <td>Entertainment</td>\n",
       "      <td>en</td>\n",
       "      <td>1957862099</td>\n",
       "      <td>5890000</td>\n",
       "      <td>4320</td>\n",
       "    </tr>\n",
       "    <tr>\n",
       "      <th>3</th>\n",
       "      <td>Rmk2azCLf1c</td>\n",
       "      <td>0.062300</td>\n",
       "      <td>117647</td>\n",
       "      <td>8787</td>\n",
       "      <td>630</td>\n",
       "      <td>2023-06-14T00:15:02Z</td>\n",
       "      <td>UCnQC_G5Xsjhp9fEJKuIcrSw</td>\n",
       "      <td>Karen's Diner 👀</td>\n",
       "      <td>1️⃣ Click here to join the member exclusive po...</td>\n",
       "      <td>https://i.ytimg.com/vi/Rmk2azCLf1c/maxresdefau...</td>\n",
       "      <td>Ben Shapiro</td>\n",
       "      <td>['karen', 'karens', 'angry karen', 'insane kar...</td>\n",
       "      <td>Entertainment</td>\n",
       "      <td>en</td>\n",
       "      <td>1957862099</td>\n",
       "      <td>5890000</td>\n",
       "      <td>4320</td>\n",
       "    </tr>\n",
       "    <tr>\n",
       "      <th>6</th>\n",
       "      <td>ffA-0Yc9qMs</td>\n",
       "      <td>-1.086364</td>\n",
       "      <td>166031</td>\n",
       "      <td>7133</td>\n",
       "      <td>1875</td>\n",
       "      <td>2023-06-14T17:00:09Z</td>\n",
       "      <td>UCnQC_G5Xsjhp9fEJKuIcrSw</td>\n",
       "      <td>Will Trump Get His Revenge?</td>\n",
       "      <td>President Trump goes to Miami court for arraig...</td>\n",
       "      <td>https://i.ytimg.com/vi/ffA-0Yc9qMs/maxresdefau...</td>\n",
       "      <td>Ben Shapiro</td>\n",
       "      <td>['Podcast', 'Conservative', 'The Ben Shapiro S...</td>\n",
       "      <td>Entertainment</td>\n",
       "      <td>en</td>\n",
       "      <td>1957862099</td>\n",
       "      <td>5890000</td>\n",
       "      <td>4320</td>\n",
       "    </tr>\n",
       "    <tr>\n",
       "      <th>0</th>\n",
       "      <td>1qIYSUNvBvA</td>\n",
       "      <td>-0.472300</td>\n",
       "      <td>98020</td>\n",
       "      <td>12990</td>\n",
       "      <td>661</td>\n",
       "      <td>2023-06-14T21:15:00Z</td>\n",
       "      <td>UCnQC_G5Xsjhp9fEJKuIcrSw</td>\n",
       "      <td>Update On Trump's Indictment</td>\n",
       "      <td>1️⃣ Click here to join the member exclusive po...</td>\n",
       "      <td>https://i.ytimg.com/vi/1qIYSUNvBvA/maxresdefau...</td>\n",
       "      <td>Ben Shapiro</td>\n",
       "      <td>['donald trump', 'trump news', 'news', 'trump'...</td>\n",
       "      <td>Entertainment</td>\n",
       "      <td>en</td>\n",
       "      <td>1957862099</td>\n",
       "      <td>5890000</td>\n",
       "      <td>4320</td>\n",
       "    </tr>\n",
       "    <tr>\n",
       "      <th>2</th>\n",
       "      <td>PdztsR8wFSg</td>\n",
       "      <td>-1.675900</td>\n",
       "      <td>40555</td>\n",
       "      <td>2080</td>\n",
       "      <td>957</td>\n",
       "      <td>2023-06-14T21:20:54Z</td>\n",
       "      <td>UCnQC_G5Xsjhp9fEJKuIcrSw</td>\n",
       "      <td>Mike Pence REACTS to Trump's Indictment</td>\n",
       "      <td>Joining us on the show today is former Vice Pr...</td>\n",
       "      <td>https://i.ytimg.com/vi/PdztsR8wFSg/maxresdefau...</td>\n",
       "      <td>Ben Shapiro</td>\n",
       "      <td>['mike pence', 'pence', 'mike pence president'...</td>\n",
       "      <td>Entertainment</td>\n",
       "      <td>en</td>\n",
       "      <td>1957862099</td>\n",
       "      <td>5890000</td>\n",
       "      <td>4320</td>\n",
       "    </tr>\n",
       "    <tr>\n",
       "      <th>4</th>\n",
       "      <td>vipbA08hp2E</td>\n",
       "      <td>-0.861900</td>\n",
       "      <td>54286</td>\n",
       "      <td>3285</td>\n",
       "      <td>522</td>\n",
       "      <td>2023-06-14T23:00:19Z</td>\n",
       "      <td>UCnQC_G5Xsjhp9fEJKuIcrSw</td>\n",
       "      <td>Liberal Media LOSES IT Over Trump...Again</td>\n",
       "      <td>One of the reasons Donald Trump is so popular ...</td>\n",
       "      <td>https://i.ytimg.com/vi/vipbA08hp2E/maxresdefau...</td>\n",
       "      <td>Ben Shapiro</td>\n",
       "      <td>['trump indictment', 'donald trump', 'trump', ...</td>\n",
       "      <td>Entertainment</td>\n",
       "      <td>en</td>\n",
       "      <td>1957862099</td>\n",
       "      <td>5890000</td>\n",
       "      <td>4320</td>\n",
       "    </tr>\n",
       "    <tr>\n",
       "      <th>8</th>\n",
       "      <td>ucYdt48k82A</td>\n",
       "      <td>0.505876</td>\n",
       "      <td>104537</td>\n",
       "      <td>14224</td>\n",
       "      <td>315</td>\n",
       "      <td>2023-06-14T23:00:23Z</td>\n",
       "      <td>UCnQC_G5Xsjhp9fEJKuIcrSw</td>\n",
       "      <td>Trump Has Jokes 👏</td>\n",
       "      <td>1️⃣ Click here to join the member exclusive po...</td>\n",
       "      <td>https://i.ytimg.com/vi/ucYdt48k82A/maxresdefau...</td>\n",
       "      <td>Ben Shapiro</td>\n",
       "      <td>['donald trump', 'trump', 'trump indictment', ...</td>\n",
       "      <td>Entertainment</td>\n",
       "      <td>en</td>\n",
       "      <td>1957862099</td>\n",
       "      <td>5890000</td>\n",
       "      <td>4320</td>\n",
       "    </tr>\n",
       "    <tr>\n",
       "      <th>7</th>\n",
       "      <td>t5lQG77XJQo</td>\n",
       "      <td>0.624742</td>\n",
       "      <td>82133</td>\n",
       "      <td>12859</td>\n",
       "      <td>342</td>\n",
       "      <td>2023-06-15T00:00:19Z</td>\n",
       "      <td>UCnQC_G5Xsjhp9fEJKuIcrSw</td>\n",
       "      <td>This Is Good 😂</td>\n",
       "      <td>1️⃣ Click here to join the member exclusive po...</td>\n",
       "      <td>https://i.ytimg.com/vi/t5lQG77XJQo/maxresdefau...</td>\n",
       "      <td>Ben Shapiro</td>\n",
       "      <td>['comedian', 'coemdian ali', 'stand up comedia...</td>\n",
       "      <td>Entertainment</td>\n",
       "      <td>en</td>\n",
       "      <td>1957862099</td>\n",
       "      <td>5890000</td>\n",
       "      <td>4320</td>\n",
       "    </tr>\n",
       "  </tbody>\n",
       "</table>\n",
       "</div>"
      ],
      "text/plain": [
       "      video_id  positivity_score   views  likes  comments  \\\n",
       "9  L65YD1QNc80         -0.853021   36058   1648       297   \n",
       "5  9VCLm3DiGZI         -1.727071  182544   6458      1001   \n",
       "1  LrUv17ON_Do          1.679700  460132  54687      1044   \n",
       "3  Rmk2azCLf1c          0.062300  117647   8787       630   \n",
       "6  ffA-0Yc9qMs         -1.086364  166031   7133      1875   \n",
       "0  1qIYSUNvBvA         -0.472300   98020  12990       661   \n",
       "2  PdztsR8wFSg         -1.675900   40555   2080       957   \n",
       "4  vipbA08hp2E         -0.861900   54286   3285       522   \n",
       "8  ucYdt48k82A          0.505876  104537  14224       315   \n",
       "7  t5lQG77XJQo          0.624742   82133  12859       342   \n",
       "\n",
       "                   date                channel_id  \\\n",
       "9  2023-06-13T21:35:03Z  UCnQC_G5Xsjhp9fEJKuIcrSw   \n",
       "5  2023-06-13T23:00:04Z  UCnQC_G5Xsjhp9fEJKuIcrSw   \n",
       "1  2023-06-13T23:00:13Z  UCnQC_G5Xsjhp9fEJKuIcrSw   \n",
       "3  2023-06-14T00:15:02Z  UCnQC_G5Xsjhp9fEJKuIcrSw   \n",
       "6  2023-06-14T17:00:09Z  UCnQC_G5Xsjhp9fEJKuIcrSw   \n",
       "0  2023-06-14T21:15:00Z  UCnQC_G5Xsjhp9fEJKuIcrSw   \n",
       "2  2023-06-14T21:20:54Z  UCnQC_G5Xsjhp9fEJKuIcrSw   \n",
       "4  2023-06-14T23:00:19Z  UCnQC_G5Xsjhp9fEJKuIcrSw   \n",
       "8  2023-06-14T23:00:23Z  UCnQC_G5Xsjhp9fEJKuIcrSw   \n",
       "7  2023-06-15T00:00:19Z  UCnQC_G5Xsjhp9fEJKuIcrSw   \n",
       "\n",
       "                                           title  \\\n",
       "9                  Is China Spying On Us? AGAIN?   \n",
       "5  Is Megan Fox FORCING Her Son to Wear Dresses?   \n",
       "1                    Ben Reacts to Russell Brand   \n",
       "3                                Karen's Diner 👀   \n",
       "6                    Will Trump Get His Revenge?   \n",
       "0                   Update On Trump's Indictment   \n",
       "2        Mike Pence REACTS to Trump's Indictment   \n",
       "4      Liberal Media LOSES IT Over Trump...Again   \n",
       "8                              Trump Has Jokes 👏   \n",
       "7                                 This Is Good 😂   \n",
       "\n",
       "                                         description  \\\n",
       "9  Last week it was reported that the Chinese wer...   \n",
       "5  Megan Fox is a legit crazy person. Robby Starb...   \n",
       "1  1️⃣ Click here to join the member exclusive po...   \n",
       "3  1️⃣ Click here to join the member exclusive po...   \n",
       "6  President Trump goes to Miami court for arraig...   \n",
       "0  1️⃣ Click here to join the member exclusive po...   \n",
       "2  Joining us on the show today is former Vice Pr...   \n",
       "4  One of the reasons Donald Trump is so popular ...   \n",
       "8  1️⃣ Click here to join the member exclusive po...   \n",
       "7  1️⃣ Click here to join the member exclusive po...   \n",
       "\n",
       "                                           thumbnail channel_title  \\\n",
       "9  https://i.ytimg.com/vi/L65YD1QNc80/maxresdefau...   Ben Shapiro   \n",
       "5  https://i.ytimg.com/vi/9VCLm3DiGZI/maxresdefau...   Ben Shapiro   \n",
       "1  https://i.ytimg.com/vi/LrUv17ON_Do/maxresdefau...   Ben Shapiro   \n",
       "3  https://i.ytimg.com/vi/Rmk2azCLf1c/maxresdefau...   Ben Shapiro   \n",
       "6  https://i.ytimg.com/vi/ffA-0Yc9qMs/maxresdefau...   Ben Shapiro   \n",
       "0  https://i.ytimg.com/vi/1qIYSUNvBvA/maxresdefau...   Ben Shapiro   \n",
       "2  https://i.ytimg.com/vi/PdztsR8wFSg/maxresdefau...   Ben Shapiro   \n",
       "4  https://i.ytimg.com/vi/vipbA08hp2E/maxresdefau...   Ben Shapiro   \n",
       "8  https://i.ytimg.com/vi/ucYdt48k82A/maxresdefau...   Ben Shapiro   \n",
       "7  https://i.ytimg.com/vi/t5lQG77XJQo/maxresdefau...   Ben Shapiro   \n",
       "\n",
       "                                                tags          genre language  \\\n",
       "9  ['china', 'cuba', 'china cuba', 'cuba china', ...  Entertainment       en   \n",
       "5  ['mark cuban', 'mark cuban interview', 'mark c...  Entertainment       en   \n",
       "1  ['russell brand', 'brand russell', 'russell br...  Entertainment       en   \n",
       "3  ['karen', 'karens', 'angry karen', 'insane kar...  Entertainment       en   \n",
       "6  ['Podcast', 'Conservative', 'The Ben Shapiro S...  Entertainment       en   \n",
       "0  ['donald trump', 'trump news', 'news', 'trump'...  Entertainment       en   \n",
       "2  ['mike pence', 'pence', 'mike pence president'...  Entertainment       en   \n",
       "4  ['trump indictment', 'donald trump', 'trump', ...  Entertainment       en   \n",
       "8  ['donald trump', 'trump', 'trump indictment', ...  Entertainment       en   \n",
       "7  ['comedian', 'coemdian ali', 'stand up comedia...  Entertainment       en   \n",
       "\n",
       "   Total_Views  Sub_Count  Video_Count  \n",
       "9   1957862099    5890000         4320  \n",
       "5   1957862099    5890000         4320  \n",
       "1   1957862099    5890000         4320  \n",
       "3   1957862099    5890000         4320  \n",
       "6   1957862099    5890000         4320  \n",
       "0   1957862099    5890000         4320  \n",
       "2   1957862099    5890000         4320  \n",
       "4   1957862099    5890000         4320  \n",
       "8   1957862099    5890000         4320  \n",
       "7   1957862099    5890000         4320  "
      ]
     },
     "execution_count": 27,
     "metadata": {},
     "output_type": "execute_result"
    }
   ],
   "source": [
    "video_stats = pd.merge(left=IDs_df,right=channel_info,how=\"inner\",on=\"video_id\").sort_values(\"date\")\n",
    "video_stats"
   ]
  },
  {
   "cell_type": "code",
   "execution_count": 36,
   "id": "89ca77fe",
   "metadata": {},
   "outputs": [
    {
     "data": {
      "application/vnd.plotly.v1+json": {
       "config": {
        "plotlyServerURL": "https://plot.ly"
       },
       "data": [
        {
         "hovertemplate": "date=%{x}<br>views=%{y}<br>title=%{text}<extra></extra>",
         "legendgroup": "",
         "line": {
          "color": "#636efa",
          "dash": "solid"
         },
         "marker": {
          "symbol": "circle"
         },
         "mode": "markers+text+lines",
         "name": "",
         "orientation": "v",
         "showlegend": false,
         "text": [
          "Is China Spying On Us? AGAIN?",
          "Is Megan Fox FORCING Her Son to Wear Dresses?",
          "Ben Reacts to Russell Brand",
          "Karen's Diner 👀",
          "Will Trump Get His Revenge?",
          "Update On Trump's Indictment",
          "Mike Pence REACTS to Trump's Indictment",
          "Liberal Media LOSES IT Over Trump...Again",
          "Trump Has Jokes 👏",
          "This Is Good 😂"
         ],
         "textposition": "bottom right",
         "type": "scatter",
         "x": [
          "2023-06-13T21:35:03Z",
          "2023-06-13T23:00:04Z",
          "2023-06-13T23:00:13Z",
          "2023-06-14T00:15:02Z",
          "2023-06-14T17:00:09Z",
          "2023-06-14T21:15:00Z",
          "2023-06-14T21:20:54Z",
          "2023-06-14T23:00:19Z",
          "2023-06-14T23:00:23Z",
          "2023-06-15T00:00:19Z"
         ],
         "xaxis": "x",
         "y": [
          36058,
          182544,
          460132,
          117647,
          166031,
          98020,
          40555,
          54286,
          104537,
          82133
         ],
         "yaxis": "y"
        }
       ],
       "layout": {
        "legend": {
         "tracegroupgap": 0
        },
        "template": {
         "data": {
          "bar": [
           {
            "error_x": {
             "color": "#2a3f5f"
            },
            "error_y": {
             "color": "#2a3f5f"
            },
            "marker": {
             "line": {
              "color": "#E5ECF6",
              "width": 0.5
             },
             "pattern": {
              "fillmode": "overlay",
              "size": 10,
              "solidity": 0.2
             }
            },
            "type": "bar"
           }
          ],
          "barpolar": [
           {
            "marker": {
             "line": {
              "color": "#E5ECF6",
              "width": 0.5
             },
             "pattern": {
              "fillmode": "overlay",
              "size": 10,
              "solidity": 0.2
             }
            },
            "type": "barpolar"
           }
          ],
          "carpet": [
           {
            "aaxis": {
             "endlinecolor": "#2a3f5f",
             "gridcolor": "white",
             "linecolor": "white",
             "minorgridcolor": "white",
             "startlinecolor": "#2a3f5f"
            },
            "baxis": {
             "endlinecolor": "#2a3f5f",
             "gridcolor": "white",
             "linecolor": "white",
             "minorgridcolor": "white",
             "startlinecolor": "#2a3f5f"
            },
            "type": "carpet"
           }
          ],
          "choropleth": [
           {
            "colorbar": {
             "outlinewidth": 0,
             "ticks": ""
            },
            "type": "choropleth"
           }
          ],
          "contour": [
           {
            "colorbar": {
             "outlinewidth": 0,
             "ticks": ""
            },
            "colorscale": [
             [
              0,
              "#0d0887"
             ],
             [
              0.1111111111111111,
              "#46039f"
             ],
             [
              0.2222222222222222,
              "#7201a8"
             ],
             [
              0.3333333333333333,
              "#9c179e"
             ],
             [
              0.4444444444444444,
              "#bd3786"
             ],
             [
              0.5555555555555556,
              "#d8576b"
             ],
             [
              0.6666666666666666,
              "#ed7953"
             ],
             [
              0.7777777777777778,
              "#fb9f3a"
             ],
             [
              0.8888888888888888,
              "#fdca26"
             ],
             [
              1,
              "#f0f921"
             ]
            ],
            "type": "contour"
           }
          ],
          "contourcarpet": [
           {
            "colorbar": {
             "outlinewidth": 0,
             "ticks": ""
            },
            "type": "contourcarpet"
           }
          ],
          "heatmap": [
           {
            "colorbar": {
             "outlinewidth": 0,
             "ticks": ""
            },
            "colorscale": [
             [
              0,
              "#0d0887"
             ],
             [
              0.1111111111111111,
              "#46039f"
             ],
             [
              0.2222222222222222,
              "#7201a8"
             ],
             [
              0.3333333333333333,
              "#9c179e"
             ],
             [
              0.4444444444444444,
              "#bd3786"
             ],
             [
              0.5555555555555556,
              "#d8576b"
             ],
             [
              0.6666666666666666,
              "#ed7953"
             ],
             [
              0.7777777777777778,
              "#fb9f3a"
             ],
             [
              0.8888888888888888,
              "#fdca26"
             ],
             [
              1,
              "#f0f921"
             ]
            ],
            "type": "heatmap"
           }
          ],
          "heatmapgl": [
           {
            "colorbar": {
             "outlinewidth": 0,
             "ticks": ""
            },
            "colorscale": [
             [
              0,
              "#0d0887"
             ],
             [
              0.1111111111111111,
              "#46039f"
             ],
             [
              0.2222222222222222,
              "#7201a8"
             ],
             [
              0.3333333333333333,
              "#9c179e"
             ],
             [
              0.4444444444444444,
              "#bd3786"
             ],
             [
              0.5555555555555556,
              "#d8576b"
             ],
             [
              0.6666666666666666,
              "#ed7953"
             ],
             [
              0.7777777777777778,
              "#fb9f3a"
             ],
             [
              0.8888888888888888,
              "#fdca26"
             ],
             [
              1,
              "#f0f921"
             ]
            ],
            "type": "heatmapgl"
           }
          ],
          "histogram": [
           {
            "marker": {
             "pattern": {
              "fillmode": "overlay",
              "size": 10,
              "solidity": 0.2
             }
            },
            "type": "histogram"
           }
          ],
          "histogram2d": [
           {
            "colorbar": {
             "outlinewidth": 0,
             "ticks": ""
            },
            "colorscale": [
             [
              0,
              "#0d0887"
             ],
             [
              0.1111111111111111,
              "#46039f"
             ],
             [
              0.2222222222222222,
              "#7201a8"
             ],
             [
              0.3333333333333333,
              "#9c179e"
             ],
             [
              0.4444444444444444,
              "#bd3786"
             ],
             [
              0.5555555555555556,
              "#d8576b"
             ],
             [
              0.6666666666666666,
              "#ed7953"
             ],
             [
              0.7777777777777778,
              "#fb9f3a"
             ],
             [
              0.8888888888888888,
              "#fdca26"
             ],
             [
              1,
              "#f0f921"
             ]
            ],
            "type": "histogram2d"
           }
          ],
          "histogram2dcontour": [
           {
            "colorbar": {
             "outlinewidth": 0,
             "ticks": ""
            },
            "colorscale": [
             [
              0,
              "#0d0887"
             ],
             [
              0.1111111111111111,
              "#46039f"
             ],
             [
              0.2222222222222222,
              "#7201a8"
             ],
             [
              0.3333333333333333,
              "#9c179e"
             ],
             [
              0.4444444444444444,
              "#bd3786"
             ],
             [
              0.5555555555555556,
              "#d8576b"
             ],
             [
              0.6666666666666666,
              "#ed7953"
             ],
             [
              0.7777777777777778,
              "#fb9f3a"
             ],
             [
              0.8888888888888888,
              "#fdca26"
             ],
             [
              1,
              "#f0f921"
             ]
            ],
            "type": "histogram2dcontour"
           }
          ],
          "mesh3d": [
           {
            "colorbar": {
             "outlinewidth": 0,
             "ticks": ""
            },
            "type": "mesh3d"
           }
          ],
          "parcoords": [
           {
            "line": {
             "colorbar": {
              "outlinewidth": 0,
              "ticks": ""
             }
            },
            "type": "parcoords"
           }
          ],
          "pie": [
           {
            "automargin": true,
            "type": "pie"
           }
          ],
          "scatter": [
           {
            "fillpattern": {
             "fillmode": "overlay",
             "size": 10,
             "solidity": 0.2
            },
            "type": "scatter"
           }
          ],
          "scatter3d": [
           {
            "line": {
             "colorbar": {
              "outlinewidth": 0,
              "ticks": ""
             }
            },
            "marker": {
             "colorbar": {
              "outlinewidth": 0,
              "ticks": ""
             }
            },
            "type": "scatter3d"
           }
          ],
          "scattercarpet": [
           {
            "marker": {
             "colorbar": {
              "outlinewidth": 0,
              "ticks": ""
             }
            },
            "type": "scattercarpet"
           }
          ],
          "scattergeo": [
           {
            "marker": {
             "colorbar": {
              "outlinewidth": 0,
              "ticks": ""
             }
            },
            "type": "scattergeo"
           }
          ],
          "scattergl": [
           {
            "marker": {
             "colorbar": {
              "outlinewidth": 0,
              "ticks": ""
             }
            },
            "type": "scattergl"
           }
          ],
          "scattermapbox": [
           {
            "marker": {
             "colorbar": {
              "outlinewidth": 0,
              "ticks": ""
             }
            },
            "type": "scattermapbox"
           }
          ],
          "scatterpolar": [
           {
            "marker": {
             "colorbar": {
              "outlinewidth": 0,
              "ticks": ""
             }
            },
            "type": "scatterpolar"
           }
          ],
          "scatterpolargl": [
           {
            "marker": {
             "colorbar": {
              "outlinewidth": 0,
              "ticks": ""
             }
            },
            "type": "scatterpolargl"
           }
          ],
          "scatterternary": [
           {
            "marker": {
             "colorbar": {
              "outlinewidth": 0,
              "ticks": ""
             }
            },
            "type": "scatterternary"
           }
          ],
          "surface": [
           {
            "colorbar": {
             "outlinewidth": 0,
             "ticks": ""
            },
            "colorscale": [
             [
              0,
              "#0d0887"
             ],
             [
              0.1111111111111111,
              "#46039f"
             ],
             [
              0.2222222222222222,
              "#7201a8"
             ],
             [
              0.3333333333333333,
              "#9c179e"
             ],
             [
              0.4444444444444444,
              "#bd3786"
             ],
             [
              0.5555555555555556,
              "#d8576b"
             ],
             [
              0.6666666666666666,
              "#ed7953"
             ],
             [
              0.7777777777777778,
              "#fb9f3a"
             ],
             [
              0.8888888888888888,
              "#fdca26"
             ],
             [
              1,
              "#f0f921"
             ]
            ],
            "type": "surface"
           }
          ],
          "table": [
           {
            "cells": {
             "fill": {
              "color": "#EBF0F8"
             },
             "line": {
              "color": "white"
             }
            },
            "header": {
             "fill": {
              "color": "#C8D4E3"
             },
             "line": {
              "color": "white"
             }
            },
            "type": "table"
           }
          ]
         },
         "layout": {
          "annotationdefaults": {
           "arrowcolor": "#2a3f5f",
           "arrowhead": 0,
           "arrowwidth": 1
          },
          "autotypenumbers": "strict",
          "coloraxis": {
           "colorbar": {
            "outlinewidth": 0,
            "ticks": ""
           }
          },
          "colorscale": {
           "diverging": [
            [
             0,
             "#8e0152"
            ],
            [
             0.1,
             "#c51b7d"
            ],
            [
             0.2,
             "#de77ae"
            ],
            [
             0.3,
             "#f1b6da"
            ],
            [
             0.4,
             "#fde0ef"
            ],
            [
             0.5,
             "#f7f7f7"
            ],
            [
             0.6,
             "#e6f5d0"
            ],
            [
             0.7,
             "#b8e186"
            ],
            [
             0.8,
             "#7fbc41"
            ],
            [
             0.9,
             "#4d9221"
            ],
            [
             1,
             "#276419"
            ]
           ],
           "sequential": [
            [
             0,
             "#0d0887"
            ],
            [
             0.1111111111111111,
             "#46039f"
            ],
            [
             0.2222222222222222,
             "#7201a8"
            ],
            [
             0.3333333333333333,
             "#9c179e"
            ],
            [
             0.4444444444444444,
             "#bd3786"
            ],
            [
             0.5555555555555556,
             "#d8576b"
            ],
            [
             0.6666666666666666,
             "#ed7953"
            ],
            [
             0.7777777777777778,
             "#fb9f3a"
            ],
            [
             0.8888888888888888,
             "#fdca26"
            ],
            [
             1,
             "#f0f921"
            ]
           ],
           "sequentialminus": [
            [
             0,
             "#0d0887"
            ],
            [
             0.1111111111111111,
             "#46039f"
            ],
            [
             0.2222222222222222,
             "#7201a8"
            ],
            [
             0.3333333333333333,
             "#9c179e"
            ],
            [
             0.4444444444444444,
             "#bd3786"
            ],
            [
             0.5555555555555556,
             "#d8576b"
            ],
            [
             0.6666666666666666,
             "#ed7953"
            ],
            [
             0.7777777777777778,
             "#fb9f3a"
            ],
            [
             0.8888888888888888,
             "#fdca26"
            ],
            [
             1,
             "#f0f921"
            ]
           ]
          },
          "colorway": [
           "#636efa",
           "#EF553B",
           "#00cc96",
           "#ab63fa",
           "#FFA15A",
           "#19d3f3",
           "#FF6692",
           "#B6E880",
           "#FF97FF",
           "#FECB52"
          ],
          "font": {
           "color": "#2a3f5f"
          },
          "geo": {
           "bgcolor": "white",
           "lakecolor": "white",
           "landcolor": "#E5ECF6",
           "showlakes": true,
           "showland": true,
           "subunitcolor": "white"
          },
          "hoverlabel": {
           "align": "left"
          },
          "hovermode": "closest",
          "mapbox": {
           "style": "light"
          },
          "paper_bgcolor": "white",
          "plot_bgcolor": "#E5ECF6",
          "polar": {
           "angularaxis": {
            "gridcolor": "white",
            "linecolor": "white",
            "ticks": ""
           },
           "bgcolor": "#E5ECF6",
           "radialaxis": {
            "gridcolor": "white",
            "linecolor": "white",
            "ticks": ""
           }
          },
          "scene": {
           "xaxis": {
            "backgroundcolor": "#E5ECF6",
            "gridcolor": "white",
            "gridwidth": 2,
            "linecolor": "white",
            "showbackground": true,
            "ticks": "",
            "zerolinecolor": "white"
           },
           "yaxis": {
            "backgroundcolor": "#E5ECF6",
            "gridcolor": "white",
            "gridwidth": 2,
            "linecolor": "white",
            "showbackground": true,
            "ticks": "",
            "zerolinecolor": "white"
           },
           "zaxis": {
            "backgroundcolor": "#E5ECF6",
            "gridcolor": "white",
            "gridwidth": 2,
            "linecolor": "white",
            "showbackground": true,
            "ticks": "",
            "zerolinecolor": "white"
           }
          },
          "shapedefaults": {
           "line": {
            "color": "#2a3f5f"
           }
          },
          "ternary": {
           "aaxis": {
            "gridcolor": "white",
            "linecolor": "white",
            "ticks": ""
           },
           "baxis": {
            "gridcolor": "white",
            "linecolor": "white",
            "ticks": ""
           },
           "bgcolor": "#E5ECF6",
           "caxis": {
            "gridcolor": "white",
            "linecolor": "white",
            "ticks": ""
           }
          },
          "title": {
           "x": 0.05
          },
          "xaxis": {
           "automargin": true,
           "gridcolor": "white",
           "linecolor": "white",
           "ticks": "",
           "title": {
            "standoff": 15
           },
           "zerolinecolor": "white",
           "zerolinewidth": 2
          },
          "yaxis": {
           "automargin": true,
           "gridcolor": "white",
           "linecolor": "white",
           "ticks": "",
           "title": {
            "standoff": 15
           },
           "zerolinecolor": "white",
           "zerolinewidth": 2
          }
         }
        },
        "title": {
         "text": "Views over last 10 videos"
        },
        "xaxis": {
         "anchor": "y",
         "domain": [
          0,
          1
         ],
         "title": {
          "text": "date"
         }
        },
        "yaxis": {
         "anchor": "x",
         "domain": [
          0,
          1
         ],
         "title": {
          "text": "views"
         }
        }
       }
      },
      "text/html": [
       "<div>                            <div id=\"095d2e13-d6bc-4ab5-a61e-a066a7c022e6\" class=\"plotly-graph-div\" style=\"height:525px; width:100%;\"></div>            <script type=\"text/javascript\">                require([\"plotly\"], function(Plotly) {                    window.PLOTLYENV=window.PLOTLYENV || {};                                    if (document.getElementById(\"095d2e13-d6bc-4ab5-a61e-a066a7c022e6\")) {                    Plotly.newPlot(                        \"095d2e13-d6bc-4ab5-a61e-a066a7c022e6\",                        [{\"hovertemplate\":\"date=%{x}\\u003cbr\\u003eviews=%{y}\\u003cbr\\u003etitle=%{text}\\u003cextra\\u003e\\u003c\\u002fextra\\u003e\",\"legendgroup\":\"\",\"line\":{\"color\":\"#636efa\",\"dash\":\"solid\"},\"marker\":{\"symbol\":\"circle\"},\"mode\":\"markers+text+lines\",\"name\":\"\",\"orientation\":\"v\",\"showlegend\":false,\"text\":[\"Is China Spying On Us? AGAIN?\",\"Is Megan Fox FORCING Her Son to Wear Dresses?\",\"Ben Reacts to Russell Brand\",\"Karen's Diner \\ud83d\\udc40\",\"Will Trump Get His Revenge?\",\"Update On Trump's Indictment\",\"Mike Pence REACTS to Trump's Indictment\",\"Liberal Media LOSES IT Over Trump...Again\",\"Trump Has Jokes \\ud83d\\udc4f\",\"This Is Good \\ud83d\\ude02\"],\"x\":[\"2023-06-13T21:35:03Z\",\"2023-06-13T23:00:04Z\",\"2023-06-13T23:00:13Z\",\"2023-06-14T00:15:02Z\",\"2023-06-14T17:00:09Z\",\"2023-06-14T21:15:00Z\",\"2023-06-14T21:20:54Z\",\"2023-06-14T23:00:19Z\",\"2023-06-14T23:00:23Z\",\"2023-06-15T00:00:19Z\"],\"xaxis\":\"x\",\"y\":[36058,182544,460132,117647,166031,98020,40555,54286,104537,82133],\"yaxis\":\"y\",\"type\":\"scatter\",\"textposition\":\"bottom right\"}],                        {\"template\":{\"data\":{\"histogram2dcontour\":[{\"type\":\"histogram2dcontour\",\"colorbar\":{\"outlinewidth\":0,\"ticks\":\"\"},\"colorscale\":[[0.0,\"#0d0887\"],[0.1111111111111111,\"#46039f\"],[0.2222222222222222,\"#7201a8\"],[0.3333333333333333,\"#9c179e\"],[0.4444444444444444,\"#bd3786\"],[0.5555555555555556,\"#d8576b\"],[0.6666666666666666,\"#ed7953\"],[0.7777777777777778,\"#fb9f3a\"],[0.8888888888888888,\"#fdca26\"],[1.0,\"#f0f921\"]]}],\"choropleth\":[{\"type\":\"choropleth\",\"colorbar\":{\"outlinewidth\":0,\"ticks\":\"\"}}],\"histogram2d\":[{\"type\":\"histogram2d\",\"colorbar\":{\"outlinewidth\":0,\"ticks\":\"\"},\"colorscale\":[[0.0,\"#0d0887\"],[0.1111111111111111,\"#46039f\"],[0.2222222222222222,\"#7201a8\"],[0.3333333333333333,\"#9c179e\"],[0.4444444444444444,\"#bd3786\"],[0.5555555555555556,\"#d8576b\"],[0.6666666666666666,\"#ed7953\"],[0.7777777777777778,\"#fb9f3a\"],[0.8888888888888888,\"#fdca26\"],[1.0,\"#f0f921\"]]}],\"heatmap\":[{\"type\":\"heatmap\",\"colorbar\":{\"outlinewidth\":0,\"ticks\":\"\"},\"colorscale\":[[0.0,\"#0d0887\"],[0.1111111111111111,\"#46039f\"],[0.2222222222222222,\"#7201a8\"],[0.3333333333333333,\"#9c179e\"],[0.4444444444444444,\"#bd3786\"],[0.5555555555555556,\"#d8576b\"],[0.6666666666666666,\"#ed7953\"],[0.7777777777777778,\"#fb9f3a\"],[0.8888888888888888,\"#fdca26\"],[1.0,\"#f0f921\"]]}],\"heatmapgl\":[{\"type\":\"heatmapgl\",\"colorbar\":{\"outlinewidth\":0,\"ticks\":\"\"},\"colorscale\":[[0.0,\"#0d0887\"],[0.1111111111111111,\"#46039f\"],[0.2222222222222222,\"#7201a8\"],[0.3333333333333333,\"#9c179e\"],[0.4444444444444444,\"#bd3786\"],[0.5555555555555556,\"#d8576b\"],[0.6666666666666666,\"#ed7953\"],[0.7777777777777778,\"#fb9f3a\"],[0.8888888888888888,\"#fdca26\"],[1.0,\"#f0f921\"]]}],\"contourcarpet\":[{\"type\":\"contourcarpet\",\"colorbar\":{\"outlinewidth\":0,\"ticks\":\"\"}}],\"contour\":[{\"type\":\"contour\",\"colorbar\":{\"outlinewidth\":0,\"ticks\":\"\"},\"colorscale\":[[0.0,\"#0d0887\"],[0.1111111111111111,\"#46039f\"],[0.2222222222222222,\"#7201a8\"],[0.3333333333333333,\"#9c179e\"],[0.4444444444444444,\"#bd3786\"],[0.5555555555555556,\"#d8576b\"],[0.6666666666666666,\"#ed7953\"],[0.7777777777777778,\"#fb9f3a\"],[0.8888888888888888,\"#fdca26\"],[1.0,\"#f0f921\"]]}],\"surface\":[{\"type\":\"surface\",\"colorbar\":{\"outlinewidth\":0,\"ticks\":\"\"},\"colorscale\":[[0.0,\"#0d0887\"],[0.1111111111111111,\"#46039f\"],[0.2222222222222222,\"#7201a8\"],[0.3333333333333333,\"#9c179e\"],[0.4444444444444444,\"#bd3786\"],[0.5555555555555556,\"#d8576b\"],[0.6666666666666666,\"#ed7953\"],[0.7777777777777778,\"#fb9f3a\"],[0.8888888888888888,\"#fdca26\"],[1.0,\"#f0f921\"]]}],\"mesh3d\":[{\"type\":\"mesh3d\",\"colorbar\":{\"outlinewidth\":0,\"ticks\":\"\"}}],\"scatter\":[{\"fillpattern\":{\"fillmode\":\"overlay\",\"size\":10,\"solidity\":0.2},\"type\":\"scatter\"}],\"parcoords\":[{\"type\":\"parcoords\",\"line\":{\"colorbar\":{\"outlinewidth\":0,\"ticks\":\"\"}}}],\"scatterpolargl\":[{\"type\":\"scatterpolargl\",\"marker\":{\"colorbar\":{\"outlinewidth\":0,\"ticks\":\"\"}}}],\"bar\":[{\"error_x\":{\"color\":\"#2a3f5f\"},\"error_y\":{\"color\":\"#2a3f5f\"},\"marker\":{\"line\":{\"color\":\"#E5ECF6\",\"width\":0.5},\"pattern\":{\"fillmode\":\"overlay\",\"size\":10,\"solidity\":0.2}},\"type\":\"bar\"}],\"scattergeo\":[{\"type\":\"scattergeo\",\"marker\":{\"colorbar\":{\"outlinewidth\":0,\"ticks\":\"\"}}}],\"scatterpolar\":[{\"type\":\"scatterpolar\",\"marker\":{\"colorbar\":{\"outlinewidth\":0,\"ticks\":\"\"}}}],\"histogram\":[{\"marker\":{\"pattern\":{\"fillmode\":\"overlay\",\"size\":10,\"solidity\":0.2}},\"type\":\"histogram\"}],\"scattergl\":[{\"type\":\"scattergl\",\"marker\":{\"colorbar\":{\"outlinewidth\":0,\"ticks\":\"\"}}}],\"scatter3d\":[{\"type\":\"scatter3d\",\"line\":{\"colorbar\":{\"outlinewidth\":0,\"ticks\":\"\"}},\"marker\":{\"colorbar\":{\"outlinewidth\":0,\"ticks\":\"\"}}}],\"scattermapbox\":[{\"type\":\"scattermapbox\",\"marker\":{\"colorbar\":{\"outlinewidth\":0,\"ticks\":\"\"}}}],\"scatterternary\":[{\"type\":\"scatterternary\",\"marker\":{\"colorbar\":{\"outlinewidth\":0,\"ticks\":\"\"}}}],\"scattercarpet\":[{\"type\":\"scattercarpet\",\"marker\":{\"colorbar\":{\"outlinewidth\":0,\"ticks\":\"\"}}}],\"carpet\":[{\"aaxis\":{\"endlinecolor\":\"#2a3f5f\",\"gridcolor\":\"white\",\"linecolor\":\"white\",\"minorgridcolor\":\"white\",\"startlinecolor\":\"#2a3f5f\"},\"baxis\":{\"endlinecolor\":\"#2a3f5f\",\"gridcolor\":\"white\",\"linecolor\":\"white\",\"minorgridcolor\":\"white\",\"startlinecolor\":\"#2a3f5f\"},\"type\":\"carpet\"}],\"table\":[{\"cells\":{\"fill\":{\"color\":\"#EBF0F8\"},\"line\":{\"color\":\"white\"}},\"header\":{\"fill\":{\"color\":\"#C8D4E3\"},\"line\":{\"color\":\"white\"}},\"type\":\"table\"}],\"barpolar\":[{\"marker\":{\"line\":{\"color\":\"#E5ECF6\",\"width\":0.5},\"pattern\":{\"fillmode\":\"overlay\",\"size\":10,\"solidity\":0.2}},\"type\":\"barpolar\"}],\"pie\":[{\"automargin\":true,\"type\":\"pie\"}]},\"layout\":{\"autotypenumbers\":\"strict\",\"colorway\":[\"#636efa\",\"#EF553B\",\"#00cc96\",\"#ab63fa\",\"#FFA15A\",\"#19d3f3\",\"#FF6692\",\"#B6E880\",\"#FF97FF\",\"#FECB52\"],\"font\":{\"color\":\"#2a3f5f\"},\"hovermode\":\"closest\",\"hoverlabel\":{\"align\":\"left\"},\"paper_bgcolor\":\"white\",\"plot_bgcolor\":\"#E5ECF6\",\"polar\":{\"bgcolor\":\"#E5ECF6\",\"angularaxis\":{\"gridcolor\":\"white\",\"linecolor\":\"white\",\"ticks\":\"\"},\"radialaxis\":{\"gridcolor\":\"white\",\"linecolor\":\"white\",\"ticks\":\"\"}},\"ternary\":{\"bgcolor\":\"#E5ECF6\",\"aaxis\":{\"gridcolor\":\"white\",\"linecolor\":\"white\",\"ticks\":\"\"},\"baxis\":{\"gridcolor\":\"white\",\"linecolor\":\"white\",\"ticks\":\"\"},\"caxis\":{\"gridcolor\":\"white\",\"linecolor\":\"white\",\"ticks\":\"\"}},\"coloraxis\":{\"colorbar\":{\"outlinewidth\":0,\"ticks\":\"\"}},\"colorscale\":{\"sequential\":[[0.0,\"#0d0887\"],[0.1111111111111111,\"#46039f\"],[0.2222222222222222,\"#7201a8\"],[0.3333333333333333,\"#9c179e\"],[0.4444444444444444,\"#bd3786\"],[0.5555555555555556,\"#d8576b\"],[0.6666666666666666,\"#ed7953\"],[0.7777777777777778,\"#fb9f3a\"],[0.8888888888888888,\"#fdca26\"],[1.0,\"#f0f921\"]],\"sequentialminus\":[[0.0,\"#0d0887\"],[0.1111111111111111,\"#46039f\"],[0.2222222222222222,\"#7201a8\"],[0.3333333333333333,\"#9c179e\"],[0.4444444444444444,\"#bd3786\"],[0.5555555555555556,\"#d8576b\"],[0.6666666666666666,\"#ed7953\"],[0.7777777777777778,\"#fb9f3a\"],[0.8888888888888888,\"#fdca26\"],[1.0,\"#f0f921\"]],\"diverging\":[[0,\"#8e0152\"],[0.1,\"#c51b7d\"],[0.2,\"#de77ae\"],[0.3,\"#f1b6da\"],[0.4,\"#fde0ef\"],[0.5,\"#f7f7f7\"],[0.6,\"#e6f5d0\"],[0.7,\"#b8e186\"],[0.8,\"#7fbc41\"],[0.9,\"#4d9221\"],[1,\"#276419\"]]},\"xaxis\":{\"gridcolor\":\"white\",\"linecolor\":\"white\",\"ticks\":\"\",\"title\":{\"standoff\":15},\"zerolinecolor\":\"white\",\"automargin\":true,\"zerolinewidth\":2},\"yaxis\":{\"gridcolor\":\"white\",\"linecolor\":\"white\",\"ticks\":\"\",\"title\":{\"standoff\":15},\"zerolinecolor\":\"white\",\"automargin\":true,\"zerolinewidth\":2},\"scene\":{\"xaxis\":{\"backgroundcolor\":\"#E5ECF6\",\"gridcolor\":\"white\",\"linecolor\":\"white\",\"showbackground\":true,\"ticks\":\"\",\"zerolinecolor\":\"white\",\"gridwidth\":2},\"yaxis\":{\"backgroundcolor\":\"#E5ECF6\",\"gridcolor\":\"white\",\"linecolor\":\"white\",\"showbackground\":true,\"ticks\":\"\",\"zerolinecolor\":\"white\",\"gridwidth\":2},\"zaxis\":{\"backgroundcolor\":\"#E5ECF6\",\"gridcolor\":\"white\",\"linecolor\":\"white\",\"showbackground\":true,\"ticks\":\"\",\"zerolinecolor\":\"white\",\"gridwidth\":2}},\"shapedefaults\":{\"line\":{\"color\":\"#2a3f5f\"}},\"annotationdefaults\":{\"arrowcolor\":\"#2a3f5f\",\"arrowhead\":0,\"arrowwidth\":1},\"geo\":{\"bgcolor\":\"white\",\"landcolor\":\"#E5ECF6\",\"subunitcolor\":\"white\",\"showland\":true,\"showlakes\":true,\"lakecolor\":\"white\"},\"title\":{\"x\":0.05},\"mapbox\":{\"style\":\"light\"}}},\"xaxis\":{\"anchor\":\"y\",\"domain\":[0.0,1.0],\"title\":{\"text\":\"date\"}},\"yaxis\":{\"anchor\":\"x\",\"domain\":[0.0,1.0],\"title\":{\"text\":\"views\"}},\"legend\":{\"tracegroupgap\":0},\"title\":{\"text\":\"Views over last 10 videos\"}},                        {\"responsive\": true}                    ).then(function(){\n",
       "                            \n",
       "var gd = document.getElementById('095d2e13-d6bc-4ab5-a61e-a066a7c022e6');\n",
       "var x = new MutationObserver(function (mutations, observer) {{\n",
       "        var display = window.getComputedStyle(gd).display;\n",
       "        if (!display || display === 'none') {{\n",
       "            console.log([gd, 'removed!']);\n",
       "            Plotly.purge(gd);\n",
       "            observer.disconnect();\n",
       "        }}\n",
       "}});\n",
       "\n",
       "// Listen for the removal of the full notebook cells\n",
       "var notebookContainer = gd.closest('#notebook-container');\n",
       "if (notebookContainer) {{\n",
       "    x.observe(notebookContainer, {childList: true});\n",
       "}}\n",
       "\n",
       "// Listen for the clearing of the current output cell\n",
       "var outputEl = gd.closest('.output');\n",
       "if (outputEl) {{\n",
       "    x.observe(outputEl, {childList: true});\n",
       "}}\n",
       "\n",
       "                        })                };                });            </script>        </div>"
      ]
     },
     "metadata": {},
     "output_type": "display_data"
    }
   ],
   "source": [
    "fig = px.line(video_stats, x=\"date\", y=\"views\", title='Views over last 10 videos', text='title')\n",
    "fig.update_traces(textposition=\"bottom right\")\n",
    "fig.show()"
   ]
  },
  {
   "cell_type": "code",
   "execution_count": 33,
   "id": "b557278a",
   "metadata": {},
   "outputs": [
    {
     "data": {
      "application/vnd.plotly.v1+json": {
       "config": {
        "plotlyServerURL": "https://plot.ly"
       },
       "data": [
        {
         "hovertemplate": "date=%{x}<br>positivity_score=%{y}<br>title=%{text}<extra></extra>",
         "legendgroup": "",
         "line": {
          "color": "#636efa",
          "dash": "solid"
         },
         "marker": {
          "symbol": "circle"
         },
         "mode": "markers+text+lines",
         "name": "",
         "orientation": "v",
         "showlegend": false,
         "text": [
          "Is China Spying On Us? AGAIN?",
          "Is Megan Fox FORCING Her Son to Wear Dresses?",
          "Ben Reacts to Russell Brand",
          "Karen's Diner 👀",
          "Will Trump Get His Revenge?",
          "Update On Trump's Indictment",
          "Mike Pence REACTS to Trump's Indictment",
          "Liberal Media LOSES IT Over Trump...Again",
          "Trump Has Jokes 👏",
          "This Is Good 😂"
         ],
         "textposition": "bottom right",
         "type": "scatter",
         "x": [
          "2023-06-13T21:35:03Z",
          "2023-06-13T23:00:04Z",
          "2023-06-13T23:00:13Z",
          "2023-06-14T00:15:02Z",
          "2023-06-14T17:00:09Z",
          "2023-06-14T21:15:00Z",
          "2023-06-14T21:20:54Z",
          "2023-06-14T23:00:19Z",
          "2023-06-14T23:00:23Z",
          "2023-06-15T00:00:19Z"
         ],
         "xaxis": "x",
         "y": [
          -0.8530208333333333,
          -1.7270707070707072,
          1.6797,
          0.0623,
          -1.0863636363636364,
          -0.4723,
          -1.6759,
          -0.8619,
          0.5058762886597937,
          0.6247422680412371
         ],
         "yaxis": "y"
        }
       ],
       "layout": {
        "legend": {
         "tracegroupgap": 0
        },
        "template": {
         "data": {
          "bar": [
           {
            "error_x": {
             "color": "#2a3f5f"
            },
            "error_y": {
             "color": "#2a3f5f"
            },
            "marker": {
             "line": {
              "color": "#E5ECF6",
              "width": 0.5
             },
             "pattern": {
              "fillmode": "overlay",
              "size": 10,
              "solidity": 0.2
             }
            },
            "type": "bar"
           }
          ],
          "barpolar": [
           {
            "marker": {
             "line": {
              "color": "#E5ECF6",
              "width": 0.5
             },
             "pattern": {
              "fillmode": "overlay",
              "size": 10,
              "solidity": 0.2
             }
            },
            "type": "barpolar"
           }
          ],
          "carpet": [
           {
            "aaxis": {
             "endlinecolor": "#2a3f5f",
             "gridcolor": "white",
             "linecolor": "white",
             "minorgridcolor": "white",
             "startlinecolor": "#2a3f5f"
            },
            "baxis": {
             "endlinecolor": "#2a3f5f",
             "gridcolor": "white",
             "linecolor": "white",
             "minorgridcolor": "white",
             "startlinecolor": "#2a3f5f"
            },
            "type": "carpet"
           }
          ],
          "choropleth": [
           {
            "colorbar": {
             "outlinewidth": 0,
             "ticks": ""
            },
            "type": "choropleth"
           }
          ],
          "contour": [
           {
            "colorbar": {
             "outlinewidth": 0,
             "ticks": ""
            },
            "colorscale": [
             [
              0,
              "#0d0887"
             ],
             [
              0.1111111111111111,
              "#46039f"
             ],
             [
              0.2222222222222222,
              "#7201a8"
             ],
             [
              0.3333333333333333,
              "#9c179e"
             ],
             [
              0.4444444444444444,
              "#bd3786"
             ],
             [
              0.5555555555555556,
              "#d8576b"
             ],
             [
              0.6666666666666666,
              "#ed7953"
             ],
             [
              0.7777777777777778,
              "#fb9f3a"
             ],
             [
              0.8888888888888888,
              "#fdca26"
             ],
             [
              1,
              "#f0f921"
             ]
            ],
            "type": "contour"
           }
          ],
          "contourcarpet": [
           {
            "colorbar": {
             "outlinewidth": 0,
             "ticks": ""
            },
            "type": "contourcarpet"
           }
          ],
          "heatmap": [
           {
            "colorbar": {
             "outlinewidth": 0,
             "ticks": ""
            },
            "colorscale": [
             [
              0,
              "#0d0887"
             ],
             [
              0.1111111111111111,
              "#46039f"
             ],
             [
              0.2222222222222222,
              "#7201a8"
             ],
             [
              0.3333333333333333,
              "#9c179e"
             ],
             [
              0.4444444444444444,
              "#bd3786"
             ],
             [
              0.5555555555555556,
              "#d8576b"
             ],
             [
              0.6666666666666666,
              "#ed7953"
             ],
             [
              0.7777777777777778,
              "#fb9f3a"
             ],
             [
              0.8888888888888888,
              "#fdca26"
             ],
             [
              1,
              "#f0f921"
             ]
            ],
            "type": "heatmap"
           }
          ],
          "heatmapgl": [
           {
            "colorbar": {
             "outlinewidth": 0,
             "ticks": ""
            },
            "colorscale": [
             [
              0,
              "#0d0887"
             ],
             [
              0.1111111111111111,
              "#46039f"
             ],
             [
              0.2222222222222222,
              "#7201a8"
             ],
             [
              0.3333333333333333,
              "#9c179e"
             ],
             [
              0.4444444444444444,
              "#bd3786"
             ],
             [
              0.5555555555555556,
              "#d8576b"
             ],
             [
              0.6666666666666666,
              "#ed7953"
             ],
             [
              0.7777777777777778,
              "#fb9f3a"
             ],
             [
              0.8888888888888888,
              "#fdca26"
             ],
             [
              1,
              "#f0f921"
             ]
            ],
            "type": "heatmapgl"
           }
          ],
          "histogram": [
           {
            "marker": {
             "pattern": {
              "fillmode": "overlay",
              "size": 10,
              "solidity": 0.2
             }
            },
            "type": "histogram"
           }
          ],
          "histogram2d": [
           {
            "colorbar": {
             "outlinewidth": 0,
             "ticks": ""
            },
            "colorscale": [
             [
              0,
              "#0d0887"
             ],
             [
              0.1111111111111111,
              "#46039f"
             ],
             [
              0.2222222222222222,
              "#7201a8"
             ],
             [
              0.3333333333333333,
              "#9c179e"
             ],
             [
              0.4444444444444444,
              "#bd3786"
             ],
             [
              0.5555555555555556,
              "#d8576b"
             ],
             [
              0.6666666666666666,
              "#ed7953"
             ],
             [
              0.7777777777777778,
              "#fb9f3a"
             ],
             [
              0.8888888888888888,
              "#fdca26"
             ],
             [
              1,
              "#f0f921"
             ]
            ],
            "type": "histogram2d"
           }
          ],
          "histogram2dcontour": [
           {
            "colorbar": {
             "outlinewidth": 0,
             "ticks": ""
            },
            "colorscale": [
             [
              0,
              "#0d0887"
             ],
             [
              0.1111111111111111,
              "#46039f"
             ],
             [
              0.2222222222222222,
              "#7201a8"
             ],
             [
              0.3333333333333333,
              "#9c179e"
             ],
             [
              0.4444444444444444,
              "#bd3786"
             ],
             [
              0.5555555555555556,
              "#d8576b"
             ],
             [
              0.6666666666666666,
              "#ed7953"
             ],
             [
              0.7777777777777778,
              "#fb9f3a"
             ],
             [
              0.8888888888888888,
              "#fdca26"
             ],
             [
              1,
              "#f0f921"
             ]
            ],
            "type": "histogram2dcontour"
           }
          ],
          "mesh3d": [
           {
            "colorbar": {
             "outlinewidth": 0,
             "ticks": ""
            },
            "type": "mesh3d"
           }
          ],
          "parcoords": [
           {
            "line": {
             "colorbar": {
              "outlinewidth": 0,
              "ticks": ""
             }
            },
            "type": "parcoords"
           }
          ],
          "pie": [
           {
            "automargin": true,
            "type": "pie"
           }
          ],
          "scatter": [
           {
            "fillpattern": {
             "fillmode": "overlay",
             "size": 10,
             "solidity": 0.2
            },
            "type": "scatter"
           }
          ],
          "scatter3d": [
           {
            "line": {
             "colorbar": {
              "outlinewidth": 0,
              "ticks": ""
             }
            },
            "marker": {
             "colorbar": {
              "outlinewidth": 0,
              "ticks": ""
             }
            },
            "type": "scatter3d"
           }
          ],
          "scattercarpet": [
           {
            "marker": {
             "colorbar": {
              "outlinewidth": 0,
              "ticks": ""
             }
            },
            "type": "scattercarpet"
           }
          ],
          "scattergeo": [
           {
            "marker": {
             "colorbar": {
              "outlinewidth": 0,
              "ticks": ""
             }
            },
            "type": "scattergeo"
           }
          ],
          "scattergl": [
           {
            "marker": {
             "colorbar": {
              "outlinewidth": 0,
              "ticks": ""
             }
            },
            "type": "scattergl"
           }
          ],
          "scattermapbox": [
           {
            "marker": {
             "colorbar": {
              "outlinewidth": 0,
              "ticks": ""
             }
            },
            "type": "scattermapbox"
           }
          ],
          "scatterpolar": [
           {
            "marker": {
             "colorbar": {
              "outlinewidth": 0,
              "ticks": ""
             }
            },
            "type": "scatterpolar"
           }
          ],
          "scatterpolargl": [
           {
            "marker": {
             "colorbar": {
              "outlinewidth": 0,
              "ticks": ""
             }
            },
            "type": "scatterpolargl"
           }
          ],
          "scatterternary": [
           {
            "marker": {
             "colorbar": {
              "outlinewidth": 0,
              "ticks": ""
             }
            },
            "type": "scatterternary"
           }
          ],
          "surface": [
           {
            "colorbar": {
             "outlinewidth": 0,
             "ticks": ""
            },
            "colorscale": [
             [
              0,
              "#0d0887"
             ],
             [
              0.1111111111111111,
              "#46039f"
             ],
             [
              0.2222222222222222,
              "#7201a8"
             ],
             [
              0.3333333333333333,
              "#9c179e"
             ],
             [
              0.4444444444444444,
              "#bd3786"
             ],
             [
              0.5555555555555556,
              "#d8576b"
             ],
             [
              0.6666666666666666,
              "#ed7953"
             ],
             [
              0.7777777777777778,
              "#fb9f3a"
             ],
             [
              0.8888888888888888,
              "#fdca26"
             ],
             [
              1,
              "#f0f921"
             ]
            ],
            "type": "surface"
           }
          ],
          "table": [
           {
            "cells": {
             "fill": {
              "color": "#EBF0F8"
             },
             "line": {
              "color": "white"
             }
            },
            "header": {
             "fill": {
              "color": "#C8D4E3"
             },
             "line": {
              "color": "white"
             }
            },
            "type": "table"
           }
          ]
         },
         "layout": {
          "annotationdefaults": {
           "arrowcolor": "#2a3f5f",
           "arrowhead": 0,
           "arrowwidth": 1
          },
          "autotypenumbers": "strict",
          "coloraxis": {
           "colorbar": {
            "outlinewidth": 0,
            "ticks": ""
           }
          },
          "colorscale": {
           "diverging": [
            [
             0,
             "#8e0152"
            ],
            [
             0.1,
             "#c51b7d"
            ],
            [
             0.2,
             "#de77ae"
            ],
            [
             0.3,
             "#f1b6da"
            ],
            [
             0.4,
             "#fde0ef"
            ],
            [
             0.5,
             "#f7f7f7"
            ],
            [
             0.6,
             "#e6f5d0"
            ],
            [
             0.7,
             "#b8e186"
            ],
            [
             0.8,
             "#7fbc41"
            ],
            [
             0.9,
             "#4d9221"
            ],
            [
             1,
             "#276419"
            ]
           ],
           "sequential": [
            [
             0,
             "#0d0887"
            ],
            [
             0.1111111111111111,
             "#46039f"
            ],
            [
             0.2222222222222222,
             "#7201a8"
            ],
            [
             0.3333333333333333,
             "#9c179e"
            ],
            [
             0.4444444444444444,
             "#bd3786"
            ],
            [
             0.5555555555555556,
             "#d8576b"
            ],
            [
             0.6666666666666666,
             "#ed7953"
            ],
            [
             0.7777777777777778,
             "#fb9f3a"
            ],
            [
             0.8888888888888888,
             "#fdca26"
            ],
            [
             1,
             "#f0f921"
            ]
           ],
           "sequentialminus": [
            [
             0,
             "#0d0887"
            ],
            [
             0.1111111111111111,
             "#46039f"
            ],
            [
             0.2222222222222222,
             "#7201a8"
            ],
            [
             0.3333333333333333,
             "#9c179e"
            ],
            [
             0.4444444444444444,
             "#bd3786"
            ],
            [
             0.5555555555555556,
             "#d8576b"
            ],
            [
             0.6666666666666666,
             "#ed7953"
            ],
            [
             0.7777777777777778,
             "#fb9f3a"
            ],
            [
             0.8888888888888888,
             "#fdca26"
            ],
            [
             1,
             "#f0f921"
            ]
           ]
          },
          "colorway": [
           "#636efa",
           "#EF553B",
           "#00cc96",
           "#ab63fa",
           "#FFA15A",
           "#19d3f3",
           "#FF6692",
           "#B6E880",
           "#FF97FF",
           "#FECB52"
          ],
          "font": {
           "color": "#2a3f5f"
          },
          "geo": {
           "bgcolor": "white",
           "lakecolor": "white",
           "landcolor": "#E5ECF6",
           "showlakes": true,
           "showland": true,
           "subunitcolor": "white"
          },
          "hoverlabel": {
           "align": "left"
          },
          "hovermode": "closest",
          "mapbox": {
           "style": "light"
          },
          "paper_bgcolor": "white",
          "plot_bgcolor": "#E5ECF6",
          "polar": {
           "angularaxis": {
            "gridcolor": "white",
            "linecolor": "white",
            "ticks": ""
           },
           "bgcolor": "#E5ECF6",
           "radialaxis": {
            "gridcolor": "white",
            "linecolor": "white",
            "ticks": ""
           }
          },
          "scene": {
           "xaxis": {
            "backgroundcolor": "#E5ECF6",
            "gridcolor": "white",
            "gridwidth": 2,
            "linecolor": "white",
            "showbackground": true,
            "ticks": "",
            "zerolinecolor": "white"
           },
           "yaxis": {
            "backgroundcolor": "#E5ECF6",
            "gridcolor": "white",
            "gridwidth": 2,
            "linecolor": "white",
            "showbackground": true,
            "ticks": "",
            "zerolinecolor": "white"
           },
           "zaxis": {
            "backgroundcolor": "#E5ECF6",
            "gridcolor": "white",
            "gridwidth": 2,
            "linecolor": "white",
            "showbackground": true,
            "ticks": "",
            "zerolinecolor": "white"
           }
          },
          "shapedefaults": {
           "line": {
            "color": "#2a3f5f"
           }
          },
          "ternary": {
           "aaxis": {
            "gridcolor": "white",
            "linecolor": "white",
            "ticks": ""
           },
           "baxis": {
            "gridcolor": "white",
            "linecolor": "white",
            "ticks": ""
           },
           "bgcolor": "#E5ECF6",
           "caxis": {
            "gridcolor": "white",
            "linecolor": "white",
            "ticks": ""
           }
          },
          "title": {
           "x": 0.05
          },
          "xaxis": {
           "automargin": true,
           "gridcolor": "white",
           "linecolor": "white",
           "ticks": "",
           "title": {
            "standoff": 15
           },
           "zerolinecolor": "white",
           "zerolinewidth": 2
          },
          "yaxis": {
           "automargin": true,
           "gridcolor": "white",
           "linecolor": "white",
           "ticks": "",
           "title": {
            "standoff": 15
           },
           "zerolinecolor": "white",
           "zerolinewidth": 2
          }
         }
        },
        "title": {
         "text": "Positivity score over last 10 videos"
        },
        "xaxis": {
         "anchor": "y",
         "domain": [
          0,
          1
         ],
         "title": {
          "text": "date"
         }
        },
        "yaxis": {
         "anchor": "x",
         "domain": [
          0,
          1
         ],
         "title": {
          "text": "positivity_score"
         }
        }
       }
      },
      "text/html": [
       "<div>                            <div id=\"c981ac4c-e3b8-4e0f-b961-92637337123e\" class=\"plotly-graph-div\" style=\"height:525px; width:100%;\"></div>            <script type=\"text/javascript\">                require([\"plotly\"], function(Plotly) {                    window.PLOTLYENV=window.PLOTLYENV || {};                                    if (document.getElementById(\"c981ac4c-e3b8-4e0f-b961-92637337123e\")) {                    Plotly.newPlot(                        \"c981ac4c-e3b8-4e0f-b961-92637337123e\",                        [{\"hovertemplate\":\"date=%{x}\\u003cbr\\u003epositivity_score=%{y}\\u003cbr\\u003etitle=%{text}\\u003cextra\\u003e\\u003c\\u002fextra\\u003e\",\"legendgroup\":\"\",\"line\":{\"color\":\"#636efa\",\"dash\":\"solid\"},\"marker\":{\"symbol\":\"circle\"},\"mode\":\"markers+text+lines\",\"name\":\"\",\"orientation\":\"v\",\"showlegend\":false,\"text\":[\"Is China Spying On Us? AGAIN?\",\"Is Megan Fox FORCING Her Son to Wear Dresses?\",\"Ben Reacts to Russell Brand\",\"Karen's Diner \\ud83d\\udc40\",\"Will Trump Get His Revenge?\",\"Update On Trump's Indictment\",\"Mike Pence REACTS to Trump's Indictment\",\"Liberal Media LOSES IT Over Trump...Again\",\"Trump Has Jokes \\ud83d\\udc4f\",\"This Is Good \\ud83d\\ude02\"],\"x\":[\"2023-06-13T21:35:03Z\",\"2023-06-13T23:00:04Z\",\"2023-06-13T23:00:13Z\",\"2023-06-14T00:15:02Z\",\"2023-06-14T17:00:09Z\",\"2023-06-14T21:15:00Z\",\"2023-06-14T21:20:54Z\",\"2023-06-14T23:00:19Z\",\"2023-06-14T23:00:23Z\",\"2023-06-15T00:00:19Z\"],\"xaxis\":\"x\",\"y\":[-0.8530208333333333,-1.7270707070707072,1.6797,0.0623,-1.0863636363636364,-0.4723,-1.6759,-0.8619,0.5058762886597937,0.6247422680412371],\"yaxis\":\"y\",\"type\":\"scatter\",\"textposition\":\"bottom right\"}],                        {\"template\":{\"data\":{\"histogram2dcontour\":[{\"type\":\"histogram2dcontour\",\"colorbar\":{\"outlinewidth\":0,\"ticks\":\"\"},\"colorscale\":[[0.0,\"#0d0887\"],[0.1111111111111111,\"#46039f\"],[0.2222222222222222,\"#7201a8\"],[0.3333333333333333,\"#9c179e\"],[0.4444444444444444,\"#bd3786\"],[0.5555555555555556,\"#d8576b\"],[0.6666666666666666,\"#ed7953\"],[0.7777777777777778,\"#fb9f3a\"],[0.8888888888888888,\"#fdca26\"],[1.0,\"#f0f921\"]]}],\"choropleth\":[{\"type\":\"choropleth\",\"colorbar\":{\"outlinewidth\":0,\"ticks\":\"\"}}],\"histogram2d\":[{\"type\":\"histogram2d\",\"colorbar\":{\"outlinewidth\":0,\"ticks\":\"\"},\"colorscale\":[[0.0,\"#0d0887\"],[0.1111111111111111,\"#46039f\"],[0.2222222222222222,\"#7201a8\"],[0.3333333333333333,\"#9c179e\"],[0.4444444444444444,\"#bd3786\"],[0.5555555555555556,\"#d8576b\"],[0.6666666666666666,\"#ed7953\"],[0.7777777777777778,\"#fb9f3a\"],[0.8888888888888888,\"#fdca26\"],[1.0,\"#f0f921\"]]}],\"heatmap\":[{\"type\":\"heatmap\",\"colorbar\":{\"outlinewidth\":0,\"ticks\":\"\"},\"colorscale\":[[0.0,\"#0d0887\"],[0.1111111111111111,\"#46039f\"],[0.2222222222222222,\"#7201a8\"],[0.3333333333333333,\"#9c179e\"],[0.4444444444444444,\"#bd3786\"],[0.5555555555555556,\"#d8576b\"],[0.6666666666666666,\"#ed7953\"],[0.7777777777777778,\"#fb9f3a\"],[0.8888888888888888,\"#fdca26\"],[1.0,\"#f0f921\"]]}],\"heatmapgl\":[{\"type\":\"heatmapgl\",\"colorbar\":{\"outlinewidth\":0,\"ticks\":\"\"},\"colorscale\":[[0.0,\"#0d0887\"],[0.1111111111111111,\"#46039f\"],[0.2222222222222222,\"#7201a8\"],[0.3333333333333333,\"#9c179e\"],[0.4444444444444444,\"#bd3786\"],[0.5555555555555556,\"#d8576b\"],[0.6666666666666666,\"#ed7953\"],[0.7777777777777778,\"#fb9f3a\"],[0.8888888888888888,\"#fdca26\"],[1.0,\"#f0f921\"]]}],\"contourcarpet\":[{\"type\":\"contourcarpet\",\"colorbar\":{\"outlinewidth\":0,\"ticks\":\"\"}}],\"contour\":[{\"type\":\"contour\",\"colorbar\":{\"outlinewidth\":0,\"ticks\":\"\"},\"colorscale\":[[0.0,\"#0d0887\"],[0.1111111111111111,\"#46039f\"],[0.2222222222222222,\"#7201a8\"],[0.3333333333333333,\"#9c179e\"],[0.4444444444444444,\"#bd3786\"],[0.5555555555555556,\"#d8576b\"],[0.6666666666666666,\"#ed7953\"],[0.7777777777777778,\"#fb9f3a\"],[0.8888888888888888,\"#fdca26\"],[1.0,\"#f0f921\"]]}],\"surface\":[{\"type\":\"surface\",\"colorbar\":{\"outlinewidth\":0,\"ticks\":\"\"},\"colorscale\":[[0.0,\"#0d0887\"],[0.1111111111111111,\"#46039f\"],[0.2222222222222222,\"#7201a8\"],[0.3333333333333333,\"#9c179e\"],[0.4444444444444444,\"#bd3786\"],[0.5555555555555556,\"#d8576b\"],[0.6666666666666666,\"#ed7953\"],[0.7777777777777778,\"#fb9f3a\"],[0.8888888888888888,\"#fdca26\"],[1.0,\"#f0f921\"]]}],\"mesh3d\":[{\"type\":\"mesh3d\",\"colorbar\":{\"outlinewidth\":0,\"ticks\":\"\"}}],\"scatter\":[{\"fillpattern\":{\"fillmode\":\"overlay\",\"size\":10,\"solidity\":0.2},\"type\":\"scatter\"}],\"parcoords\":[{\"type\":\"parcoords\",\"line\":{\"colorbar\":{\"outlinewidth\":0,\"ticks\":\"\"}}}],\"scatterpolargl\":[{\"type\":\"scatterpolargl\",\"marker\":{\"colorbar\":{\"outlinewidth\":0,\"ticks\":\"\"}}}],\"bar\":[{\"error_x\":{\"color\":\"#2a3f5f\"},\"error_y\":{\"color\":\"#2a3f5f\"},\"marker\":{\"line\":{\"color\":\"#E5ECF6\",\"width\":0.5},\"pattern\":{\"fillmode\":\"overlay\",\"size\":10,\"solidity\":0.2}},\"type\":\"bar\"}],\"scattergeo\":[{\"type\":\"scattergeo\",\"marker\":{\"colorbar\":{\"outlinewidth\":0,\"ticks\":\"\"}}}],\"scatterpolar\":[{\"type\":\"scatterpolar\",\"marker\":{\"colorbar\":{\"outlinewidth\":0,\"ticks\":\"\"}}}],\"histogram\":[{\"marker\":{\"pattern\":{\"fillmode\":\"overlay\",\"size\":10,\"solidity\":0.2}},\"type\":\"histogram\"}],\"scattergl\":[{\"type\":\"scattergl\",\"marker\":{\"colorbar\":{\"outlinewidth\":0,\"ticks\":\"\"}}}],\"scatter3d\":[{\"type\":\"scatter3d\",\"line\":{\"colorbar\":{\"outlinewidth\":0,\"ticks\":\"\"}},\"marker\":{\"colorbar\":{\"outlinewidth\":0,\"ticks\":\"\"}}}],\"scattermapbox\":[{\"type\":\"scattermapbox\",\"marker\":{\"colorbar\":{\"outlinewidth\":0,\"ticks\":\"\"}}}],\"scatterternary\":[{\"type\":\"scatterternary\",\"marker\":{\"colorbar\":{\"outlinewidth\":0,\"ticks\":\"\"}}}],\"scattercarpet\":[{\"type\":\"scattercarpet\",\"marker\":{\"colorbar\":{\"outlinewidth\":0,\"ticks\":\"\"}}}],\"carpet\":[{\"aaxis\":{\"endlinecolor\":\"#2a3f5f\",\"gridcolor\":\"white\",\"linecolor\":\"white\",\"minorgridcolor\":\"white\",\"startlinecolor\":\"#2a3f5f\"},\"baxis\":{\"endlinecolor\":\"#2a3f5f\",\"gridcolor\":\"white\",\"linecolor\":\"white\",\"minorgridcolor\":\"white\",\"startlinecolor\":\"#2a3f5f\"},\"type\":\"carpet\"}],\"table\":[{\"cells\":{\"fill\":{\"color\":\"#EBF0F8\"},\"line\":{\"color\":\"white\"}},\"header\":{\"fill\":{\"color\":\"#C8D4E3\"},\"line\":{\"color\":\"white\"}},\"type\":\"table\"}],\"barpolar\":[{\"marker\":{\"line\":{\"color\":\"#E5ECF6\",\"width\":0.5},\"pattern\":{\"fillmode\":\"overlay\",\"size\":10,\"solidity\":0.2}},\"type\":\"barpolar\"}],\"pie\":[{\"automargin\":true,\"type\":\"pie\"}]},\"layout\":{\"autotypenumbers\":\"strict\",\"colorway\":[\"#636efa\",\"#EF553B\",\"#00cc96\",\"#ab63fa\",\"#FFA15A\",\"#19d3f3\",\"#FF6692\",\"#B6E880\",\"#FF97FF\",\"#FECB52\"],\"font\":{\"color\":\"#2a3f5f\"},\"hovermode\":\"closest\",\"hoverlabel\":{\"align\":\"left\"},\"paper_bgcolor\":\"white\",\"plot_bgcolor\":\"#E5ECF6\",\"polar\":{\"bgcolor\":\"#E5ECF6\",\"angularaxis\":{\"gridcolor\":\"white\",\"linecolor\":\"white\",\"ticks\":\"\"},\"radialaxis\":{\"gridcolor\":\"white\",\"linecolor\":\"white\",\"ticks\":\"\"}},\"ternary\":{\"bgcolor\":\"#E5ECF6\",\"aaxis\":{\"gridcolor\":\"white\",\"linecolor\":\"white\",\"ticks\":\"\"},\"baxis\":{\"gridcolor\":\"white\",\"linecolor\":\"white\",\"ticks\":\"\"},\"caxis\":{\"gridcolor\":\"white\",\"linecolor\":\"white\",\"ticks\":\"\"}},\"coloraxis\":{\"colorbar\":{\"outlinewidth\":0,\"ticks\":\"\"}},\"colorscale\":{\"sequential\":[[0.0,\"#0d0887\"],[0.1111111111111111,\"#46039f\"],[0.2222222222222222,\"#7201a8\"],[0.3333333333333333,\"#9c179e\"],[0.4444444444444444,\"#bd3786\"],[0.5555555555555556,\"#d8576b\"],[0.6666666666666666,\"#ed7953\"],[0.7777777777777778,\"#fb9f3a\"],[0.8888888888888888,\"#fdca26\"],[1.0,\"#f0f921\"]],\"sequentialminus\":[[0.0,\"#0d0887\"],[0.1111111111111111,\"#46039f\"],[0.2222222222222222,\"#7201a8\"],[0.3333333333333333,\"#9c179e\"],[0.4444444444444444,\"#bd3786\"],[0.5555555555555556,\"#d8576b\"],[0.6666666666666666,\"#ed7953\"],[0.7777777777777778,\"#fb9f3a\"],[0.8888888888888888,\"#fdca26\"],[1.0,\"#f0f921\"]],\"diverging\":[[0,\"#8e0152\"],[0.1,\"#c51b7d\"],[0.2,\"#de77ae\"],[0.3,\"#f1b6da\"],[0.4,\"#fde0ef\"],[0.5,\"#f7f7f7\"],[0.6,\"#e6f5d0\"],[0.7,\"#b8e186\"],[0.8,\"#7fbc41\"],[0.9,\"#4d9221\"],[1,\"#276419\"]]},\"xaxis\":{\"gridcolor\":\"white\",\"linecolor\":\"white\",\"ticks\":\"\",\"title\":{\"standoff\":15},\"zerolinecolor\":\"white\",\"automargin\":true,\"zerolinewidth\":2},\"yaxis\":{\"gridcolor\":\"white\",\"linecolor\":\"white\",\"ticks\":\"\",\"title\":{\"standoff\":15},\"zerolinecolor\":\"white\",\"automargin\":true,\"zerolinewidth\":2},\"scene\":{\"xaxis\":{\"backgroundcolor\":\"#E5ECF6\",\"gridcolor\":\"white\",\"linecolor\":\"white\",\"showbackground\":true,\"ticks\":\"\",\"zerolinecolor\":\"white\",\"gridwidth\":2},\"yaxis\":{\"backgroundcolor\":\"#E5ECF6\",\"gridcolor\":\"white\",\"linecolor\":\"white\",\"showbackground\":true,\"ticks\":\"\",\"zerolinecolor\":\"white\",\"gridwidth\":2},\"zaxis\":{\"backgroundcolor\":\"#E5ECF6\",\"gridcolor\":\"white\",\"linecolor\":\"white\",\"showbackground\":true,\"ticks\":\"\",\"zerolinecolor\":\"white\",\"gridwidth\":2}},\"shapedefaults\":{\"line\":{\"color\":\"#2a3f5f\"}},\"annotationdefaults\":{\"arrowcolor\":\"#2a3f5f\",\"arrowhead\":0,\"arrowwidth\":1},\"geo\":{\"bgcolor\":\"white\",\"landcolor\":\"#E5ECF6\",\"subunitcolor\":\"white\",\"showland\":true,\"showlakes\":true,\"lakecolor\":\"white\"},\"title\":{\"x\":0.05},\"mapbox\":{\"style\":\"light\"}}},\"xaxis\":{\"anchor\":\"y\",\"domain\":[0.0,1.0],\"title\":{\"text\":\"date\"}},\"yaxis\":{\"anchor\":\"x\",\"domain\":[0.0,1.0],\"title\":{\"text\":\"positivity_score\"}},\"legend\":{\"tracegroupgap\":0},\"title\":{\"text\":\"Positivity score over last 10 videos\"}},                        {\"responsive\": true}                    ).then(function(){\n",
       "                            \n",
       "var gd = document.getElementById('c981ac4c-e3b8-4e0f-b961-92637337123e');\n",
       "var x = new MutationObserver(function (mutations, observer) {{\n",
       "        var display = window.getComputedStyle(gd).display;\n",
       "        if (!display || display === 'none') {{\n",
       "            console.log([gd, 'removed!']);\n",
       "            Plotly.purge(gd);\n",
       "            observer.disconnect();\n",
       "        }}\n",
       "}});\n",
       "\n",
       "// Listen for the removal of the full notebook cells\n",
       "var notebookContainer = gd.closest('#notebook-container');\n",
       "if (notebookContainer) {{\n",
       "    x.observe(notebookContainer, {childList: true});\n",
       "}}\n",
       "\n",
       "// Listen for the clearing of the current output cell\n",
       "var outputEl = gd.closest('.output');\n",
       "if (outputEl) {{\n",
       "    x.observe(outputEl, {childList: true});\n",
       "}}\n",
       "\n",
       "                        })                };                });            </script>        </div>"
      ]
     },
     "metadata": {},
     "output_type": "display_data"
    }
   ],
   "source": [
    "fig = px.line(video_stats, x=\"date\", y=\"positivity_score\", title='Positivity score over last 10 videos', text='title')\n",
    "fig.update_traces(textposition=\"bottom right\")\n",
    "fig.show()"
   ]
  },
  {
   "cell_type": "code",
   "execution_count": 16,
   "id": "e27a5541",
   "metadata": {
    "scrolled": false
   },
   "outputs": [
    {
     "data": {
      "text/html": [
       "<div>\n",
       "<style scoped>\n",
       "    .dataframe tbody tr th:only-of-type {\n",
       "        vertical-align: middle;\n",
       "    }\n",
       "\n",
       "    .dataframe tbody tr th {\n",
       "        vertical-align: top;\n",
       "    }\n",
       "\n",
       "    .dataframe thead th {\n",
       "        text-align: right;\n",
       "    }\n",
       "</style>\n",
       "<table border=\"1\" class=\"dataframe\">\n",
       "  <thead>\n",
       "    <tr style=\"text-align: right;\">\n",
       "      <th></th>\n",
       "      <th>video_id</th>\n",
       "      <th>positivity_score</th>\n",
       "    </tr>\n",
       "  </thead>\n",
       "  <tbody>\n",
       "    <tr>\n",
       "      <th>0</th>\n",
       "      <td>1qIYSUNvBvA</td>\n",
       "      <td>-0.472300</td>\n",
       "    </tr>\n",
       "    <tr>\n",
       "      <th>1</th>\n",
       "      <td>LrUv17ON_Do</td>\n",
       "      <td>1.679700</td>\n",
       "    </tr>\n",
       "    <tr>\n",
       "      <th>2</th>\n",
       "      <td>PdztsR8wFSg</td>\n",
       "      <td>-1.675900</td>\n",
       "    </tr>\n",
       "    <tr>\n",
       "      <th>3</th>\n",
       "      <td>Rmk2azCLf1c</td>\n",
       "      <td>0.062300</td>\n",
       "    </tr>\n",
       "    <tr>\n",
       "      <th>4</th>\n",
       "      <td>vipbA08hp2E</td>\n",
       "      <td>-0.861900</td>\n",
       "    </tr>\n",
       "    <tr>\n",
       "      <th>5</th>\n",
       "      <td>9VCLm3DiGZI</td>\n",
       "      <td>-1.727071</td>\n",
       "    </tr>\n",
       "    <tr>\n",
       "      <th>6</th>\n",
       "      <td>ffA-0Yc9qMs</td>\n",
       "      <td>-1.086364</td>\n",
       "    </tr>\n",
       "    <tr>\n",
       "      <th>7</th>\n",
       "      <td>t5lQG77XJQo</td>\n",
       "      <td>0.624742</td>\n",
       "    </tr>\n",
       "    <tr>\n",
       "      <th>8</th>\n",
       "      <td>ucYdt48k82A</td>\n",
       "      <td>0.505876</td>\n",
       "    </tr>\n",
       "    <tr>\n",
       "      <th>9</th>\n",
       "      <td>L65YD1QNc80</td>\n",
       "      <td>-0.853021</td>\n",
       "    </tr>\n",
       "  </tbody>\n",
       "</table>\n",
       "</div>"
      ],
      "text/plain": [
       "      video_id  positivity_score\n",
       "0  1qIYSUNvBvA         -0.472300\n",
       "1  LrUv17ON_Do          1.679700\n",
       "2  PdztsR8wFSg         -1.675900\n",
       "3  Rmk2azCLf1c          0.062300\n",
       "4  vipbA08hp2E         -0.861900\n",
       "5  9VCLm3DiGZI         -1.727071\n",
       "6  ffA-0Yc9qMs         -1.086364\n",
       "7  t5lQG77XJQo          0.624742\n",
       "8  ucYdt48k82A          0.505876\n",
       "9  L65YD1QNc80         -0.853021"
      ]
     },
     "execution_count": 16,
     "metadata": {},
     "output_type": "execute_result"
    }
   ],
   "source": [
    "IDs_df"
   ]
  },
  {
   "cell_type": "code",
   "execution_count": 17,
   "id": "16031839",
   "metadata": {
    "scrolled": true
   },
   "outputs": [
    {
     "data": {
      "text/html": [
       "<div>\n",
       "<style scoped>\n",
       "    .dataframe tbody tr th:only-of-type {\n",
       "        vertical-align: middle;\n",
       "    }\n",
       "\n",
       "    .dataframe tbody tr th {\n",
       "        vertical-align: top;\n",
       "    }\n",
       "\n",
       "    .dataframe thead th {\n",
       "        text-align: right;\n",
       "    }\n",
       "</style>\n",
       "<table border=\"1\" class=\"dataframe\">\n",
       "  <thead>\n",
       "    <tr style=\"text-align: right;\">\n",
       "      <th></th>\n",
       "      <th>views</th>\n",
       "      <th>likes</th>\n",
       "      <th>comments</th>\n",
       "      <th>date</th>\n",
       "      <th>channel_id</th>\n",
       "      <th>title</th>\n",
       "      <th>description</th>\n",
       "      <th>thumbnail</th>\n",
       "      <th>channel_title</th>\n",
       "      <th>tags</th>\n",
       "      <th>genre</th>\n",
       "      <th>language</th>\n",
       "      <th>video_id</th>\n",
       "      <th>Total_Views</th>\n",
       "      <th>Sub_Count</th>\n",
       "      <th>Video_Count</th>\n",
       "    </tr>\n",
       "  </thead>\n",
       "  <tbody>\n",
       "    <tr>\n",
       "      <th>0</th>\n",
       "      <td>82133</td>\n",
       "      <td>12859</td>\n",
       "      <td>342</td>\n",
       "      <td>2023-06-15T00:00:19Z</td>\n",
       "      <td>UCnQC_G5Xsjhp9fEJKuIcrSw</td>\n",
       "      <td>This Is Good 😂</td>\n",
       "      <td>1️⃣ Click here to join the member exclusive po...</td>\n",
       "      <td>https://i.ytimg.com/vi/t5lQG77XJQo/maxresdefau...</td>\n",
       "      <td>Ben Shapiro</td>\n",
       "      <td>['comedian', 'coemdian ali', 'stand up comedia...</td>\n",
       "      <td>Entertainment</td>\n",
       "      <td>en</td>\n",
       "      <td>t5lQG77XJQo</td>\n",
       "      <td>1957862099</td>\n",
       "      <td>5890000</td>\n",
       "      <td>4320</td>\n",
       "    </tr>\n",
       "    <tr>\n",
       "      <th>0</th>\n",
       "      <td>104537</td>\n",
       "      <td>14224</td>\n",
       "      <td>315</td>\n",
       "      <td>2023-06-14T23:00:23Z</td>\n",
       "      <td>UCnQC_G5Xsjhp9fEJKuIcrSw</td>\n",
       "      <td>Trump Has Jokes 👏</td>\n",
       "      <td>1️⃣ Click here to join the member exclusive po...</td>\n",
       "      <td>https://i.ytimg.com/vi/ucYdt48k82A/maxresdefau...</td>\n",
       "      <td>Ben Shapiro</td>\n",
       "      <td>['donald trump', 'trump', 'trump indictment', ...</td>\n",
       "      <td>Entertainment</td>\n",
       "      <td>en</td>\n",
       "      <td>ucYdt48k82A</td>\n",
       "      <td>1957862099</td>\n",
       "      <td>5890000</td>\n",
       "      <td>4320</td>\n",
       "    </tr>\n",
       "    <tr>\n",
       "      <th>0</th>\n",
       "      <td>54286</td>\n",
       "      <td>3285</td>\n",
       "      <td>522</td>\n",
       "      <td>2023-06-14T23:00:19Z</td>\n",
       "      <td>UCnQC_G5Xsjhp9fEJKuIcrSw</td>\n",
       "      <td>Liberal Media LOSES IT Over Trump...Again</td>\n",
       "      <td>One of the reasons Donald Trump is so popular ...</td>\n",
       "      <td>https://i.ytimg.com/vi/vipbA08hp2E/maxresdefau...</td>\n",
       "      <td>Ben Shapiro</td>\n",
       "      <td>['trump indictment', 'donald trump', 'trump', ...</td>\n",
       "      <td>Entertainment</td>\n",
       "      <td>en</td>\n",
       "      <td>vipbA08hp2E</td>\n",
       "      <td>1957862099</td>\n",
       "      <td>5890000</td>\n",
       "      <td>4320</td>\n",
       "    </tr>\n",
       "    <tr>\n",
       "      <th>0</th>\n",
       "      <td>40555</td>\n",
       "      <td>2080</td>\n",
       "      <td>957</td>\n",
       "      <td>2023-06-14T21:20:54Z</td>\n",
       "      <td>UCnQC_G5Xsjhp9fEJKuIcrSw</td>\n",
       "      <td>Mike Pence REACTS to Trump's Indictment</td>\n",
       "      <td>Joining us on the show today is former Vice Pr...</td>\n",
       "      <td>https://i.ytimg.com/vi/PdztsR8wFSg/maxresdefau...</td>\n",
       "      <td>Ben Shapiro</td>\n",
       "      <td>['mike pence', 'pence', 'mike pence president'...</td>\n",
       "      <td>Entertainment</td>\n",
       "      <td>en</td>\n",
       "      <td>PdztsR8wFSg</td>\n",
       "      <td>1957862099</td>\n",
       "      <td>5890000</td>\n",
       "      <td>4320</td>\n",
       "    </tr>\n",
       "    <tr>\n",
       "      <th>0</th>\n",
       "      <td>98020</td>\n",
       "      <td>12990</td>\n",
       "      <td>661</td>\n",
       "      <td>2023-06-14T21:15:00Z</td>\n",
       "      <td>UCnQC_G5Xsjhp9fEJKuIcrSw</td>\n",
       "      <td>Update On Trump's Indictment</td>\n",
       "      <td>1️⃣ Click here to join the member exclusive po...</td>\n",
       "      <td>https://i.ytimg.com/vi/1qIYSUNvBvA/maxresdefau...</td>\n",
       "      <td>Ben Shapiro</td>\n",
       "      <td>['donald trump', 'trump news', 'news', 'trump'...</td>\n",
       "      <td>Entertainment</td>\n",
       "      <td>en</td>\n",
       "      <td>1qIYSUNvBvA</td>\n",
       "      <td>1957862099</td>\n",
       "      <td>5890000</td>\n",
       "      <td>4320</td>\n",
       "    </tr>\n",
       "    <tr>\n",
       "      <th>0</th>\n",
       "      <td>166031</td>\n",
       "      <td>7133</td>\n",
       "      <td>1875</td>\n",
       "      <td>2023-06-14T17:00:09Z</td>\n",
       "      <td>UCnQC_G5Xsjhp9fEJKuIcrSw</td>\n",
       "      <td>Will Trump Get His Revenge?</td>\n",
       "      <td>President Trump goes to Miami court for arraig...</td>\n",
       "      <td>https://i.ytimg.com/vi/ffA-0Yc9qMs/maxresdefau...</td>\n",
       "      <td>Ben Shapiro</td>\n",
       "      <td>['Podcast', 'Conservative', 'The Ben Shapiro S...</td>\n",
       "      <td>Entertainment</td>\n",
       "      <td>en</td>\n",
       "      <td>ffA-0Yc9qMs</td>\n",
       "      <td>1957862099</td>\n",
       "      <td>5890000</td>\n",
       "      <td>4320</td>\n",
       "    </tr>\n",
       "    <tr>\n",
       "      <th>0</th>\n",
       "      <td>117647</td>\n",
       "      <td>8787</td>\n",
       "      <td>630</td>\n",
       "      <td>2023-06-14T00:15:02Z</td>\n",
       "      <td>UCnQC_G5Xsjhp9fEJKuIcrSw</td>\n",
       "      <td>Karen's Diner 👀</td>\n",
       "      <td>1️⃣ Click here to join the member exclusive po...</td>\n",
       "      <td>https://i.ytimg.com/vi/Rmk2azCLf1c/maxresdefau...</td>\n",
       "      <td>Ben Shapiro</td>\n",
       "      <td>['karen', 'karens', 'angry karen', 'insane kar...</td>\n",
       "      <td>Entertainment</td>\n",
       "      <td>en</td>\n",
       "      <td>Rmk2azCLf1c</td>\n",
       "      <td>1957862099</td>\n",
       "      <td>5890000</td>\n",
       "      <td>4320</td>\n",
       "    </tr>\n",
       "    <tr>\n",
       "      <th>0</th>\n",
       "      <td>460132</td>\n",
       "      <td>54687</td>\n",
       "      <td>1044</td>\n",
       "      <td>2023-06-13T23:00:13Z</td>\n",
       "      <td>UCnQC_G5Xsjhp9fEJKuIcrSw</td>\n",
       "      <td>Ben Reacts to Russell Brand</td>\n",
       "      <td>1️⃣ Click here to join the member exclusive po...</td>\n",
       "      <td>https://i.ytimg.com/vi/LrUv17ON_Do/maxresdefau...</td>\n",
       "      <td>Ben Shapiro</td>\n",
       "      <td>['russell brand', 'brand russell', 'russell br...</td>\n",
       "      <td>Entertainment</td>\n",
       "      <td>en</td>\n",
       "      <td>LrUv17ON_Do</td>\n",
       "      <td>1957862099</td>\n",
       "      <td>5890000</td>\n",
       "      <td>4320</td>\n",
       "    </tr>\n",
       "    <tr>\n",
       "      <th>0</th>\n",
       "      <td>182544</td>\n",
       "      <td>6458</td>\n",
       "      <td>1001</td>\n",
       "      <td>2023-06-13T23:00:04Z</td>\n",
       "      <td>UCnQC_G5Xsjhp9fEJKuIcrSw</td>\n",
       "      <td>Is Megan Fox FORCING Her Son to Wear Dresses?</td>\n",
       "      <td>Megan Fox is a legit crazy person. Robby Starb...</td>\n",
       "      <td>https://i.ytimg.com/vi/9VCLm3DiGZI/maxresdefau...</td>\n",
       "      <td>Ben Shapiro</td>\n",
       "      <td>['mark cuban', 'mark cuban interview', 'mark c...</td>\n",
       "      <td>Entertainment</td>\n",
       "      <td>en</td>\n",
       "      <td>9VCLm3DiGZI</td>\n",
       "      <td>1957862099</td>\n",
       "      <td>5890000</td>\n",
       "      <td>4320</td>\n",
       "    </tr>\n",
       "    <tr>\n",
       "      <th>0</th>\n",
       "      <td>36058</td>\n",
       "      <td>1648</td>\n",
       "      <td>297</td>\n",
       "      <td>2023-06-13T21:35:03Z</td>\n",
       "      <td>UCnQC_G5Xsjhp9fEJKuIcrSw</td>\n",
       "      <td>Is China Spying On Us? AGAIN?</td>\n",
       "      <td>Last week it was reported that the Chinese wer...</td>\n",
       "      <td>https://i.ytimg.com/vi/L65YD1QNc80/maxresdefau...</td>\n",
       "      <td>Ben Shapiro</td>\n",
       "      <td>['china', 'cuba', 'china cuba', 'cuba china', ...</td>\n",
       "      <td>Entertainment</td>\n",
       "      <td>en</td>\n",
       "      <td>L65YD1QNc80</td>\n",
       "      <td>1957862099</td>\n",
       "      <td>5890000</td>\n",
       "      <td>4320</td>\n",
       "    </tr>\n",
       "  </tbody>\n",
       "</table>\n",
       "</div>"
      ],
      "text/plain": [
       "    views  likes  comments                  date                channel_id  \\\n",
       "0   82133  12859       342  2023-06-15T00:00:19Z  UCnQC_G5Xsjhp9fEJKuIcrSw   \n",
       "0  104537  14224       315  2023-06-14T23:00:23Z  UCnQC_G5Xsjhp9fEJKuIcrSw   \n",
       "0   54286   3285       522  2023-06-14T23:00:19Z  UCnQC_G5Xsjhp9fEJKuIcrSw   \n",
       "0   40555   2080       957  2023-06-14T21:20:54Z  UCnQC_G5Xsjhp9fEJKuIcrSw   \n",
       "0   98020  12990       661  2023-06-14T21:15:00Z  UCnQC_G5Xsjhp9fEJKuIcrSw   \n",
       "0  166031   7133      1875  2023-06-14T17:00:09Z  UCnQC_G5Xsjhp9fEJKuIcrSw   \n",
       "0  117647   8787       630  2023-06-14T00:15:02Z  UCnQC_G5Xsjhp9fEJKuIcrSw   \n",
       "0  460132  54687      1044  2023-06-13T23:00:13Z  UCnQC_G5Xsjhp9fEJKuIcrSw   \n",
       "0  182544   6458      1001  2023-06-13T23:00:04Z  UCnQC_G5Xsjhp9fEJKuIcrSw   \n",
       "0   36058   1648       297  2023-06-13T21:35:03Z  UCnQC_G5Xsjhp9fEJKuIcrSw   \n",
       "\n",
       "                                           title  \\\n",
       "0                                 This Is Good 😂   \n",
       "0                              Trump Has Jokes 👏   \n",
       "0      Liberal Media LOSES IT Over Trump...Again   \n",
       "0        Mike Pence REACTS to Trump's Indictment   \n",
       "0                   Update On Trump's Indictment   \n",
       "0                    Will Trump Get His Revenge?   \n",
       "0                                Karen's Diner 👀   \n",
       "0                    Ben Reacts to Russell Brand   \n",
       "0  Is Megan Fox FORCING Her Son to Wear Dresses?   \n",
       "0                  Is China Spying On Us? AGAIN?   \n",
       "\n",
       "                                         description  \\\n",
       "0  1️⃣ Click here to join the member exclusive po...   \n",
       "0  1️⃣ Click here to join the member exclusive po...   \n",
       "0  One of the reasons Donald Trump is so popular ...   \n",
       "0  Joining us on the show today is former Vice Pr...   \n",
       "0  1️⃣ Click here to join the member exclusive po...   \n",
       "0  President Trump goes to Miami court for arraig...   \n",
       "0  1️⃣ Click here to join the member exclusive po...   \n",
       "0  1️⃣ Click here to join the member exclusive po...   \n",
       "0  Megan Fox is a legit crazy person. Robby Starb...   \n",
       "0  Last week it was reported that the Chinese wer...   \n",
       "\n",
       "                                           thumbnail channel_title  \\\n",
       "0  https://i.ytimg.com/vi/t5lQG77XJQo/maxresdefau...   Ben Shapiro   \n",
       "0  https://i.ytimg.com/vi/ucYdt48k82A/maxresdefau...   Ben Shapiro   \n",
       "0  https://i.ytimg.com/vi/vipbA08hp2E/maxresdefau...   Ben Shapiro   \n",
       "0  https://i.ytimg.com/vi/PdztsR8wFSg/maxresdefau...   Ben Shapiro   \n",
       "0  https://i.ytimg.com/vi/1qIYSUNvBvA/maxresdefau...   Ben Shapiro   \n",
       "0  https://i.ytimg.com/vi/ffA-0Yc9qMs/maxresdefau...   Ben Shapiro   \n",
       "0  https://i.ytimg.com/vi/Rmk2azCLf1c/maxresdefau...   Ben Shapiro   \n",
       "0  https://i.ytimg.com/vi/LrUv17ON_Do/maxresdefau...   Ben Shapiro   \n",
       "0  https://i.ytimg.com/vi/9VCLm3DiGZI/maxresdefau...   Ben Shapiro   \n",
       "0  https://i.ytimg.com/vi/L65YD1QNc80/maxresdefau...   Ben Shapiro   \n",
       "\n",
       "                                                tags          genre language  \\\n",
       "0  ['comedian', 'coemdian ali', 'stand up comedia...  Entertainment       en   \n",
       "0  ['donald trump', 'trump', 'trump indictment', ...  Entertainment       en   \n",
       "0  ['trump indictment', 'donald trump', 'trump', ...  Entertainment       en   \n",
       "0  ['mike pence', 'pence', 'mike pence president'...  Entertainment       en   \n",
       "0  ['donald trump', 'trump news', 'news', 'trump'...  Entertainment       en   \n",
       "0  ['Podcast', 'Conservative', 'The Ben Shapiro S...  Entertainment       en   \n",
       "0  ['karen', 'karens', 'angry karen', 'insane kar...  Entertainment       en   \n",
       "0  ['russell brand', 'brand russell', 'russell br...  Entertainment       en   \n",
       "0  ['mark cuban', 'mark cuban interview', 'mark c...  Entertainment       en   \n",
       "0  ['china', 'cuba', 'china cuba', 'cuba china', ...  Entertainment       en   \n",
       "\n",
       "      video_id  Total_Views  Sub_Count  Video_Count  \n",
       "0  t5lQG77XJQo   1957862099    5890000         4320  \n",
       "0  ucYdt48k82A   1957862099    5890000         4320  \n",
       "0  vipbA08hp2E   1957862099    5890000         4320  \n",
       "0  PdztsR8wFSg   1957862099    5890000         4320  \n",
       "0  1qIYSUNvBvA   1957862099    5890000         4320  \n",
       "0  ffA-0Yc9qMs   1957862099    5890000         4320  \n",
       "0  Rmk2azCLf1c   1957862099    5890000         4320  \n",
       "0  LrUv17ON_Do   1957862099    5890000         4320  \n",
       "0  9VCLm3DiGZI   1957862099    5890000         4320  \n",
       "0  L65YD1QNc80   1957862099    5890000         4320  "
      ]
     },
     "execution_count": 17,
     "metadata": {},
     "output_type": "execute_result"
    }
   ],
   "source": [
    "channel_info"
   ]
  },
  {
   "cell_type": "code",
   "execution_count": 18,
   "id": "0a89d6ef",
   "metadata": {},
   "outputs": [
    {
     "data": {
      "text/html": [
       "<div>\n",
       "<style scoped>\n",
       "    .dataframe tbody tr th:only-of-type {\n",
       "        vertical-align: middle;\n",
       "    }\n",
       "\n",
       "    .dataframe tbody tr th {\n",
       "        vertical-align: top;\n",
       "    }\n",
       "\n",
       "    .dataframe thead th {\n",
       "        text-align: right;\n",
       "    }\n",
       "</style>\n",
       "<table border=\"1\" class=\"dataframe\">\n",
       "  <thead>\n",
       "    <tr style=\"text-align: right;\">\n",
       "      <th></th>\n",
       "      <th>Comment</th>\n",
       "      <th>Sentiment</th>\n",
       "      <th>Negative (%)</th>\n",
       "      <th>Neutral (%)</th>\n",
       "      <th>Positive (%)</th>\n",
       "      <th>Scaler_value</th>\n",
       "      <th>weighted_SV</th>\n",
       "      <th>weight</th>\n",
       "      <th>video_id</th>\n",
       "    </tr>\n",
       "  </thead>\n",
       "  <tbody>\n",
       "    <tr>\n",
       "      <th>0</th>\n",
       "      <td>This is beyond messed up when opposite parties...</td>\n",
       "      <td>Negative</td>\n",
       "      <td>97.39</td>\n",
       "      <td>2.39</td>\n",
       "      <td>0.21</td>\n",
       "      <td>-0.97</td>\n",
       "      <td>-4.85</td>\n",
       "      <td>5</td>\n",
       "      <td>1qIYSUNvBvA</td>\n",
       "    </tr>\n",
       "    <tr>\n",
       "      <th>1</th>\n",
       "      <td>I hope Justice does visit upon the evil ones o...</td>\n",
       "      <td>Negative</td>\n",
       "      <td>89.88</td>\n",
       "      <td>9.22</td>\n",
       "      <td>0.91</td>\n",
       "      <td>-0.89</td>\n",
       "      <td>-4.45</td>\n",
       "      <td>5</td>\n",
       "      <td>1qIYSUNvBvA</td>\n",
       "    </tr>\n",
       "    <tr>\n",
       "      <th>2</th>\n",
       "      <td>Trump 2024 . And then lock them up</td>\n",
       "      <td>Neutral</td>\n",
       "      <td>46.95</td>\n",
       "      <td>47.66</td>\n",
       "      <td>5.39</td>\n",
       "      <td>-0.42</td>\n",
       "      <td>-2.10</td>\n",
       "      <td>5</td>\n",
       "      <td>1qIYSUNvBvA</td>\n",
       "    </tr>\n",
       "    <tr>\n",
       "      <th>3</th>\n",
       "      <td>We are now in 3rd world territory. So sad.</td>\n",
       "      <td>Negative</td>\n",
       "      <td>94.98</td>\n",
       "      <td>4.60</td>\n",
       "      <td>0.42</td>\n",
       "      <td>-0.95</td>\n",
       "      <td>-4.75</td>\n",
       "      <td>5</td>\n",
       "      <td>1qIYSUNvBvA</td>\n",
       "    </tr>\n",
       "    <tr>\n",
       "      <th>4</th>\n",
       "      <td>If our government would spend more time servin...</td>\n",
       "      <td>Negative</td>\n",
       "      <td>88.34</td>\n",
       "      <td>10.57</td>\n",
       "      <td>1.09</td>\n",
       "      <td>-0.87</td>\n",
       "      <td>-4.35</td>\n",
       "      <td>5</td>\n",
       "      <td>1qIYSUNvBvA</td>\n",
       "    </tr>\n",
       "    <tr>\n",
       "      <th>...</th>\n",
       "      <td>...</td>\n",
       "      <td>...</td>\n",
       "      <td>...</td>\n",
       "      <td>...</td>\n",
       "      <td>...</td>\n",
       "      <td>...</td>\n",
       "      <td>...</td>\n",
       "      <td>...</td>\n",
       "      <td>...</td>\n",
       "    </tr>\n",
       "    <tr>\n",
       "      <th>91</th>\n",
       "      <td>first</td>\n",
       "      <td>Neutral</td>\n",
       "      <td>21.65</td>\n",
       "      <td>50.77</td>\n",
       "      <td>27.58</td>\n",
       "      <td>0.06</td>\n",
       "      <td>0.12</td>\n",
       "      <td>2</td>\n",
       "      <td>L65YD1QNc80</td>\n",
       "    </tr>\n",
       "    <tr>\n",
       "      <th>92</th>\n",
       "      <td>First</td>\n",
       "      <td>Neutral</td>\n",
       "      <td>22.20</td>\n",
       "      <td>50.79</td>\n",
       "      <td>27.01</td>\n",
       "      <td>0.05</td>\n",
       "      <td>0.05</td>\n",
       "      <td>1</td>\n",
       "      <td>L65YD1QNc80</td>\n",
       "    </tr>\n",
       "    <tr>\n",
       "      <th>93</th>\n",
       "      <td>Benny boi it’s judgement day little jew I mean...</td>\n",
       "      <td>Neutral</td>\n",
       "      <td>21.26</td>\n",
       "      <td>70.97</td>\n",
       "      <td>7.76</td>\n",
       "      <td>-0.13</td>\n",
       "      <td>-0.13</td>\n",
       "      <td>1</td>\n",
       "      <td>L65YD1QNc80</td>\n",
       "    </tr>\n",
       "    <tr>\n",
       "      <th>94</th>\n",
       "      <td>Only America should have bases all around the ...</td>\n",
       "      <td>Neutral</td>\n",
       "      <td>38.06</td>\n",
       "      <td>48.72</td>\n",
       "      <td>13.22</td>\n",
       "      <td>-0.25</td>\n",
       "      <td>-0.50</td>\n",
       "      <td>2</td>\n",
       "      <td>L65YD1QNc80</td>\n",
       "    </tr>\n",
       "    <tr>\n",
       "      <th>95</th>\n",
       "      <td>🚨🚨ON YOUTUBE TITLED:  GAVIN NEWSOM ABSOLUTELY ...</td>\n",
       "      <td>Negative</td>\n",
       "      <td>77.67</td>\n",
       "      <td>19.86</td>\n",
       "      <td>2.47</td>\n",
       "      <td>-0.75</td>\n",
       "      <td>-1.50</td>\n",
       "      <td>2</td>\n",
       "      <td>L65YD1QNc80</td>\n",
       "    </tr>\n",
       "  </tbody>\n",
       "</table>\n",
       "<p>988 rows × 9 columns</p>\n",
       "</div>"
      ],
      "text/plain": [
       "                                              Comment Sentiment  Negative (%)  \\\n",
       "0   This is beyond messed up when opposite parties...  Negative         97.39   \n",
       "1   I hope Justice does visit upon the evil ones o...  Negative         89.88   \n",
       "2                  Trump 2024 . And then lock them up   Neutral         46.95   \n",
       "3          We are now in 3rd world territory. So sad.  Negative         94.98   \n",
       "4   If our government would spend more time servin...  Negative         88.34   \n",
       "..                                                ...       ...           ...   \n",
       "91                                              first   Neutral         21.65   \n",
       "92                                              First   Neutral         22.20   \n",
       "93  Benny boi it’s judgement day little jew I mean...   Neutral         21.26   \n",
       "94  Only America should have bases all around the ...   Neutral         38.06   \n",
       "95  🚨🚨ON YOUTUBE TITLED:  GAVIN NEWSOM ABSOLUTELY ...  Negative         77.67   \n",
       "\n",
       "    Neutral (%)  Positive (%)  Scaler_value  weighted_SV  weight     video_id  \n",
       "0          2.39          0.21         -0.97        -4.85       5  1qIYSUNvBvA  \n",
       "1          9.22          0.91         -0.89        -4.45       5  1qIYSUNvBvA  \n",
       "2         47.66          5.39         -0.42        -2.10       5  1qIYSUNvBvA  \n",
       "3          4.60          0.42         -0.95        -4.75       5  1qIYSUNvBvA  \n",
       "4         10.57          1.09         -0.87        -4.35       5  1qIYSUNvBvA  \n",
       "..          ...           ...           ...          ...     ...          ...  \n",
       "91        50.77         27.58          0.06         0.12       2  L65YD1QNc80  \n",
       "92        50.79         27.01          0.05         0.05       1  L65YD1QNc80  \n",
       "93        70.97          7.76         -0.13        -0.13       1  L65YD1QNc80  \n",
       "94        48.72         13.22         -0.25        -0.50       2  L65YD1QNc80  \n",
       "95        19.86          2.47         -0.75        -1.50       2  L65YD1QNc80  \n",
       "\n",
       "[988 rows x 9 columns]"
      ]
     },
     "execution_count": 18,
     "metadata": {},
     "output_type": "execute_result"
    }
   ],
   "source": [
    "results"
   ]
  },
  {
   "cell_type": "code",
   "execution_count": 41,
   "id": "303a77d1",
   "metadata": {},
   "outputs": [],
   "source": [
    "def df_cutter(df):\n",
    "        IDs_list = df.value_counts('video_id').keys()\n",
    "        cut_dfs = []\n",
    "        for i, video in enumerate(IDs_list):\n",
    "            cut_df = df[df['video_id'] == IDs_list[i]]\n",
    "            cut_dfs.append(cut_df)\n",
    "        return cut_dfs"
   ]
  },
  {
   "cell_type": "code",
   "execution_count": 42,
   "id": "0dac200a",
   "metadata": {},
   "outputs": [],
   "source": [
    "cut_dfs = df_cutter(results)"
   ]
  },
  {
   "cell_type": "code",
   "execution_count": 46,
   "id": "2c0aad50",
   "metadata": {},
   "outputs": [
    {
     "data": {
      "text/html": [
       "<div>\n",
       "<style scoped>\n",
       "    .dataframe tbody tr th:only-of-type {\n",
       "        vertical-align: middle;\n",
       "    }\n",
       "\n",
       "    .dataframe tbody tr th {\n",
       "        vertical-align: top;\n",
       "    }\n",
       "\n",
       "    .dataframe thead th {\n",
       "        text-align: right;\n",
       "    }\n",
       "</style>\n",
       "<table border=\"1\" class=\"dataframe\">\n",
       "  <thead>\n",
       "    <tr style=\"text-align: right;\">\n",
       "      <th></th>\n",
       "      <th>video_id</th>\n",
       "      <th>positivity_score</th>\n",
       "      <th>controversy</th>\n",
       "    </tr>\n",
       "  </thead>\n",
       "  <tbody>\n",
       "    <tr>\n",
       "      <th>0</th>\n",
       "      <td>1qIYSUNvBvA</td>\n",
       "      <td>-0.472300</td>\n",
       "      <td>1066.293897</td>\n",
       "    </tr>\n",
       "    <tr>\n",
       "      <th>1</th>\n",
       "      <td>LrUv17ON_Do</td>\n",
       "      <td>1.679700</td>\n",
       "      <td>709.284853</td>\n",
       "    </tr>\n",
       "    <tr>\n",
       "      <th>2</th>\n",
       "      <td>PdztsR8wFSg</td>\n",
       "      <td>-1.675900</td>\n",
       "      <td>865.175158</td>\n",
       "    </tr>\n",
       "    <tr>\n",
       "      <th>3</th>\n",
       "      <td>Rmk2azCLf1c</td>\n",
       "      <td>0.062300</td>\n",
       "      <td>1022.059905</td>\n",
       "    </tr>\n",
       "    <tr>\n",
       "      <th>4</th>\n",
       "      <td>vipbA08hp2E</td>\n",
       "      <td>-0.861900</td>\n",
       "      <td>908.930721</td>\n",
       "    </tr>\n",
       "    <tr>\n",
       "      <th>5</th>\n",
       "      <td>9VCLm3DiGZI</td>\n",
       "      <td>-1.727071</td>\n",
       "      <td>813.178833</td>\n",
       "    </tr>\n",
       "    <tr>\n",
       "      <th>6</th>\n",
       "      <td>ffA-0Yc9qMs</td>\n",
       "      <td>-1.086364</td>\n",
       "      <td>993.866598</td>\n",
       "    </tr>\n",
       "    <tr>\n",
       "      <th>7</th>\n",
       "      <td>t5lQG77XJQo</td>\n",
       "      <td>0.624742</td>\n",
       "      <td>1018.847301</td>\n",
       "    </tr>\n",
       "    <tr>\n",
       "      <th>8</th>\n",
       "      <td>ucYdt48k82A</td>\n",
       "      <td>0.505876</td>\n",
       "      <td>1016.920196</td>\n",
       "    </tr>\n",
       "    <tr>\n",
       "      <th>9</th>\n",
       "      <td>L65YD1QNc80</td>\n",
       "      <td>-0.853021</td>\n",
       "      <td>552.528780</td>\n",
       "    </tr>\n",
       "  </tbody>\n",
       "</table>\n",
       "</div>"
      ],
      "text/plain": [
       "      video_id  positivity_score  controversy\n",
       "0  1qIYSUNvBvA         -0.472300  1066.293897\n",
       "1  LrUv17ON_Do          1.679700   709.284853\n",
       "2  PdztsR8wFSg         -1.675900   865.175158\n",
       "3  Rmk2azCLf1c          0.062300  1022.059905\n",
       "4  vipbA08hp2E         -0.861900   908.930721\n",
       "5  9VCLm3DiGZI         -1.727071   813.178833\n",
       "6  ffA-0Yc9qMs         -1.086364   993.866598\n",
       "7  t5lQG77XJQo          0.624742  1018.847301\n",
       "8  ucYdt48k82A          0.505876  1016.920196\n",
       "9  L65YD1QNc80         -0.853021   552.528780"
      ]
     },
     "execution_count": 46,
     "metadata": {},
     "output_type": "execute_result"
    }
   ],
   "source": [
    "controversy = []\n",
    "for df in cut_dfs:\n",
    "#     print(df[\"Negative (%)\"].mean())\n",
    "    controversy.append(df[\"Negative (%)\"].mean() * df[\"Positive (%)\"].mean())\n",
    "IDs_df[\"controversy\"] = controversy\n",
    "IDs_df"
   ]
  },
  {
   "cell_type": "code",
   "execution_count": null,
   "id": "80937680",
   "metadata": {},
   "outputs": [],
   "source": [
    "fig = px.line(video_stats, x=\"date\", y=\"positivity_score\", title='Positivity score over last 10 videos', text='title')\n",
    "fig.update_traces(textposition=\"bottom right\")\n",
    "fig.show()"
   ]
  },
  {
   "cell_type": "code",
   "execution_count": 47,
   "id": "5689da84",
   "metadata": {
    "scrolled": true
   },
   "outputs": [
    {
     "data": {
      "text/html": [
       "<div>\n",
       "<style scoped>\n",
       "    .dataframe tbody tr th:only-of-type {\n",
       "        vertical-align: middle;\n",
       "    }\n",
       "\n",
       "    .dataframe tbody tr th {\n",
       "        vertical-align: top;\n",
       "    }\n",
       "\n",
       "    .dataframe thead th {\n",
       "        text-align: right;\n",
       "    }\n",
       "</style>\n",
       "<table border=\"1\" class=\"dataframe\">\n",
       "  <thead>\n",
       "    <tr style=\"text-align: right;\">\n",
       "      <th></th>\n",
       "      <th>video_id</th>\n",
       "      <th>positivity_score</th>\n",
       "      <th>controversy</th>\n",
       "      <th>views</th>\n",
       "      <th>likes</th>\n",
       "      <th>comments</th>\n",
       "      <th>date</th>\n",
       "      <th>channel_id</th>\n",
       "      <th>title</th>\n",
       "      <th>description</th>\n",
       "      <th>thumbnail</th>\n",
       "      <th>channel_title</th>\n",
       "      <th>tags</th>\n",
       "      <th>genre</th>\n",
       "      <th>language</th>\n",
       "      <th>Total_Views</th>\n",
       "      <th>Sub_Count</th>\n",
       "      <th>Video_Count</th>\n",
       "    </tr>\n",
       "  </thead>\n",
       "  <tbody>\n",
       "    <tr>\n",
       "      <th>9</th>\n",
       "      <td>L65YD1QNc80</td>\n",
       "      <td>-0.853021</td>\n",
       "      <td>552.528780</td>\n",
       "      <td>36058</td>\n",
       "      <td>1648</td>\n",
       "      <td>297</td>\n",
       "      <td>2023-06-13T21:35:03Z</td>\n",
       "      <td>UCnQC_G5Xsjhp9fEJKuIcrSw</td>\n",
       "      <td>Is China Spying On Us? AGAIN?</td>\n",
       "      <td>Last week it was reported that the Chinese wer...</td>\n",
       "      <td>https://i.ytimg.com/vi/L65YD1QNc80/maxresdefau...</td>\n",
       "      <td>Ben Shapiro</td>\n",
       "      <td>['china', 'cuba', 'china cuba', 'cuba china', ...</td>\n",
       "      <td>Entertainment</td>\n",
       "      <td>en</td>\n",
       "      <td>1957862099</td>\n",
       "      <td>5890000</td>\n",
       "      <td>4320</td>\n",
       "    </tr>\n",
       "    <tr>\n",
       "      <th>5</th>\n",
       "      <td>9VCLm3DiGZI</td>\n",
       "      <td>-1.727071</td>\n",
       "      <td>813.178833</td>\n",
       "      <td>182544</td>\n",
       "      <td>6458</td>\n",
       "      <td>1001</td>\n",
       "      <td>2023-06-13T23:00:04Z</td>\n",
       "      <td>UCnQC_G5Xsjhp9fEJKuIcrSw</td>\n",
       "      <td>Is Megan Fox FORCING Her Son to Wear Dresses?</td>\n",
       "      <td>Megan Fox is a legit crazy person. Robby Starb...</td>\n",
       "      <td>https://i.ytimg.com/vi/9VCLm3DiGZI/maxresdefau...</td>\n",
       "      <td>Ben Shapiro</td>\n",
       "      <td>['mark cuban', 'mark cuban interview', 'mark c...</td>\n",
       "      <td>Entertainment</td>\n",
       "      <td>en</td>\n",
       "      <td>1957862099</td>\n",
       "      <td>5890000</td>\n",
       "      <td>4320</td>\n",
       "    </tr>\n",
       "    <tr>\n",
       "      <th>1</th>\n",
       "      <td>LrUv17ON_Do</td>\n",
       "      <td>1.679700</td>\n",
       "      <td>709.284853</td>\n",
       "      <td>460132</td>\n",
       "      <td>54687</td>\n",
       "      <td>1044</td>\n",
       "      <td>2023-06-13T23:00:13Z</td>\n",
       "      <td>UCnQC_G5Xsjhp9fEJKuIcrSw</td>\n",
       "      <td>Ben Reacts to Russell Brand</td>\n",
       "      <td>1️⃣ Click here to join the member exclusive po...</td>\n",
       "      <td>https://i.ytimg.com/vi/LrUv17ON_Do/maxresdefau...</td>\n",
       "      <td>Ben Shapiro</td>\n",
       "      <td>['russell brand', 'brand russell', 'russell br...</td>\n",
       "      <td>Entertainment</td>\n",
       "      <td>en</td>\n",
       "      <td>1957862099</td>\n",
       "      <td>5890000</td>\n",
       "      <td>4320</td>\n",
       "    </tr>\n",
       "    <tr>\n",
       "      <th>3</th>\n",
       "      <td>Rmk2azCLf1c</td>\n",
       "      <td>0.062300</td>\n",
       "      <td>1022.059905</td>\n",
       "      <td>117647</td>\n",
       "      <td>8787</td>\n",
       "      <td>630</td>\n",
       "      <td>2023-06-14T00:15:02Z</td>\n",
       "      <td>UCnQC_G5Xsjhp9fEJKuIcrSw</td>\n",
       "      <td>Karen's Diner 👀</td>\n",
       "      <td>1️⃣ Click here to join the member exclusive po...</td>\n",
       "      <td>https://i.ytimg.com/vi/Rmk2azCLf1c/maxresdefau...</td>\n",
       "      <td>Ben Shapiro</td>\n",
       "      <td>['karen', 'karens', 'angry karen', 'insane kar...</td>\n",
       "      <td>Entertainment</td>\n",
       "      <td>en</td>\n",
       "      <td>1957862099</td>\n",
       "      <td>5890000</td>\n",
       "      <td>4320</td>\n",
       "    </tr>\n",
       "    <tr>\n",
       "      <th>6</th>\n",
       "      <td>ffA-0Yc9qMs</td>\n",
       "      <td>-1.086364</td>\n",
       "      <td>993.866598</td>\n",
       "      <td>166031</td>\n",
       "      <td>7133</td>\n",
       "      <td>1875</td>\n",
       "      <td>2023-06-14T17:00:09Z</td>\n",
       "      <td>UCnQC_G5Xsjhp9fEJKuIcrSw</td>\n",
       "      <td>Will Trump Get His Revenge?</td>\n",
       "      <td>President Trump goes to Miami court for arraig...</td>\n",
       "      <td>https://i.ytimg.com/vi/ffA-0Yc9qMs/maxresdefau...</td>\n",
       "      <td>Ben Shapiro</td>\n",
       "      <td>['Podcast', 'Conservative', 'The Ben Shapiro S...</td>\n",
       "      <td>Entertainment</td>\n",
       "      <td>en</td>\n",
       "      <td>1957862099</td>\n",
       "      <td>5890000</td>\n",
       "      <td>4320</td>\n",
       "    </tr>\n",
       "    <tr>\n",
       "      <th>0</th>\n",
       "      <td>1qIYSUNvBvA</td>\n",
       "      <td>-0.472300</td>\n",
       "      <td>1066.293897</td>\n",
       "      <td>98020</td>\n",
       "      <td>12990</td>\n",
       "      <td>661</td>\n",
       "      <td>2023-06-14T21:15:00Z</td>\n",
       "      <td>UCnQC_G5Xsjhp9fEJKuIcrSw</td>\n",
       "      <td>Update On Trump's Indictment</td>\n",
       "      <td>1️⃣ Click here to join the member exclusive po...</td>\n",
       "      <td>https://i.ytimg.com/vi/1qIYSUNvBvA/maxresdefau...</td>\n",
       "      <td>Ben Shapiro</td>\n",
       "      <td>['donald trump', 'trump news', 'news', 'trump'...</td>\n",
       "      <td>Entertainment</td>\n",
       "      <td>en</td>\n",
       "      <td>1957862099</td>\n",
       "      <td>5890000</td>\n",
       "      <td>4320</td>\n",
       "    </tr>\n",
       "    <tr>\n",
       "      <th>2</th>\n",
       "      <td>PdztsR8wFSg</td>\n",
       "      <td>-1.675900</td>\n",
       "      <td>865.175158</td>\n",
       "      <td>40555</td>\n",
       "      <td>2080</td>\n",
       "      <td>957</td>\n",
       "      <td>2023-06-14T21:20:54Z</td>\n",
       "      <td>UCnQC_G5Xsjhp9fEJKuIcrSw</td>\n",
       "      <td>Mike Pence REACTS to Trump's Indictment</td>\n",
       "      <td>Joining us on the show today is former Vice Pr...</td>\n",
       "      <td>https://i.ytimg.com/vi/PdztsR8wFSg/maxresdefau...</td>\n",
       "      <td>Ben Shapiro</td>\n",
       "      <td>['mike pence', 'pence', 'mike pence president'...</td>\n",
       "      <td>Entertainment</td>\n",
       "      <td>en</td>\n",
       "      <td>1957862099</td>\n",
       "      <td>5890000</td>\n",
       "      <td>4320</td>\n",
       "    </tr>\n",
       "    <tr>\n",
       "      <th>4</th>\n",
       "      <td>vipbA08hp2E</td>\n",
       "      <td>-0.861900</td>\n",
       "      <td>908.930721</td>\n",
       "      <td>54286</td>\n",
       "      <td>3285</td>\n",
       "      <td>522</td>\n",
       "      <td>2023-06-14T23:00:19Z</td>\n",
       "      <td>UCnQC_G5Xsjhp9fEJKuIcrSw</td>\n",
       "      <td>Liberal Media LOSES IT Over Trump...Again</td>\n",
       "      <td>One of the reasons Donald Trump is so popular ...</td>\n",
       "      <td>https://i.ytimg.com/vi/vipbA08hp2E/maxresdefau...</td>\n",
       "      <td>Ben Shapiro</td>\n",
       "      <td>['trump indictment', 'donald trump', 'trump', ...</td>\n",
       "      <td>Entertainment</td>\n",
       "      <td>en</td>\n",
       "      <td>1957862099</td>\n",
       "      <td>5890000</td>\n",
       "      <td>4320</td>\n",
       "    </tr>\n",
       "    <tr>\n",
       "      <th>8</th>\n",
       "      <td>ucYdt48k82A</td>\n",
       "      <td>0.505876</td>\n",
       "      <td>1016.920196</td>\n",
       "      <td>104537</td>\n",
       "      <td>14224</td>\n",
       "      <td>315</td>\n",
       "      <td>2023-06-14T23:00:23Z</td>\n",
       "      <td>UCnQC_G5Xsjhp9fEJKuIcrSw</td>\n",
       "      <td>Trump Has Jokes 👏</td>\n",
       "      <td>1️⃣ Click here to join the member exclusive po...</td>\n",
       "      <td>https://i.ytimg.com/vi/ucYdt48k82A/maxresdefau...</td>\n",
       "      <td>Ben Shapiro</td>\n",
       "      <td>['donald trump', 'trump', 'trump indictment', ...</td>\n",
       "      <td>Entertainment</td>\n",
       "      <td>en</td>\n",
       "      <td>1957862099</td>\n",
       "      <td>5890000</td>\n",
       "      <td>4320</td>\n",
       "    </tr>\n",
       "    <tr>\n",
       "      <th>7</th>\n",
       "      <td>t5lQG77XJQo</td>\n",
       "      <td>0.624742</td>\n",
       "      <td>1018.847301</td>\n",
       "      <td>82133</td>\n",
       "      <td>12859</td>\n",
       "      <td>342</td>\n",
       "      <td>2023-06-15T00:00:19Z</td>\n",
       "      <td>UCnQC_G5Xsjhp9fEJKuIcrSw</td>\n",
       "      <td>This Is Good 😂</td>\n",
       "      <td>1️⃣ Click here to join the member exclusive po...</td>\n",
       "      <td>https://i.ytimg.com/vi/t5lQG77XJQo/maxresdefau...</td>\n",
       "      <td>Ben Shapiro</td>\n",
       "      <td>['comedian', 'coemdian ali', 'stand up comedia...</td>\n",
       "      <td>Entertainment</td>\n",
       "      <td>en</td>\n",
       "      <td>1957862099</td>\n",
       "      <td>5890000</td>\n",
       "      <td>4320</td>\n",
       "    </tr>\n",
       "  </tbody>\n",
       "</table>\n",
       "</div>"
      ],
      "text/plain": [
       "      video_id  positivity_score  controversy   views  likes  comments  \\\n",
       "9  L65YD1QNc80         -0.853021   552.528780   36058   1648       297   \n",
       "5  9VCLm3DiGZI         -1.727071   813.178833  182544   6458      1001   \n",
       "1  LrUv17ON_Do          1.679700   709.284853  460132  54687      1044   \n",
       "3  Rmk2azCLf1c          0.062300  1022.059905  117647   8787       630   \n",
       "6  ffA-0Yc9qMs         -1.086364   993.866598  166031   7133      1875   \n",
       "0  1qIYSUNvBvA         -0.472300  1066.293897   98020  12990       661   \n",
       "2  PdztsR8wFSg         -1.675900   865.175158   40555   2080       957   \n",
       "4  vipbA08hp2E         -0.861900   908.930721   54286   3285       522   \n",
       "8  ucYdt48k82A          0.505876  1016.920196  104537  14224       315   \n",
       "7  t5lQG77XJQo          0.624742  1018.847301   82133  12859       342   \n",
       "\n",
       "                   date                channel_id  \\\n",
       "9  2023-06-13T21:35:03Z  UCnQC_G5Xsjhp9fEJKuIcrSw   \n",
       "5  2023-06-13T23:00:04Z  UCnQC_G5Xsjhp9fEJKuIcrSw   \n",
       "1  2023-06-13T23:00:13Z  UCnQC_G5Xsjhp9fEJKuIcrSw   \n",
       "3  2023-06-14T00:15:02Z  UCnQC_G5Xsjhp9fEJKuIcrSw   \n",
       "6  2023-06-14T17:00:09Z  UCnQC_G5Xsjhp9fEJKuIcrSw   \n",
       "0  2023-06-14T21:15:00Z  UCnQC_G5Xsjhp9fEJKuIcrSw   \n",
       "2  2023-06-14T21:20:54Z  UCnQC_G5Xsjhp9fEJKuIcrSw   \n",
       "4  2023-06-14T23:00:19Z  UCnQC_G5Xsjhp9fEJKuIcrSw   \n",
       "8  2023-06-14T23:00:23Z  UCnQC_G5Xsjhp9fEJKuIcrSw   \n",
       "7  2023-06-15T00:00:19Z  UCnQC_G5Xsjhp9fEJKuIcrSw   \n",
       "\n",
       "                                           title  \\\n",
       "9                  Is China Spying On Us? AGAIN?   \n",
       "5  Is Megan Fox FORCING Her Son to Wear Dresses?   \n",
       "1                    Ben Reacts to Russell Brand   \n",
       "3                                Karen's Diner 👀   \n",
       "6                    Will Trump Get His Revenge?   \n",
       "0                   Update On Trump's Indictment   \n",
       "2        Mike Pence REACTS to Trump's Indictment   \n",
       "4      Liberal Media LOSES IT Over Trump...Again   \n",
       "8                              Trump Has Jokes 👏   \n",
       "7                                 This Is Good 😂   \n",
       "\n",
       "                                         description  \\\n",
       "9  Last week it was reported that the Chinese wer...   \n",
       "5  Megan Fox is a legit crazy person. Robby Starb...   \n",
       "1  1️⃣ Click here to join the member exclusive po...   \n",
       "3  1️⃣ Click here to join the member exclusive po...   \n",
       "6  President Trump goes to Miami court for arraig...   \n",
       "0  1️⃣ Click here to join the member exclusive po...   \n",
       "2  Joining us on the show today is former Vice Pr...   \n",
       "4  One of the reasons Donald Trump is so popular ...   \n",
       "8  1️⃣ Click here to join the member exclusive po...   \n",
       "7  1️⃣ Click here to join the member exclusive po...   \n",
       "\n",
       "                                           thumbnail channel_title  \\\n",
       "9  https://i.ytimg.com/vi/L65YD1QNc80/maxresdefau...   Ben Shapiro   \n",
       "5  https://i.ytimg.com/vi/9VCLm3DiGZI/maxresdefau...   Ben Shapiro   \n",
       "1  https://i.ytimg.com/vi/LrUv17ON_Do/maxresdefau...   Ben Shapiro   \n",
       "3  https://i.ytimg.com/vi/Rmk2azCLf1c/maxresdefau...   Ben Shapiro   \n",
       "6  https://i.ytimg.com/vi/ffA-0Yc9qMs/maxresdefau...   Ben Shapiro   \n",
       "0  https://i.ytimg.com/vi/1qIYSUNvBvA/maxresdefau...   Ben Shapiro   \n",
       "2  https://i.ytimg.com/vi/PdztsR8wFSg/maxresdefau...   Ben Shapiro   \n",
       "4  https://i.ytimg.com/vi/vipbA08hp2E/maxresdefau...   Ben Shapiro   \n",
       "8  https://i.ytimg.com/vi/ucYdt48k82A/maxresdefau...   Ben Shapiro   \n",
       "7  https://i.ytimg.com/vi/t5lQG77XJQo/maxresdefau...   Ben Shapiro   \n",
       "\n",
       "                                                tags          genre language  \\\n",
       "9  ['china', 'cuba', 'china cuba', 'cuba china', ...  Entertainment       en   \n",
       "5  ['mark cuban', 'mark cuban interview', 'mark c...  Entertainment       en   \n",
       "1  ['russell brand', 'brand russell', 'russell br...  Entertainment       en   \n",
       "3  ['karen', 'karens', 'angry karen', 'insane kar...  Entertainment       en   \n",
       "6  ['Podcast', 'Conservative', 'The Ben Shapiro S...  Entertainment       en   \n",
       "0  ['donald trump', 'trump news', 'news', 'trump'...  Entertainment       en   \n",
       "2  ['mike pence', 'pence', 'mike pence president'...  Entertainment       en   \n",
       "4  ['trump indictment', 'donald trump', 'trump', ...  Entertainment       en   \n",
       "8  ['donald trump', 'trump', 'trump indictment', ...  Entertainment       en   \n",
       "7  ['comedian', 'coemdian ali', 'stand up comedia...  Entertainment       en   \n",
       "\n",
       "   Total_Views  Sub_Count  Video_Count  \n",
       "9   1957862099    5890000         4320  \n",
       "5   1957862099    5890000         4320  \n",
       "1   1957862099    5890000         4320  \n",
       "3   1957862099    5890000         4320  \n",
       "6   1957862099    5890000         4320  \n",
       "0   1957862099    5890000         4320  \n",
       "2   1957862099    5890000         4320  \n",
       "4   1957862099    5890000         4320  \n",
       "8   1957862099    5890000         4320  \n",
       "7   1957862099    5890000         4320  "
      ]
     },
     "execution_count": 47,
     "metadata": {},
     "output_type": "execute_result"
    }
   ],
   "source": [
    "video_stats = pd.merge(left=IDs_df,right=channel_info,how=\"inner\",on=\"video_id\").sort_values(\"date\")\n",
    "video_stats"
   ]
  },
  {
   "cell_type": "code",
   "execution_count": 49,
   "id": "89e38f9c",
   "metadata": {},
   "outputs": [
    {
     "data": {
      "application/vnd.plotly.v1+json": {
       "config": {
        "plotlyServerURL": "https://plot.ly"
       },
       "data": [
        {
         "hovertemplate": "date=%{x}<br>controversy=%{y}<br>title=%{text}<extra></extra>",
         "legendgroup": "",
         "line": {
          "color": "#636efa",
          "dash": "solid"
         },
         "marker": {
          "symbol": "circle"
         },
         "mode": "markers+text+lines",
         "name": "",
         "orientation": "v",
         "showlegend": false,
         "text": [
          "Is China Spying On Us? AGAIN?",
          "Is Megan Fox FORCING Her Son to Wear Dresses?",
          "Ben Reacts to Russell Brand",
          "Karen's Diner 👀",
          "Will Trump Get His Revenge?",
          "Update On Trump's Indictment",
          "Mike Pence REACTS to Trump's Indictment",
          "Liberal Media LOSES IT Over Trump...Again",
          "Trump Has Jokes 👏",
          "This Is Good 😂"
         ],
         "textposition": "bottom right",
         "type": "scatter",
         "x": [
          "2023-06-13T21:35:03Z",
          "2023-06-13T23:00:04Z",
          "2023-06-13T23:00:13Z",
          "2023-06-14T00:15:02Z",
          "2023-06-14T17:00:09Z",
          "2023-06-14T21:15:00Z",
          "2023-06-14T21:20:54Z",
          "2023-06-14T23:00:19Z",
          "2023-06-14T23:00:23Z",
          "2023-06-15T00:00:19Z"
         ],
         "xaxis": "x",
         "y": [
          552.5287802083333,
          813.1788327721661,
          709.2848528699999,
          1022.0599050000001,
          993.8665981634526,
          1066.2938965,
          865.1751577399997,
          908.9307210000002,
          1016.9201964183227,
          1018.8473005207778
         ],
         "yaxis": "y"
        }
       ],
       "layout": {
        "legend": {
         "tracegroupgap": 0
        },
        "template": {
         "data": {
          "bar": [
           {
            "error_x": {
             "color": "#2a3f5f"
            },
            "error_y": {
             "color": "#2a3f5f"
            },
            "marker": {
             "line": {
              "color": "#E5ECF6",
              "width": 0.5
             },
             "pattern": {
              "fillmode": "overlay",
              "size": 10,
              "solidity": 0.2
             }
            },
            "type": "bar"
           }
          ],
          "barpolar": [
           {
            "marker": {
             "line": {
              "color": "#E5ECF6",
              "width": 0.5
             },
             "pattern": {
              "fillmode": "overlay",
              "size": 10,
              "solidity": 0.2
             }
            },
            "type": "barpolar"
           }
          ],
          "carpet": [
           {
            "aaxis": {
             "endlinecolor": "#2a3f5f",
             "gridcolor": "white",
             "linecolor": "white",
             "minorgridcolor": "white",
             "startlinecolor": "#2a3f5f"
            },
            "baxis": {
             "endlinecolor": "#2a3f5f",
             "gridcolor": "white",
             "linecolor": "white",
             "minorgridcolor": "white",
             "startlinecolor": "#2a3f5f"
            },
            "type": "carpet"
           }
          ],
          "choropleth": [
           {
            "colorbar": {
             "outlinewidth": 0,
             "ticks": ""
            },
            "type": "choropleth"
           }
          ],
          "contour": [
           {
            "colorbar": {
             "outlinewidth": 0,
             "ticks": ""
            },
            "colorscale": [
             [
              0,
              "#0d0887"
             ],
             [
              0.1111111111111111,
              "#46039f"
             ],
             [
              0.2222222222222222,
              "#7201a8"
             ],
             [
              0.3333333333333333,
              "#9c179e"
             ],
             [
              0.4444444444444444,
              "#bd3786"
             ],
             [
              0.5555555555555556,
              "#d8576b"
             ],
             [
              0.6666666666666666,
              "#ed7953"
             ],
             [
              0.7777777777777778,
              "#fb9f3a"
             ],
             [
              0.8888888888888888,
              "#fdca26"
             ],
             [
              1,
              "#f0f921"
             ]
            ],
            "type": "contour"
           }
          ],
          "contourcarpet": [
           {
            "colorbar": {
             "outlinewidth": 0,
             "ticks": ""
            },
            "type": "contourcarpet"
           }
          ],
          "heatmap": [
           {
            "colorbar": {
             "outlinewidth": 0,
             "ticks": ""
            },
            "colorscale": [
             [
              0,
              "#0d0887"
             ],
             [
              0.1111111111111111,
              "#46039f"
             ],
             [
              0.2222222222222222,
              "#7201a8"
             ],
             [
              0.3333333333333333,
              "#9c179e"
             ],
             [
              0.4444444444444444,
              "#bd3786"
             ],
             [
              0.5555555555555556,
              "#d8576b"
             ],
             [
              0.6666666666666666,
              "#ed7953"
             ],
             [
              0.7777777777777778,
              "#fb9f3a"
             ],
             [
              0.8888888888888888,
              "#fdca26"
             ],
             [
              1,
              "#f0f921"
             ]
            ],
            "type": "heatmap"
           }
          ],
          "heatmapgl": [
           {
            "colorbar": {
             "outlinewidth": 0,
             "ticks": ""
            },
            "colorscale": [
             [
              0,
              "#0d0887"
             ],
             [
              0.1111111111111111,
              "#46039f"
             ],
             [
              0.2222222222222222,
              "#7201a8"
             ],
             [
              0.3333333333333333,
              "#9c179e"
             ],
             [
              0.4444444444444444,
              "#bd3786"
             ],
             [
              0.5555555555555556,
              "#d8576b"
             ],
             [
              0.6666666666666666,
              "#ed7953"
             ],
             [
              0.7777777777777778,
              "#fb9f3a"
             ],
             [
              0.8888888888888888,
              "#fdca26"
             ],
             [
              1,
              "#f0f921"
             ]
            ],
            "type": "heatmapgl"
           }
          ],
          "histogram": [
           {
            "marker": {
             "pattern": {
              "fillmode": "overlay",
              "size": 10,
              "solidity": 0.2
             }
            },
            "type": "histogram"
           }
          ],
          "histogram2d": [
           {
            "colorbar": {
             "outlinewidth": 0,
             "ticks": ""
            },
            "colorscale": [
             [
              0,
              "#0d0887"
             ],
             [
              0.1111111111111111,
              "#46039f"
             ],
             [
              0.2222222222222222,
              "#7201a8"
             ],
             [
              0.3333333333333333,
              "#9c179e"
             ],
             [
              0.4444444444444444,
              "#bd3786"
             ],
             [
              0.5555555555555556,
              "#d8576b"
             ],
             [
              0.6666666666666666,
              "#ed7953"
             ],
             [
              0.7777777777777778,
              "#fb9f3a"
             ],
             [
              0.8888888888888888,
              "#fdca26"
             ],
             [
              1,
              "#f0f921"
             ]
            ],
            "type": "histogram2d"
           }
          ],
          "histogram2dcontour": [
           {
            "colorbar": {
             "outlinewidth": 0,
             "ticks": ""
            },
            "colorscale": [
             [
              0,
              "#0d0887"
             ],
             [
              0.1111111111111111,
              "#46039f"
             ],
             [
              0.2222222222222222,
              "#7201a8"
             ],
             [
              0.3333333333333333,
              "#9c179e"
             ],
             [
              0.4444444444444444,
              "#bd3786"
             ],
             [
              0.5555555555555556,
              "#d8576b"
             ],
             [
              0.6666666666666666,
              "#ed7953"
             ],
             [
              0.7777777777777778,
              "#fb9f3a"
             ],
             [
              0.8888888888888888,
              "#fdca26"
             ],
             [
              1,
              "#f0f921"
             ]
            ],
            "type": "histogram2dcontour"
           }
          ],
          "mesh3d": [
           {
            "colorbar": {
             "outlinewidth": 0,
             "ticks": ""
            },
            "type": "mesh3d"
           }
          ],
          "parcoords": [
           {
            "line": {
             "colorbar": {
              "outlinewidth": 0,
              "ticks": ""
             }
            },
            "type": "parcoords"
           }
          ],
          "pie": [
           {
            "automargin": true,
            "type": "pie"
           }
          ],
          "scatter": [
           {
            "fillpattern": {
             "fillmode": "overlay",
             "size": 10,
             "solidity": 0.2
            },
            "type": "scatter"
           }
          ],
          "scatter3d": [
           {
            "line": {
             "colorbar": {
              "outlinewidth": 0,
              "ticks": ""
             }
            },
            "marker": {
             "colorbar": {
              "outlinewidth": 0,
              "ticks": ""
             }
            },
            "type": "scatter3d"
           }
          ],
          "scattercarpet": [
           {
            "marker": {
             "colorbar": {
              "outlinewidth": 0,
              "ticks": ""
             }
            },
            "type": "scattercarpet"
           }
          ],
          "scattergeo": [
           {
            "marker": {
             "colorbar": {
              "outlinewidth": 0,
              "ticks": ""
             }
            },
            "type": "scattergeo"
           }
          ],
          "scattergl": [
           {
            "marker": {
             "colorbar": {
              "outlinewidth": 0,
              "ticks": ""
             }
            },
            "type": "scattergl"
           }
          ],
          "scattermapbox": [
           {
            "marker": {
             "colorbar": {
              "outlinewidth": 0,
              "ticks": ""
             }
            },
            "type": "scattermapbox"
           }
          ],
          "scatterpolar": [
           {
            "marker": {
             "colorbar": {
              "outlinewidth": 0,
              "ticks": ""
             }
            },
            "type": "scatterpolar"
           }
          ],
          "scatterpolargl": [
           {
            "marker": {
             "colorbar": {
              "outlinewidth": 0,
              "ticks": ""
             }
            },
            "type": "scatterpolargl"
           }
          ],
          "scatterternary": [
           {
            "marker": {
             "colorbar": {
              "outlinewidth": 0,
              "ticks": ""
             }
            },
            "type": "scatterternary"
           }
          ],
          "surface": [
           {
            "colorbar": {
             "outlinewidth": 0,
             "ticks": ""
            },
            "colorscale": [
             [
              0,
              "#0d0887"
             ],
             [
              0.1111111111111111,
              "#46039f"
             ],
             [
              0.2222222222222222,
              "#7201a8"
             ],
             [
              0.3333333333333333,
              "#9c179e"
             ],
             [
              0.4444444444444444,
              "#bd3786"
             ],
             [
              0.5555555555555556,
              "#d8576b"
             ],
             [
              0.6666666666666666,
              "#ed7953"
             ],
             [
              0.7777777777777778,
              "#fb9f3a"
             ],
             [
              0.8888888888888888,
              "#fdca26"
             ],
             [
              1,
              "#f0f921"
             ]
            ],
            "type": "surface"
           }
          ],
          "table": [
           {
            "cells": {
             "fill": {
              "color": "#EBF0F8"
             },
             "line": {
              "color": "white"
             }
            },
            "header": {
             "fill": {
              "color": "#C8D4E3"
             },
             "line": {
              "color": "white"
             }
            },
            "type": "table"
           }
          ]
         },
         "layout": {
          "annotationdefaults": {
           "arrowcolor": "#2a3f5f",
           "arrowhead": 0,
           "arrowwidth": 1
          },
          "autotypenumbers": "strict",
          "coloraxis": {
           "colorbar": {
            "outlinewidth": 0,
            "ticks": ""
           }
          },
          "colorscale": {
           "diverging": [
            [
             0,
             "#8e0152"
            ],
            [
             0.1,
             "#c51b7d"
            ],
            [
             0.2,
             "#de77ae"
            ],
            [
             0.3,
             "#f1b6da"
            ],
            [
             0.4,
             "#fde0ef"
            ],
            [
             0.5,
             "#f7f7f7"
            ],
            [
             0.6,
             "#e6f5d0"
            ],
            [
             0.7,
             "#b8e186"
            ],
            [
             0.8,
             "#7fbc41"
            ],
            [
             0.9,
             "#4d9221"
            ],
            [
             1,
             "#276419"
            ]
           ],
           "sequential": [
            [
             0,
             "#0d0887"
            ],
            [
             0.1111111111111111,
             "#46039f"
            ],
            [
             0.2222222222222222,
             "#7201a8"
            ],
            [
             0.3333333333333333,
             "#9c179e"
            ],
            [
             0.4444444444444444,
             "#bd3786"
            ],
            [
             0.5555555555555556,
             "#d8576b"
            ],
            [
             0.6666666666666666,
             "#ed7953"
            ],
            [
             0.7777777777777778,
             "#fb9f3a"
            ],
            [
             0.8888888888888888,
             "#fdca26"
            ],
            [
             1,
             "#f0f921"
            ]
           ],
           "sequentialminus": [
            [
             0,
             "#0d0887"
            ],
            [
             0.1111111111111111,
             "#46039f"
            ],
            [
             0.2222222222222222,
             "#7201a8"
            ],
            [
             0.3333333333333333,
             "#9c179e"
            ],
            [
             0.4444444444444444,
             "#bd3786"
            ],
            [
             0.5555555555555556,
             "#d8576b"
            ],
            [
             0.6666666666666666,
             "#ed7953"
            ],
            [
             0.7777777777777778,
             "#fb9f3a"
            ],
            [
             0.8888888888888888,
             "#fdca26"
            ],
            [
             1,
             "#f0f921"
            ]
           ]
          },
          "colorway": [
           "#636efa",
           "#EF553B",
           "#00cc96",
           "#ab63fa",
           "#FFA15A",
           "#19d3f3",
           "#FF6692",
           "#B6E880",
           "#FF97FF",
           "#FECB52"
          ],
          "font": {
           "color": "#2a3f5f"
          },
          "geo": {
           "bgcolor": "white",
           "lakecolor": "white",
           "landcolor": "#E5ECF6",
           "showlakes": true,
           "showland": true,
           "subunitcolor": "white"
          },
          "hoverlabel": {
           "align": "left"
          },
          "hovermode": "closest",
          "mapbox": {
           "style": "light"
          },
          "paper_bgcolor": "white",
          "plot_bgcolor": "#E5ECF6",
          "polar": {
           "angularaxis": {
            "gridcolor": "white",
            "linecolor": "white",
            "ticks": ""
           },
           "bgcolor": "#E5ECF6",
           "radialaxis": {
            "gridcolor": "white",
            "linecolor": "white",
            "ticks": ""
           }
          },
          "scene": {
           "xaxis": {
            "backgroundcolor": "#E5ECF6",
            "gridcolor": "white",
            "gridwidth": 2,
            "linecolor": "white",
            "showbackground": true,
            "ticks": "",
            "zerolinecolor": "white"
           },
           "yaxis": {
            "backgroundcolor": "#E5ECF6",
            "gridcolor": "white",
            "gridwidth": 2,
            "linecolor": "white",
            "showbackground": true,
            "ticks": "",
            "zerolinecolor": "white"
           },
           "zaxis": {
            "backgroundcolor": "#E5ECF6",
            "gridcolor": "white",
            "gridwidth": 2,
            "linecolor": "white",
            "showbackground": true,
            "ticks": "",
            "zerolinecolor": "white"
           }
          },
          "shapedefaults": {
           "line": {
            "color": "#2a3f5f"
           }
          },
          "ternary": {
           "aaxis": {
            "gridcolor": "white",
            "linecolor": "white",
            "ticks": ""
           },
           "baxis": {
            "gridcolor": "white",
            "linecolor": "white",
            "ticks": ""
           },
           "bgcolor": "#E5ECF6",
           "caxis": {
            "gridcolor": "white",
            "linecolor": "white",
            "ticks": ""
           }
          },
          "title": {
           "x": 0.05
          },
          "xaxis": {
           "automargin": true,
           "gridcolor": "white",
           "linecolor": "white",
           "ticks": "",
           "title": {
            "standoff": 15
           },
           "zerolinecolor": "white",
           "zerolinewidth": 2
          },
          "yaxis": {
           "automargin": true,
           "gridcolor": "white",
           "linecolor": "white",
           "ticks": "",
           "title": {
            "standoff": 15
           },
           "zerolinecolor": "white",
           "zerolinewidth": 2
          }
         }
        },
        "title": {
         "text": "Controversy over last 10 videos"
        },
        "xaxis": {
         "anchor": "y",
         "domain": [
          0,
          1
         ],
         "title": {
          "text": "date"
         }
        },
        "yaxis": {
         "anchor": "x",
         "domain": [
          0,
          1
         ],
         "title": {
          "text": "controversy"
         }
        }
       }
      },
      "text/html": [
       "<div>                            <div id=\"f84b7d91-360a-47e2-bc6c-9accf380a0a4\" class=\"plotly-graph-div\" style=\"height:525px; width:100%;\"></div>            <script type=\"text/javascript\">                require([\"plotly\"], function(Plotly) {                    window.PLOTLYENV=window.PLOTLYENV || {};                                    if (document.getElementById(\"f84b7d91-360a-47e2-bc6c-9accf380a0a4\")) {                    Plotly.newPlot(                        \"f84b7d91-360a-47e2-bc6c-9accf380a0a4\",                        [{\"hovertemplate\":\"date=%{x}\\u003cbr\\u003econtroversy=%{y}\\u003cbr\\u003etitle=%{text}\\u003cextra\\u003e\\u003c\\u002fextra\\u003e\",\"legendgroup\":\"\",\"line\":{\"color\":\"#636efa\",\"dash\":\"solid\"},\"marker\":{\"symbol\":\"circle\"},\"mode\":\"markers+text+lines\",\"name\":\"\",\"orientation\":\"v\",\"showlegend\":false,\"text\":[\"Is China Spying On Us? AGAIN?\",\"Is Megan Fox FORCING Her Son to Wear Dresses?\",\"Ben Reacts to Russell Brand\",\"Karen's Diner \\ud83d\\udc40\",\"Will Trump Get His Revenge?\",\"Update On Trump's Indictment\",\"Mike Pence REACTS to Trump's Indictment\",\"Liberal Media LOSES IT Over Trump...Again\",\"Trump Has Jokes \\ud83d\\udc4f\",\"This Is Good \\ud83d\\ude02\"],\"x\":[\"2023-06-13T21:35:03Z\",\"2023-06-13T23:00:04Z\",\"2023-06-13T23:00:13Z\",\"2023-06-14T00:15:02Z\",\"2023-06-14T17:00:09Z\",\"2023-06-14T21:15:00Z\",\"2023-06-14T21:20:54Z\",\"2023-06-14T23:00:19Z\",\"2023-06-14T23:00:23Z\",\"2023-06-15T00:00:19Z\"],\"xaxis\":\"x\",\"y\":[552.5287802083333,813.1788327721661,709.2848528699999,1022.0599050000001,993.8665981634526,1066.2938965,865.1751577399997,908.9307210000002,1016.9201964183227,1018.8473005207778],\"yaxis\":\"y\",\"type\":\"scatter\",\"textposition\":\"bottom right\"}],                        {\"template\":{\"data\":{\"histogram2dcontour\":[{\"type\":\"histogram2dcontour\",\"colorbar\":{\"outlinewidth\":0,\"ticks\":\"\"},\"colorscale\":[[0.0,\"#0d0887\"],[0.1111111111111111,\"#46039f\"],[0.2222222222222222,\"#7201a8\"],[0.3333333333333333,\"#9c179e\"],[0.4444444444444444,\"#bd3786\"],[0.5555555555555556,\"#d8576b\"],[0.6666666666666666,\"#ed7953\"],[0.7777777777777778,\"#fb9f3a\"],[0.8888888888888888,\"#fdca26\"],[1.0,\"#f0f921\"]]}],\"choropleth\":[{\"type\":\"choropleth\",\"colorbar\":{\"outlinewidth\":0,\"ticks\":\"\"}}],\"histogram2d\":[{\"type\":\"histogram2d\",\"colorbar\":{\"outlinewidth\":0,\"ticks\":\"\"},\"colorscale\":[[0.0,\"#0d0887\"],[0.1111111111111111,\"#46039f\"],[0.2222222222222222,\"#7201a8\"],[0.3333333333333333,\"#9c179e\"],[0.4444444444444444,\"#bd3786\"],[0.5555555555555556,\"#d8576b\"],[0.6666666666666666,\"#ed7953\"],[0.7777777777777778,\"#fb9f3a\"],[0.8888888888888888,\"#fdca26\"],[1.0,\"#f0f921\"]]}],\"heatmap\":[{\"type\":\"heatmap\",\"colorbar\":{\"outlinewidth\":0,\"ticks\":\"\"},\"colorscale\":[[0.0,\"#0d0887\"],[0.1111111111111111,\"#46039f\"],[0.2222222222222222,\"#7201a8\"],[0.3333333333333333,\"#9c179e\"],[0.4444444444444444,\"#bd3786\"],[0.5555555555555556,\"#d8576b\"],[0.6666666666666666,\"#ed7953\"],[0.7777777777777778,\"#fb9f3a\"],[0.8888888888888888,\"#fdca26\"],[1.0,\"#f0f921\"]]}],\"heatmapgl\":[{\"type\":\"heatmapgl\",\"colorbar\":{\"outlinewidth\":0,\"ticks\":\"\"},\"colorscale\":[[0.0,\"#0d0887\"],[0.1111111111111111,\"#46039f\"],[0.2222222222222222,\"#7201a8\"],[0.3333333333333333,\"#9c179e\"],[0.4444444444444444,\"#bd3786\"],[0.5555555555555556,\"#d8576b\"],[0.6666666666666666,\"#ed7953\"],[0.7777777777777778,\"#fb9f3a\"],[0.8888888888888888,\"#fdca26\"],[1.0,\"#f0f921\"]]}],\"contourcarpet\":[{\"type\":\"contourcarpet\",\"colorbar\":{\"outlinewidth\":0,\"ticks\":\"\"}}],\"contour\":[{\"type\":\"contour\",\"colorbar\":{\"outlinewidth\":0,\"ticks\":\"\"},\"colorscale\":[[0.0,\"#0d0887\"],[0.1111111111111111,\"#46039f\"],[0.2222222222222222,\"#7201a8\"],[0.3333333333333333,\"#9c179e\"],[0.4444444444444444,\"#bd3786\"],[0.5555555555555556,\"#d8576b\"],[0.6666666666666666,\"#ed7953\"],[0.7777777777777778,\"#fb9f3a\"],[0.8888888888888888,\"#fdca26\"],[1.0,\"#f0f921\"]]}],\"surface\":[{\"type\":\"surface\",\"colorbar\":{\"outlinewidth\":0,\"ticks\":\"\"},\"colorscale\":[[0.0,\"#0d0887\"],[0.1111111111111111,\"#46039f\"],[0.2222222222222222,\"#7201a8\"],[0.3333333333333333,\"#9c179e\"],[0.4444444444444444,\"#bd3786\"],[0.5555555555555556,\"#d8576b\"],[0.6666666666666666,\"#ed7953\"],[0.7777777777777778,\"#fb9f3a\"],[0.8888888888888888,\"#fdca26\"],[1.0,\"#f0f921\"]]}],\"mesh3d\":[{\"type\":\"mesh3d\",\"colorbar\":{\"outlinewidth\":0,\"ticks\":\"\"}}],\"scatter\":[{\"fillpattern\":{\"fillmode\":\"overlay\",\"size\":10,\"solidity\":0.2},\"type\":\"scatter\"}],\"parcoords\":[{\"type\":\"parcoords\",\"line\":{\"colorbar\":{\"outlinewidth\":0,\"ticks\":\"\"}}}],\"scatterpolargl\":[{\"type\":\"scatterpolargl\",\"marker\":{\"colorbar\":{\"outlinewidth\":0,\"ticks\":\"\"}}}],\"bar\":[{\"error_x\":{\"color\":\"#2a3f5f\"},\"error_y\":{\"color\":\"#2a3f5f\"},\"marker\":{\"line\":{\"color\":\"#E5ECF6\",\"width\":0.5},\"pattern\":{\"fillmode\":\"overlay\",\"size\":10,\"solidity\":0.2}},\"type\":\"bar\"}],\"scattergeo\":[{\"type\":\"scattergeo\",\"marker\":{\"colorbar\":{\"outlinewidth\":0,\"ticks\":\"\"}}}],\"scatterpolar\":[{\"type\":\"scatterpolar\",\"marker\":{\"colorbar\":{\"outlinewidth\":0,\"ticks\":\"\"}}}],\"histogram\":[{\"marker\":{\"pattern\":{\"fillmode\":\"overlay\",\"size\":10,\"solidity\":0.2}},\"type\":\"histogram\"}],\"scattergl\":[{\"type\":\"scattergl\",\"marker\":{\"colorbar\":{\"outlinewidth\":0,\"ticks\":\"\"}}}],\"scatter3d\":[{\"type\":\"scatter3d\",\"line\":{\"colorbar\":{\"outlinewidth\":0,\"ticks\":\"\"}},\"marker\":{\"colorbar\":{\"outlinewidth\":0,\"ticks\":\"\"}}}],\"scattermapbox\":[{\"type\":\"scattermapbox\",\"marker\":{\"colorbar\":{\"outlinewidth\":0,\"ticks\":\"\"}}}],\"scatterternary\":[{\"type\":\"scatterternary\",\"marker\":{\"colorbar\":{\"outlinewidth\":0,\"ticks\":\"\"}}}],\"scattercarpet\":[{\"type\":\"scattercarpet\",\"marker\":{\"colorbar\":{\"outlinewidth\":0,\"ticks\":\"\"}}}],\"carpet\":[{\"aaxis\":{\"endlinecolor\":\"#2a3f5f\",\"gridcolor\":\"white\",\"linecolor\":\"white\",\"minorgridcolor\":\"white\",\"startlinecolor\":\"#2a3f5f\"},\"baxis\":{\"endlinecolor\":\"#2a3f5f\",\"gridcolor\":\"white\",\"linecolor\":\"white\",\"minorgridcolor\":\"white\",\"startlinecolor\":\"#2a3f5f\"},\"type\":\"carpet\"}],\"table\":[{\"cells\":{\"fill\":{\"color\":\"#EBF0F8\"},\"line\":{\"color\":\"white\"}},\"header\":{\"fill\":{\"color\":\"#C8D4E3\"},\"line\":{\"color\":\"white\"}},\"type\":\"table\"}],\"barpolar\":[{\"marker\":{\"line\":{\"color\":\"#E5ECF6\",\"width\":0.5},\"pattern\":{\"fillmode\":\"overlay\",\"size\":10,\"solidity\":0.2}},\"type\":\"barpolar\"}],\"pie\":[{\"automargin\":true,\"type\":\"pie\"}]},\"layout\":{\"autotypenumbers\":\"strict\",\"colorway\":[\"#636efa\",\"#EF553B\",\"#00cc96\",\"#ab63fa\",\"#FFA15A\",\"#19d3f3\",\"#FF6692\",\"#B6E880\",\"#FF97FF\",\"#FECB52\"],\"font\":{\"color\":\"#2a3f5f\"},\"hovermode\":\"closest\",\"hoverlabel\":{\"align\":\"left\"},\"paper_bgcolor\":\"white\",\"plot_bgcolor\":\"#E5ECF6\",\"polar\":{\"bgcolor\":\"#E5ECF6\",\"angularaxis\":{\"gridcolor\":\"white\",\"linecolor\":\"white\",\"ticks\":\"\"},\"radialaxis\":{\"gridcolor\":\"white\",\"linecolor\":\"white\",\"ticks\":\"\"}},\"ternary\":{\"bgcolor\":\"#E5ECF6\",\"aaxis\":{\"gridcolor\":\"white\",\"linecolor\":\"white\",\"ticks\":\"\"},\"baxis\":{\"gridcolor\":\"white\",\"linecolor\":\"white\",\"ticks\":\"\"},\"caxis\":{\"gridcolor\":\"white\",\"linecolor\":\"white\",\"ticks\":\"\"}},\"coloraxis\":{\"colorbar\":{\"outlinewidth\":0,\"ticks\":\"\"}},\"colorscale\":{\"sequential\":[[0.0,\"#0d0887\"],[0.1111111111111111,\"#46039f\"],[0.2222222222222222,\"#7201a8\"],[0.3333333333333333,\"#9c179e\"],[0.4444444444444444,\"#bd3786\"],[0.5555555555555556,\"#d8576b\"],[0.6666666666666666,\"#ed7953\"],[0.7777777777777778,\"#fb9f3a\"],[0.8888888888888888,\"#fdca26\"],[1.0,\"#f0f921\"]],\"sequentialminus\":[[0.0,\"#0d0887\"],[0.1111111111111111,\"#46039f\"],[0.2222222222222222,\"#7201a8\"],[0.3333333333333333,\"#9c179e\"],[0.4444444444444444,\"#bd3786\"],[0.5555555555555556,\"#d8576b\"],[0.6666666666666666,\"#ed7953\"],[0.7777777777777778,\"#fb9f3a\"],[0.8888888888888888,\"#fdca26\"],[1.0,\"#f0f921\"]],\"diverging\":[[0,\"#8e0152\"],[0.1,\"#c51b7d\"],[0.2,\"#de77ae\"],[0.3,\"#f1b6da\"],[0.4,\"#fde0ef\"],[0.5,\"#f7f7f7\"],[0.6,\"#e6f5d0\"],[0.7,\"#b8e186\"],[0.8,\"#7fbc41\"],[0.9,\"#4d9221\"],[1,\"#276419\"]]},\"xaxis\":{\"gridcolor\":\"white\",\"linecolor\":\"white\",\"ticks\":\"\",\"title\":{\"standoff\":15},\"zerolinecolor\":\"white\",\"automargin\":true,\"zerolinewidth\":2},\"yaxis\":{\"gridcolor\":\"white\",\"linecolor\":\"white\",\"ticks\":\"\",\"title\":{\"standoff\":15},\"zerolinecolor\":\"white\",\"automargin\":true,\"zerolinewidth\":2},\"scene\":{\"xaxis\":{\"backgroundcolor\":\"#E5ECF6\",\"gridcolor\":\"white\",\"linecolor\":\"white\",\"showbackground\":true,\"ticks\":\"\",\"zerolinecolor\":\"white\",\"gridwidth\":2},\"yaxis\":{\"backgroundcolor\":\"#E5ECF6\",\"gridcolor\":\"white\",\"linecolor\":\"white\",\"showbackground\":true,\"ticks\":\"\",\"zerolinecolor\":\"white\",\"gridwidth\":2},\"zaxis\":{\"backgroundcolor\":\"#E5ECF6\",\"gridcolor\":\"white\",\"linecolor\":\"white\",\"showbackground\":true,\"ticks\":\"\",\"zerolinecolor\":\"white\",\"gridwidth\":2}},\"shapedefaults\":{\"line\":{\"color\":\"#2a3f5f\"}},\"annotationdefaults\":{\"arrowcolor\":\"#2a3f5f\",\"arrowhead\":0,\"arrowwidth\":1},\"geo\":{\"bgcolor\":\"white\",\"landcolor\":\"#E5ECF6\",\"subunitcolor\":\"white\",\"showland\":true,\"showlakes\":true,\"lakecolor\":\"white\"},\"title\":{\"x\":0.05},\"mapbox\":{\"style\":\"light\"}}},\"xaxis\":{\"anchor\":\"y\",\"domain\":[0.0,1.0],\"title\":{\"text\":\"date\"}},\"yaxis\":{\"anchor\":\"x\",\"domain\":[0.0,1.0],\"title\":{\"text\":\"controversy\"}},\"legend\":{\"tracegroupgap\":0},\"title\":{\"text\":\"Controversy over last 10 videos\"}},                        {\"responsive\": true}                    ).then(function(){\n",
       "                            \n",
       "var gd = document.getElementById('f84b7d91-360a-47e2-bc6c-9accf380a0a4');\n",
       "var x = new MutationObserver(function (mutations, observer) {{\n",
       "        var display = window.getComputedStyle(gd).display;\n",
       "        if (!display || display === 'none') {{\n",
       "            console.log([gd, 'removed!']);\n",
       "            Plotly.purge(gd);\n",
       "            observer.disconnect();\n",
       "        }}\n",
       "}});\n",
       "\n",
       "// Listen for the removal of the full notebook cells\n",
       "var notebookContainer = gd.closest('#notebook-container');\n",
       "if (notebookContainer) {{\n",
       "    x.observe(notebookContainer, {childList: true});\n",
       "}}\n",
       "\n",
       "// Listen for the clearing of the current output cell\n",
       "var outputEl = gd.closest('.output');\n",
       "if (outputEl) {{\n",
       "    x.observe(outputEl, {childList: true});\n",
       "}}\n",
       "\n",
       "                        })                };                });            </script>        </div>"
      ]
     },
     "metadata": {},
     "output_type": "display_data"
    }
   ],
   "source": [
    "fig = px.line(video_stats, x=\"date\", y=\"controversy\", title='Controversy over last 10 videos', text='title')\n",
    "fig.update_traces(textposition=\"bottom right\")\n",
    "fig.show()"
   ]
  },
  {
   "cell_type": "code",
   "execution_count": 20,
   "id": "8588d34f",
   "metadata": {},
   "outputs": [
    {
     "data": {
      "text/html": [
       "<div>\n",
       "<style scoped>\n",
       "    .dataframe tbody tr th:only-of-type {\n",
       "        vertical-align: middle;\n",
       "    }\n",
       "\n",
       "    .dataframe tbody tr th {\n",
       "        vertical-align: top;\n",
       "    }\n",
       "\n",
       "    .dataframe thead th {\n",
       "        text-align: right;\n",
       "    }\n",
       "</style>\n",
       "<table border=\"1\" class=\"dataframe\">\n",
       "  <thead>\n",
       "    <tr style=\"text-align: right;\">\n",
       "      <th></th>\n",
       "      <th>comment</th>\n",
       "      <th>author</th>\n",
       "      <th>likecount</th>\n",
       "      <th>date</th>\n",
       "      <th>replies</th>\n",
       "      <th>comment_clean</th>\n",
       "      <th>video_id</th>\n",
       "    </tr>\n",
       "  </thead>\n",
       "  <tbody>\n",
       "    <tr>\n",
       "      <th>0</th>\n",
       "      <td>That's actually brilliant, racist joke on both...</td>\n",
       "      <td>𝖘𝖎𝖗 NightOwl</td>\n",
       "      <td>500</td>\n",
       "      <td>2023-06-15T00:52:40Z</td>\n",
       "      <td>0</td>\n",
       "      <td>thats actually brilliant racist joke on both s...</td>\n",
       "      <td>t5lQG77XJQo</td>\n",
       "    </tr>\n",
       "    <tr>\n",
       "      <th>1</th>\n",
       "      <td>That mans a smooth criminal</td>\n",
       "      <td>Colonel Sanders</td>\n",
       "      <td>848</td>\n",
       "      <td>2023-06-15T00:25:00Z</td>\n",
       "      <td>5</td>\n",
       "      <td>that mans a smooth criminal</td>\n",
       "      <td>t5lQG77XJQo</td>\n",
       "    </tr>\n",
       "    <tr>\n",
       "      <th>2</th>\n",
       "      <td>Bo Burnham was the comedian who turned YouTube...</td>\n",
       "      <td>Jaxon JAXOFF</td>\n",
       "      <td>130</td>\n",
       "      <td>2023-06-15T01:56:56Z</td>\n",
       "      <td>0</td>\n",
       "      <td>bo burnham was the comedian who turned youtube...</td>\n",
       "      <td>t5lQG77XJQo</td>\n",
       "    </tr>\n",
       "    <tr>\n",
       "      <th>3</th>\n",
       "      <td>As a white person, I can confirm that I love p...</td>\n",
       "      <td>Night Wizard63</td>\n",
       "      <td>563</td>\n",
       "      <td>2023-06-15T00:09:13Z</td>\n",
       "      <td>32</td>\n",
       "      <td>as a white person i can confirm that i love pe...</td>\n",
       "      <td>t5lQG77XJQo</td>\n",
       "    </tr>\n",
       "    <tr>\n",
       "      <th>4</th>\n",
       "      <td>He got em</td>\n",
       "      <td>Shaheer4771</td>\n",
       "      <td>210</td>\n",
       "      <td>2023-06-15T00:04:00Z</td>\n",
       "      <td>1</td>\n",
       "      <td>he got em</td>\n",
       "      <td>t5lQG77XJQo</td>\n",
       "    </tr>\n",
       "    <tr>\n",
       "      <th>...</th>\n",
       "      <td>...</td>\n",
       "      <td>...</td>\n",
       "      <td>...</td>\n",
       "      <td>...</td>\n",
       "      <td>...</td>\n",
       "      <td>...</td>\n",
       "      <td>...</td>\n",
       "    </tr>\n",
       "    <tr>\n",
       "      <th>91</th>\n",
       "      <td>first</td>\n",
       "      <td>PalmertheBaller !</td>\n",
       "      <td>1</td>\n",
       "      <td>2023-06-13T21:35:55Z</td>\n",
       "      <td>0</td>\n",
       "      <td>first</td>\n",
       "      <td>L65YD1QNc80</td>\n",
       "    </tr>\n",
       "    <tr>\n",
       "      <th>92</th>\n",
       "      <td>First</td>\n",
       "      <td>BavarianRides</td>\n",
       "      <td>0</td>\n",
       "      <td>2023-06-13T21:35:38Z</td>\n",
       "      <td>0</td>\n",
       "      <td>first</td>\n",
       "      <td>L65YD1QNc80</td>\n",
       "    </tr>\n",
       "    <tr>\n",
       "      <th>93</th>\n",
       "      <td>Benny boi it’s judgement day little jew I mean...</td>\n",
       "      <td>Fetty</td>\n",
       "      <td>0</td>\n",
       "      <td>2023-06-13T21:55:34Z</td>\n",
       "      <td>0</td>\n",
       "      <td>benny boi its judgement day little jew i mean ...</td>\n",
       "      <td>L65YD1QNc80</td>\n",
       "    </tr>\n",
       "    <tr>\n",
       "      <th>94</th>\n",
       "      <td>Only America should have bases all around the ...</td>\n",
       "      <td>The Mindful Way</td>\n",
       "      <td>1</td>\n",
       "      <td>2023-06-13T22:02:00Z</td>\n",
       "      <td>0</td>\n",
       "      <td>only america should have bases all around the ...</td>\n",
       "      <td>L65YD1QNc80</td>\n",
       "    </tr>\n",
       "    <tr>\n",
       "      <th>95</th>\n",
       "      <td>🚨🚨ON YOUTUBE TITLED:  GAVIN NEWSOM ABSOLUTELY ...</td>\n",
       "      <td>SFL</td>\n",
       "      <td>1</td>\n",
       "      <td>2023-06-14T00:02:59Z</td>\n",
       "      <td>0</td>\n",
       "      <td>🚨🚨on youtube titled  gavin newsom absolutely d...</td>\n",
       "      <td>L65YD1QNc80</td>\n",
       "    </tr>\n",
       "  </tbody>\n",
       "</table>\n",
       "<p>988 rows × 7 columns</p>\n",
       "</div>"
      ],
      "text/plain": [
       "                                              comment             author  \\\n",
       "0   That's actually brilliant, racist joke on both...       𝖘𝖎𝖗 NightOwl   \n",
       "1                         That mans a smooth criminal    Colonel Sanders   \n",
       "2   Bo Burnham was the comedian who turned YouTube...       Jaxon JAXOFF   \n",
       "3   As a white person, I can confirm that I love p...     Night Wizard63   \n",
       "4                                           He got em        Shaheer4771   \n",
       "..                                                ...                ...   \n",
       "91                                              first  PalmertheBaller !   \n",
       "92                                              First      BavarianRides   \n",
       "93  Benny boi it’s judgement day little jew I mean...              Fetty   \n",
       "94  Only America should have bases all around the ...    The Mindful Way   \n",
       "95  🚨🚨ON YOUTUBE TITLED:  GAVIN NEWSOM ABSOLUTELY ...                SFL   \n",
       "\n",
       "    likecount                  date  replies  \\\n",
       "0         500  2023-06-15T00:52:40Z        0   \n",
       "1         848  2023-06-15T00:25:00Z        5   \n",
       "2         130  2023-06-15T01:56:56Z        0   \n",
       "3         563  2023-06-15T00:09:13Z       32   \n",
       "4         210  2023-06-15T00:04:00Z        1   \n",
       "..        ...                   ...      ...   \n",
       "91          1  2023-06-13T21:35:55Z        0   \n",
       "92          0  2023-06-13T21:35:38Z        0   \n",
       "93          0  2023-06-13T21:55:34Z        0   \n",
       "94          1  2023-06-13T22:02:00Z        0   \n",
       "95          1  2023-06-14T00:02:59Z        0   \n",
       "\n",
       "                                        comment_clean     video_id  \n",
       "0   thats actually brilliant racist joke on both s...  t5lQG77XJQo  \n",
       "1                         that mans a smooth criminal  t5lQG77XJQo  \n",
       "2   bo burnham was the comedian who turned youtube...  t5lQG77XJQo  \n",
       "3   as a white person i can confirm that i love pe...  t5lQG77XJQo  \n",
       "4                                           he got em  t5lQG77XJQo  \n",
       "..                                                ...          ...  \n",
       "91                                              first  L65YD1QNc80  \n",
       "92                                              first  L65YD1QNc80  \n",
       "93  benny boi its judgement day little jew i mean ...  L65YD1QNc80  \n",
       "94  only america should have bases all around the ...  L65YD1QNc80  \n",
       "95  🚨🚨on youtube titled  gavin newsom absolutely d...  L65YD1QNc80  \n",
       "\n",
       "[988 rows x 7 columns]"
      ]
     },
     "execution_count": 20,
     "metadata": {},
     "output_type": "execute_result"
    }
   ],
   "source": [
    "channel_df"
   ]
  },
  {
   "cell_type": "code",
   "execution_count": 21,
   "id": "12cfdf02",
   "metadata": {},
   "outputs": [
    {
     "data": {
      "text/html": [
       "<div>\n",
       "<style scoped>\n",
       "    .dataframe tbody tr th:only-of-type {\n",
       "        vertical-align: middle;\n",
       "    }\n",
       "\n",
       "    .dataframe tbody tr th {\n",
       "        vertical-align: top;\n",
       "    }\n",
       "\n",
       "    .dataframe thead th {\n",
       "        text-align: right;\n",
       "    }\n",
       "</style>\n",
       "<table border=\"1\" class=\"dataframe\">\n",
       "  <thead>\n",
       "    <tr style=\"text-align: right;\">\n",
       "      <th></th>\n",
       "      <th>views</th>\n",
       "      <th>likes</th>\n",
       "      <th>comments</th>\n",
       "      <th>date</th>\n",
       "      <th>channel_id</th>\n",
       "      <th>title</th>\n",
       "      <th>description</th>\n",
       "      <th>thumbnail</th>\n",
       "      <th>channel_title</th>\n",
       "      <th>tags</th>\n",
       "      <th>genre</th>\n",
       "      <th>language</th>\n",
       "      <th>video_id</th>\n",
       "      <th>Total_Views</th>\n",
       "      <th>Sub_Count</th>\n",
       "      <th>Video_Count</th>\n",
       "    </tr>\n",
       "  </thead>\n",
       "  <tbody>\n",
       "    <tr>\n",
       "      <th>0</th>\n",
       "      <td>82133</td>\n",
       "      <td>12859</td>\n",
       "      <td>342</td>\n",
       "      <td>2023-06-15T00:00:19Z</td>\n",
       "      <td>UCnQC_G5Xsjhp9fEJKuIcrSw</td>\n",
       "      <td>This Is Good 😂</td>\n",
       "      <td>1️⃣ Click here to join the member exclusive po...</td>\n",
       "      <td>https://i.ytimg.com/vi/t5lQG77XJQo/maxresdefau...</td>\n",
       "      <td>Ben Shapiro</td>\n",
       "      <td>['comedian', 'coemdian ali', 'stand up comedia...</td>\n",
       "      <td>Entertainment</td>\n",
       "      <td>en</td>\n",
       "      <td>t5lQG77XJQo</td>\n",
       "      <td>1957862099</td>\n",
       "      <td>5890000</td>\n",
       "      <td>4320</td>\n",
       "    </tr>\n",
       "  </tbody>\n",
       "</table>\n",
       "</div>"
      ],
      "text/plain": [
       "   views  likes  comments                  date                channel_id  \\\n",
       "0  82133  12859       342  2023-06-15T00:00:19Z  UCnQC_G5Xsjhp9fEJKuIcrSw   \n",
       "\n",
       "            title                                        description  \\\n",
       "0  This Is Good 😂  1️⃣ Click here to join the member exclusive po...   \n",
       "\n",
       "                                           thumbnail channel_title  \\\n",
       "0  https://i.ytimg.com/vi/t5lQG77XJQo/maxresdefau...   Ben Shapiro   \n",
       "\n",
       "                                                tags          genre language  \\\n",
       "0  ['comedian', 'coemdian ali', 'stand up comedia...  Entertainment       en   \n",
       "\n",
       "      video_id  Total_Views  Sub_Count  Video_Count  \n",
       "0  t5lQG77XJQo   1957862099    5890000         4320  "
      ]
     },
     "execution_count": 21,
     "metadata": {},
     "output_type": "execute_result"
    }
   ],
   "source": [
    "channel_stats"
   ]
  },
  {
   "cell_type": "code",
   "execution_count": null,
   "id": "59523a53",
   "metadata": {},
   "outputs": [],
   "source": []
  }
 ],
 "metadata": {
  "kernelspec": {
   "display_name": "Python 3 (ipykernel)",
   "language": "python",
   "name": "python3"
  },
  "language_info": {
   "codemirror_mode": {
    "name": "ipython",
    "version": 3
   },
   "file_extension": ".py",
   "mimetype": "text/x-python",
   "name": "python",
   "nbconvert_exporter": "python",
   "pygments_lexer": "ipython3",
   "version": "3.10.6"
  },
  "toc": {
   "base_numbering": 1,
   "nav_menu": {},
   "number_sections": true,
   "sideBar": true,
   "skip_h1_title": false,
   "title_cell": "Table of Contents",
   "title_sidebar": "Contents",
   "toc_cell": false,
   "toc_position": {},
   "toc_section_display": true,
   "toc_window_display": false
  }
 },
 "nbformat": 4,
 "nbformat_minor": 5
}
